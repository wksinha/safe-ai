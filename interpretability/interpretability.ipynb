{
  "cells": [
    {
      "cell_type": "markdown",
      "metadata": {
        "id": "-2Nd-fgo-ZK-"
      },
      "source": [
        "# Interpretability Assignment"
      ]
    },
    {
      "cell_type": "markdown",
      "metadata": {
        "id": "sJZp2DEV-ZLB"
      },
      "source": [
        "Language models are trained to predict tokens given other tokens. More specifically, the autoregressive Language Modelling objective is given by the following distribution:\n",
        "\n",
        "$$\n",
        "P(w_{t} \\mid w_{t-1}, w_{t-2} \\dots w_0)\n",
        "$$\n",
        "\n",
        "The standard Transformer-based Language Model sees tokens as the lowest granularity of language. It sees tokens as entities and predicts other tokens. These models are not given the spelling of a token explicitly.\n",
        "\n",
        "The question we ask in this assignment is, \"to what extent do the representations of words from an LM encode character information?\"\n",
        "\n",
        "\"What is it about the Language Modelling objective that allows a model to deduce something about the characters of a token?\"\n",
        "\n",
        "\n",
        "To accomplish our purposes, we will conduct probing studies.\n",
        "- design a task that relies on the spelling of a word.\n",
        "- check if a thin (one layer) classifier can be trained on top of LM embeddings to do this task.\n",
        "- design a control to check whether the task is too easy."
      ]
    },
    {
      "cell_type": "code",
      "execution_count": null,
      "metadata": {
        "id": "-0iPI07B-ZLB"
      },
      "outputs": [],
      "source": [
        "import torch"
      ]
    },
    {
      "cell_type": "markdown",
      "metadata": {
        "id": "MHAseWuh-ZLD"
      },
      "source": [
        "## Initializing the model\n",
        "\n",
        "We will be studying a pretrained RoBERTa model. Run the cell below to initialize it."
      ]
    },
    {
      "cell_type": "code",
      "execution_count": null,
      "metadata": {
        "colab": {
          "base_uri": "https://localhost:8080/",
          "height": 372,
          "referenced_widgets": [
            "0a30ea7278a542a48d064c13a9f2f564",
            "73977fcc33db4993ae538113fd55d958",
            "6630c55653b74cc685adc21e43e3e27c",
            "1b61c63a5a1c4b44928c04b2223de25e",
            "82f19f2746b94c19a01c8eb2cc2c3aec",
            "4687fd638a20437dbfd1edd27e3f82a4",
            "fc4fbe068c3f4d6389896c2707902177",
            "bfdc07cafeaf4f4ab4f967692a7be0ac",
            "37a7e545b92e4229b43e48e25b28fd31",
            "f31ec087a1a94e1f9e4cc0b31a28f8e5",
            "7c44655abd204062beddca327e3d53ae",
            "ae481f491d97455f87d14e0506d3a002",
            "f7a1df23f7d44a44976cb15b8d883786",
            "701820568c3d4e829c51b10d07b19791",
            "e906473451134ae0b42c875839c662a1",
            "f6b450eb5d1149ad82bb93828af79c3e",
            "4166898d4bc34a2d83c34ac1f3736407",
            "65b61fd44d0d4ba783a97e68a5546c33",
            "f59b2b5819554099a9896b85e697c917",
            "bef7637684e04e7795c195904886557e",
            "c5cd7eac3b3949fca04e3fa72dc49d6f",
            "a1999136350f4dd891c81e5e2dc8e211",
            "de3e15ea3c354a2fab782e35ba4bdf8c",
            "04acb43bb1544473b64452002ed9aecb",
            "afb79a702fc84378a88687e4b2368a7e",
            "fbe32d3e28824f9a8b88f75a696e5936",
            "ef5d625b60904b1fa11538a79719f07f",
            "0e0d17e5edcd4c5b9f566124673247d5",
            "9a588d7c38904ea6938916c4d55ca447",
            "443b5972e94345a4859f01bf6f3b360d",
            "7513895c07204cba84abf3bd4d9c99e4",
            "9f368778c8204608b70106e16e5bc7f0",
            "380287814254421e818e668233911e62",
            "c3b064bdd8fd4f4fa07cae2b23f9b49e",
            "c8870a99c5624794ae8b765b1abac3d8",
            "1ff3c82571454895b048b1aa543d69cb",
            "5544d51a863b448fac148ae38eff5014",
            "b556fa2c1c3040cc865bea3f2ec1853f",
            "5399b566ae954a50b79444093f0a5715",
            "c1bc9154a1214adc9038f395bc348750",
            "5b4a9ab865ac47498aaeae6c6660fb8e",
            "3699f8e4cca3439c97ff71cf84901be3",
            "acbda02952f74030a50a96afac71b748",
            "bdb75ce57e6846ff92760353a38650de",
            "c61cf8d6c74d482e98f1a0e6df095889",
            "f5404864f16d4eb093dcac15b97d8781",
            "e027d27503944a3e909153b830e2029e",
            "ef39b07f70894e819d62bc9b073b85c4",
            "f48627035df04e3ab6f5a269c67dc6af",
            "b6e69b675fe14e98a7d8c2bc68cc9f1e",
            "31bc4a6f45c44a859e370b02dade5dd2",
            "9ed741b53e234a908e6bb7527f5e8182",
            "3753d7bef291440d90ca18e3a00c9163",
            "99b71ce11d5142a29658ff8cf2e66773",
            "00d61bfca1de41cf8784951cbe56ada9",
            "3a904eb9657e42d09b722802fab8e265",
            "53c0d9b0500641ff9ae861f380bc9cb3",
            "db60845f16d34c5d8f7d3f81d647c7df",
            "470ae970fa6e4a9bbb6c5307f080a7dd",
            "1550c358a1324ad7893396501a6e7488",
            "7e082986d8204b408ee4fcdfb301d1a3",
            "d79bbf436c6b47a0af2f2c4842f1ccb4",
            "be0f4dc19bd94d5a8256d285982dba4e",
            "ce46c9916ac240bfa2b9caefdb6d5ae7",
            "963c426b22f94b4e9f452cff2f5bea60",
            "2affbd1df31b454cac81940d3009b4af"
          ]
        },
        "id": "RbkNDa3--ZLD",
        "outputId": "9f930246-a8c5-4a48-9959-40fa1a6aa518"
      },
      "outputs": [
        {
          "output_type": "stream",
          "name": "stderr",
          "text": [
            "/usr/local/lib/python3.10/dist-packages/huggingface_hub/utils/_token.py:88: UserWarning: \n",
            "The secret `HF_TOKEN` does not exist in your Colab secrets.\n",
            "To authenticate with the Hugging Face Hub, create a token in your settings tab (https://huggingface.co/settings/tokens), set it as secret in your Google Colab and restart your session.\n",
            "You will be able to reuse this secret in all of your notebooks.\n",
            "Please note that authentication is recommended but still optional to access public models or datasets.\n",
            "  warnings.warn(\n"
          ]
        },
        {
          "output_type": "display_data",
          "data": {
            "text/plain": [
              "config.json:   0%|          | 0.00/481 [00:00<?, ?B/s]"
            ],
            "application/vnd.jupyter.widget-view+json": {
              "version_major": 2,
              "version_minor": 0,
              "model_id": "0a30ea7278a542a48d064c13a9f2f564"
            }
          },
          "metadata": {}
        },
        {
          "output_type": "display_data",
          "data": {
            "text/plain": [
              "model.safetensors:   0%|          | 0.00/499M [00:00<?, ?B/s]"
            ],
            "application/vnd.jupyter.widget-view+json": {
              "version_major": 2,
              "version_minor": 0,
              "model_id": "ae481f491d97455f87d14e0506d3a002"
            }
          },
          "metadata": {}
        },
        {
          "output_type": "stream",
          "name": "stderr",
          "text": [
            "Some weights of RobertaModel were not initialized from the model checkpoint at roberta-base and are newly initialized: ['roberta.pooler.dense.bias', 'roberta.pooler.dense.weight']\n",
            "You should probably TRAIN this model on a down-stream task to be able to use it for predictions and inference.\n"
          ]
        },
        {
          "output_type": "display_data",
          "data": {
            "text/plain": [
              "tokenizer_config.json:   0%|          | 0.00/25.0 [00:00<?, ?B/s]"
            ],
            "application/vnd.jupyter.widget-view+json": {
              "version_major": 2,
              "version_minor": 0,
              "model_id": "de3e15ea3c354a2fab782e35ba4bdf8c"
            }
          },
          "metadata": {}
        },
        {
          "output_type": "display_data",
          "data": {
            "text/plain": [
              "vocab.json:   0%|          | 0.00/899k [00:00<?, ?B/s]"
            ],
            "application/vnd.jupyter.widget-view+json": {
              "version_major": 2,
              "version_minor": 0,
              "model_id": "c3b064bdd8fd4f4fa07cae2b23f9b49e"
            }
          },
          "metadata": {}
        },
        {
          "output_type": "display_data",
          "data": {
            "text/plain": [
              "merges.txt:   0%|          | 0.00/456k [00:00<?, ?B/s]"
            ],
            "application/vnd.jupyter.widget-view+json": {
              "version_major": 2,
              "version_minor": 0,
              "model_id": "c61cf8d6c74d482e98f1a0e6df095889"
            }
          },
          "metadata": {}
        },
        {
          "output_type": "display_data",
          "data": {
            "text/plain": [
              "tokenizer.json:   0%|          | 0.00/1.36M [00:00<?, ?B/s]"
            ],
            "application/vnd.jupyter.widget-view+json": {
              "version_major": 2,
              "version_minor": 0,
              "model_id": "3a904eb9657e42d09b722802fab8e265"
            }
          },
          "metadata": {}
        }
      ],
      "source": [
        "# loading a small model\n",
        "\n",
        "from transformers import AutoTokenizer, AutoModel, AutoConfig\n",
        "\n",
        "config = AutoConfig.from_pretrained(\"roberta-base\")\n",
        "model = AutoModel.from_pretrained(\"roberta-base\", config=config)\n",
        "model.eval()\n",
        "model.cuda()\n",
        "tokenizer = AutoTokenizer.from_pretrained(\"roberta-base\")"
      ]
    },
    {
      "cell_type": "code",
      "source": [
        "model.eval()"
      ],
      "metadata": {
        "colab": {
          "base_uri": "https://localhost:8080/"
        },
        "id": "Yu4zIo9V_lOf",
        "outputId": "04200486-f209-46ca-e5be-f35a1bebc80f"
      },
      "execution_count": null,
      "outputs": [
        {
          "output_type": "execute_result",
          "data": {
            "text/plain": [
              "RobertaModel(\n",
              "  (embeddings): RobertaEmbeddings(\n",
              "    (word_embeddings): Embedding(50265, 768, padding_idx=1)\n",
              "    (position_embeddings): Embedding(514, 768, padding_idx=1)\n",
              "    (token_type_embeddings): Embedding(1, 768)\n",
              "    (LayerNorm): LayerNorm((768,), eps=1e-05, elementwise_affine=True)\n",
              "    (dropout): Dropout(p=0.1, inplace=False)\n",
              "  )\n",
              "  (encoder): RobertaEncoder(\n",
              "    (layer): ModuleList(\n",
              "      (0-11): 12 x RobertaLayer(\n",
              "        (attention): RobertaAttention(\n",
              "          (self): RobertaSelfAttention(\n",
              "            (query): Linear(in_features=768, out_features=768, bias=True)\n",
              "            (key): Linear(in_features=768, out_features=768, bias=True)\n",
              "            (value): Linear(in_features=768, out_features=768, bias=True)\n",
              "            (dropout): Dropout(p=0.1, inplace=False)\n",
              "          )\n",
              "          (output): RobertaSelfOutput(\n",
              "            (dense): Linear(in_features=768, out_features=768, bias=True)\n",
              "            (LayerNorm): LayerNorm((768,), eps=1e-05, elementwise_affine=True)\n",
              "            (dropout): Dropout(p=0.1, inplace=False)\n",
              "          )\n",
              "        )\n",
              "        (intermediate): RobertaIntermediate(\n",
              "          (dense): Linear(in_features=768, out_features=3072, bias=True)\n",
              "          (intermediate_act_fn): GELUActivation()\n",
              "        )\n",
              "        (output): RobertaOutput(\n",
              "          (dense): Linear(in_features=3072, out_features=768, bias=True)\n",
              "          (LayerNorm): LayerNorm((768,), eps=1e-05, elementwise_affine=True)\n",
              "          (dropout): Dropout(p=0.1, inplace=False)\n",
              "        )\n",
              "      )\n",
              "    )\n",
              "  )\n",
              "  (pooler): RobertaPooler(\n",
              "    (dense): Linear(in_features=768, out_features=768, bias=True)\n",
              "    (activation): Tanh()\n",
              "  )\n",
              ")"
            ]
          },
          "metadata": {},
          "execution_count": 3
        }
      ]
    },
    {
      "cell_type": "markdown",
      "metadata": {
        "id": "c55ZR1PR-ZLE"
      },
      "source": [
        "## Example tokenization\n",
        "\n",
        "Any input text given to the model is first toknized. Typically this is sub-word tokenization i.e. words are broken down further.\n",
        "\n",
        "A sub subword is the most atomic input given to a language model. For example."
      ]
    },
    {
      "cell_type": "code",
      "execution_count": null,
      "metadata": {
        "colab": {
          "base_uri": "https://localhost:8080/"
        },
        "id": "OBsv-9ZU-ZLE",
        "outputId": "6efe987e-ad6d-445f-9dfe-432bc0201db1"
      },
      "outputs": [
        {
          "output_type": "execute_result",
          "data": {
            "text/plain": [
              "['This', 'Ġis', 'Ġan', 'Ġexample', 'Ġtoken', 'ization']"
            ]
          },
          "metadata": {},
          "execution_count": 4
        }
      ],
      "source": [
        "sentence = \"This is an example tokenization\"\n",
        "tokenizer.tokenize(sentence)"
      ]
    },
    {
      "cell_type": "markdown",
      "metadata": {
        "id": "CbOwkatj-ZLE"
      },
      "source": [
        "As can be seen above, the word \"tokenzation\" has been broken down into \"token\" and \"ization\"\n",
        "\n",
        "There is no explicit granulairity more than this. In other words, the model __does not directly__ see letters of a word.\n",
        "\n",
        "The Language Model is trained to predict the next token given the previous tokens. Should this give it a sense of what letters exist in that token?"
      ]
    },
    {
      "cell_type": "markdown",
      "metadata": {
        "id": "O64SZTrO-ZLF"
      },
      "source": [
        "## Experiment 1\n",
        "\n",
        "Can the model do something simple like distinguish between capitalized and non-capitalized words?\n",
        "\n",
        "In other words, we ask if there is a reliable signal in the representations from the model for us to be able to predict whether a word is capitalized or not."
      ]
    },
    {
      "cell_type": "markdown",
      "metadata": {
        "id": "Sz8MpOee-ZLF"
      },
      "source": [
        "### Q1.1 Make appropriate dataset"
      ]
    },
    {
      "cell_type": "code",
      "source": [
        "!git clone https://github.com/dwyl/english-words.git"
      ],
      "metadata": {
        "colab": {
          "base_uri": "https://localhost:8080/"
        },
        "id": "ctvxtv9K_AIh",
        "outputId": "08b95676-b554-4b0b-8bbd-9ef32e402132"
      },
      "execution_count": null,
      "outputs": [
        {
          "output_type": "stream",
          "name": "stdout",
          "text": [
            "Cloning into 'english-words'...\n",
            "remote: Enumerating objects: 248, done.\u001b[K\n",
            "remote: Counting objects: 100% (125/125), done.\u001b[K\n",
            "remote: Compressing objects: 100% (42/42), done.\u001b[K\n",
            "remote: Total 248 (delta 97), reused 83 (delta 83), pack-reused 123\u001b[K\n",
            "Receiving objects: 100% (248/248), 27.63 MiB | 18.98 MiB/s, done.\n",
            "Resolving deltas: 100% (117/117), done.\n"
          ]
        }
      ]
    },
    {
      "cell_type": "code",
      "execution_count": null,
      "metadata": {
        "id": "fHckGkST-ZLF"
      },
      "outputs": [],
      "source": [
        "words_list = []\n",
        "with open(\"english-words/words_alpha.txt\") as f:\n",
        "    for line in f:\n",
        "        words_list.append(line.strip())"
      ]
    },
    {
      "cell_type": "markdown",
      "metadata": {
        "id": "swcHA8Ek-ZLG"
      },
      "source": [
        "Take the word list and phrase a classification problem to check the above sub-task:\n",
        "\n",
        "- Make a train set\n",
        "- Make a validation set\n",
        "- Make a test set"
      ]
    },
    {
      "cell_type": "code",
      "execution_count": null,
      "metadata": {
        "id": "--sZ0Xl1-ZLG"
      },
      "outputs": [],
      "source": [
        "word_list_small = [word.lower() for word in words_list]\n",
        "dataset = []\n",
        "\n",
        "label = 0\n",
        "import random\n",
        "for i, word in enumerate(word_list_small):\n",
        "    if random.random() > 0.5:\n",
        "        label = 1\n",
        "        word = word.capitalize()\n",
        "    else:\n",
        "        label = 0\n",
        "    dataset.append((word, label,))"
      ]
    },
    {
      "cell_type": "code",
      "execution_count": null,
      "metadata": {
        "id": "-8KyzYmV-ZLH"
      },
      "outputs": [],
      "source": [
        "from sklearn.model_selection import train_test_split\n",
        "# split into three\n",
        "train, test = train_test_split(dataset, test_size=0.2)\n",
        "train, val = train_test_split(train, test_size=0.2)"
      ]
    },
    {
      "cell_type": "code",
      "execution_count": null,
      "metadata": {
        "id": "ftbYQSGL-ZLH",
        "outputId": "9b828181-c9b7-4b52-c02a-137d2a3e65c0",
        "colab": {
          "base_uri": "https://localhost:8080/"
        }
      },
      "outputs": [
        {
          "output_type": "stream",
          "name": "stdout",
          "text": [
            "All checks passed\n"
          ]
        }
      ],
      "source": [
        "def check_train_val_test_splits(train, val, test):\n",
        "    assert len(train) > 0\n",
        "    assert len(val) > 0\n",
        "    assert len(test) > 0\n",
        "    train_set = set(train)\n",
        "    val_set = set(val)\n",
        "    test_set = set(test)\n",
        "    assert len(train_set.intersection(val_set)) == 0\n",
        "    assert len(train_set.intersection(test_set)) == 0\n",
        "    assert len(val_set.intersection(test_set)) == 0\n",
        "    print(\"All checks passed\")\n",
        "\n",
        "\n",
        "# pass your datasets here\n",
        "check_train_val_test_splits(train, val, test)"
      ]
    },
    {
      "cell_type": "code",
      "execution_count": null,
      "metadata": {
        "id": "4INUU6JA-ZLH"
      },
      "outputs": [],
      "source": [
        "DEVICE = \"cuda\""
      ]
    },
    {
      "cell_type": "markdown",
      "metadata": {
        "id": "1axFQ9X5-ZLI"
      },
      "source": [
        "### Get the embeddings from the model for those words"
      ]
    },
    {
      "cell_type": "code",
      "execution_count": null,
      "metadata": {
        "id": "_XaWlQBL-ZLI"
      },
      "outputs": [],
      "source": [
        "def get_embeddings_all_layers(model, tokenizer, data, pool_func, layer=-1,):\n",
        "    embed_list = []\n",
        "    for word, label in data:\n",
        "        # print(word)\n",
        "        inputs = tokenizer(word, return_tensors=\"pt\").to(device=DEVICE)\n",
        "        # print(inputs)\n",
        "        embeddings = model(**inputs, output_hidden_states=True)\n",
        "        # embeddings = torch.stack(outputs.hidden_states).squeeze()\n",
        "        # print(len(embeddings.hidden_states))\n",
        "        embeddings = embeddings.hidden_states[layer].detach().cpu().numpy()\n",
        "        embeddings = pool_func(embeddings, dim=-2)\n",
        "        embed_list.append(embeddings)\n",
        "    return embed_list"
      ]
    },
    {
      "cell_type": "code",
      "source": [
        "import torch\n",
        "import numpy as np\n",
        "\n",
        "check_data = [(\"warul\", \"student\")]\n",
        "get_embeddings_all_layers(model, tokenizer, check_data, pool_func=lambda x, dim: np.mean(x, axis=dim), layer=-1)\n",
        "print(\"Checked\")"
      ],
      "metadata": {
        "colab": {
          "base_uri": "https://localhost:8080/"
        },
        "id": "7EdSPu4Avhrs",
        "outputId": "957b594e-010e-4967-9cb5-6d562ca4ba10"
      },
      "execution_count": null,
      "outputs": [
        {
          "output_type": "stream",
          "name": "stdout",
          "text": [
            "Checked\n"
          ]
        }
      ]
    },
    {
      "cell_type": "code",
      "execution_count": null,
      "metadata": {
        "id": "GOFd-7LY-ZLI"
      },
      "outputs": [],
      "source": [
        "# randomly chose 50% of the train data\n",
        "train_small = random.sample(train, int(len(train) * 0.005))\n",
        "test_small = random.sample(test, int(len(train) * 0.005))\n",
        "\n",
        "\n",
        "embeds = get_embeddings_all_layers(model, tokenizer, train_small, pool_func=lambda x, dim: np.mean(x, axis=dim), layer=-1)\n",
        "embeds_test = get_embeddings_all_layers(model, tokenizer, test_small, pool_func=lambda x, dim: np.mean(x, axis=dim), layer=-1)\n",
        "\n",
        "\n",
        "assert embeds[0].shape[-1] == config.hidden_size\n"
      ]
    },
    {
      "cell_type": "code",
      "execution_count": null,
      "metadata": {
        "id": "1zmeiI4H-ZLI",
        "colab": {
          "base_uri": "https://localhost:8080/"
        },
        "outputId": "92e36dba-27d3-4a31-8589-8fc6d9dc5005"
      },
      "outputs": [
        {
          "output_type": "stream",
          "name": "stdout",
          "text": [
            "1184\n",
            "1\n",
            "768\n"
          ]
        }
      ],
      "source": [
        "# concatenate the embeddings\n",
        "print(len(embeds))\n",
        "mx = 0\n",
        "for i in range(1184):\n",
        "  mx = max(mx, len(embeds[i]))\n",
        "print(mx)\n",
        "print(len(embeds[0][0]))"
      ]
    },
    {
      "cell_type": "code",
      "source": [
        "embeds = np.concatenate(embeds, axis=0)\n",
        "embeds_test = np.concatenate(embeds_test, axis=0)"
      ],
      "metadata": {
        "id": "68-qbFWUK8UT"
      },
      "execution_count": null,
      "outputs": []
    },
    {
      "cell_type": "code",
      "execution_count": null,
      "metadata": {
        "id": "jfua90iI-ZLJ",
        "colab": {
          "base_uri": "https://localhost:8080/"
        },
        "outputId": "dffdaf92-7895-47a8-a7dc-99abf1f357d7"
      },
      "outputs": [
        {
          "output_type": "execute_result",
          "data": {
            "text/plain": [
              "array([[ 0.01795859,  0.04817585,  0.16921423, ..., -0.02041177,\n",
              "         0.02306178,  0.02147947],\n",
              "       [ 0.00236014,  0.10202327,  0.06134211, ..., -0.12696858,\n",
              "        -0.00063394, -0.01768548],\n",
              "       [-0.012165  ,  0.02392032,  0.06186189, ..., -0.05552826,\n",
              "         0.01242237, -0.02023846],\n",
              "       ...,\n",
              "       [-0.01271607,  0.18692024, -0.01790146, ..., -0.04053653,\n",
              "        -0.11456251, -0.01451407],\n",
              "       [-0.06040657,  0.00056395,  0.03959761, ..., -0.00684818,\n",
              "         0.05830708,  0.10657257],\n",
              "       [-0.03056503,  0.07005043,  0.05705455, ...,  0.01839833,\n",
              "        -0.0852409 , -0.00707278]], dtype=float32)"
            ]
          },
          "metadata": {},
          "execution_count": 18
        }
      ],
      "source": [
        "embeds"
      ]
    },
    {
      "cell_type": "code",
      "source": [
        "embeds.shape"
      ],
      "metadata": {
        "colab": {
          "base_uri": "https://localhost:8080/"
        },
        "id": "tpf6Smt3__Sc",
        "outputId": "71f8f106-d06f-42d2-f136-a1c245af5761"
      },
      "execution_count": null,
      "outputs": [
        {
          "output_type": "execute_result",
          "data": {
            "text/plain": [
              "(1184, 768)"
            ]
          },
          "metadata": {},
          "execution_count": 19
        }
      ]
    },
    {
      "cell_type": "code",
      "source": [
        "embeds_test.shape"
      ],
      "metadata": {
        "colab": {
          "base_uri": "https://localhost:8080/"
        },
        "id": "BCzx41wbACu9",
        "outputId": "c3fc838c-dc59-42a3-d472-7ae926784037"
      },
      "execution_count": null,
      "outputs": [
        {
          "output_type": "execute_result",
          "data": {
            "text/plain": [
              "(1184, 768)"
            ]
          },
          "metadata": {},
          "execution_count": 20
        }
      ]
    },
    {
      "cell_type": "markdown",
      "metadata": {
        "id": "EiX1xe7G-ZLJ"
      },
      "source": [
        "### Make a classifier"
      ]
    },
    {
      "cell_type": "code",
      "execution_count": null,
      "metadata": {
        "id": "EFYJaM16-ZLJ"
      },
      "outputs": [],
      "source": [
        "from sklearn.linear_model import LogisticRegression"
      ]
    },
    {
      "cell_type": "code",
      "execution_count": null,
      "metadata": {
        "id": "NHVxnej4-ZLJ",
        "outputId": "a2529975-8960-4083-cb86-f96285731915",
        "colab": {
          "base_uri": "https://localhost:8080/",
          "height": 74
        }
      },
      "outputs": [
        {
          "output_type": "execute_result",
          "data": {
            "text/plain": [
              "LogisticRegression(max_iter=1000)"
            ],
            "text/html": [
              "<style>#sk-container-id-1 {color: black;background-color: white;}#sk-container-id-1 pre{padding: 0;}#sk-container-id-1 div.sk-toggleable {background-color: white;}#sk-container-id-1 label.sk-toggleable__label {cursor: pointer;display: block;width: 100%;margin-bottom: 0;padding: 0.3em;box-sizing: border-box;text-align: center;}#sk-container-id-1 label.sk-toggleable__label-arrow:before {content: \"▸\";float: left;margin-right: 0.25em;color: #696969;}#sk-container-id-1 label.sk-toggleable__label-arrow:hover:before {color: black;}#sk-container-id-1 div.sk-estimator:hover label.sk-toggleable__label-arrow:before {color: black;}#sk-container-id-1 div.sk-toggleable__content {max-height: 0;max-width: 0;overflow: hidden;text-align: left;background-color: #f0f8ff;}#sk-container-id-1 div.sk-toggleable__content pre {margin: 0.2em;color: black;border-radius: 0.25em;background-color: #f0f8ff;}#sk-container-id-1 input.sk-toggleable__control:checked~div.sk-toggleable__content {max-height: 200px;max-width: 100%;overflow: auto;}#sk-container-id-1 input.sk-toggleable__control:checked~label.sk-toggleable__label-arrow:before {content: \"▾\";}#sk-container-id-1 div.sk-estimator input.sk-toggleable__control:checked~label.sk-toggleable__label {background-color: #d4ebff;}#sk-container-id-1 div.sk-label input.sk-toggleable__control:checked~label.sk-toggleable__label {background-color: #d4ebff;}#sk-container-id-1 input.sk-hidden--visually {border: 0;clip: rect(1px 1px 1px 1px);clip: rect(1px, 1px, 1px, 1px);height: 1px;margin: -1px;overflow: hidden;padding: 0;position: absolute;width: 1px;}#sk-container-id-1 div.sk-estimator {font-family: monospace;background-color: #f0f8ff;border: 1px dotted black;border-radius: 0.25em;box-sizing: border-box;margin-bottom: 0.5em;}#sk-container-id-1 div.sk-estimator:hover {background-color: #d4ebff;}#sk-container-id-1 div.sk-parallel-item::after {content: \"\";width: 100%;border-bottom: 1px solid gray;flex-grow: 1;}#sk-container-id-1 div.sk-label:hover label.sk-toggleable__label {background-color: #d4ebff;}#sk-container-id-1 div.sk-serial::before {content: \"\";position: absolute;border-left: 1px solid gray;box-sizing: border-box;top: 0;bottom: 0;left: 50%;z-index: 0;}#sk-container-id-1 div.sk-serial {display: flex;flex-direction: column;align-items: center;background-color: white;padding-right: 0.2em;padding-left: 0.2em;position: relative;}#sk-container-id-1 div.sk-item {position: relative;z-index: 1;}#sk-container-id-1 div.sk-parallel {display: flex;align-items: stretch;justify-content: center;background-color: white;position: relative;}#sk-container-id-1 div.sk-item::before, #sk-container-id-1 div.sk-parallel-item::before {content: \"\";position: absolute;border-left: 1px solid gray;box-sizing: border-box;top: 0;bottom: 0;left: 50%;z-index: -1;}#sk-container-id-1 div.sk-parallel-item {display: flex;flex-direction: column;z-index: 1;position: relative;background-color: white;}#sk-container-id-1 div.sk-parallel-item:first-child::after {align-self: flex-end;width: 50%;}#sk-container-id-1 div.sk-parallel-item:last-child::after {align-self: flex-start;width: 50%;}#sk-container-id-1 div.sk-parallel-item:only-child::after {width: 0;}#sk-container-id-1 div.sk-dashed-wrapped {border: 1px dashed gray;margin: 0 0.4em 0.5em 0.4em;box-sizing: border-box;padding-bottom: 0.4em;background-color: white;}#sk-container-id-1 div.sk-label label {font-family: monospace;font-weight: bold;display: inline-block;line-height: 1.2em;}#sk-container-id-1 div.sk-label-container {text-align: center;}#sk-container-id-1 div.sk-container {/* jupyter's `normalize.less` sets `[hidden] { display: none; }` but bootstrap.min.css set `[hidden] { display: none !important; }` so we also need the `!important` here to be able to override the default hidden behavior on the sphinx rendered scikit-learn.org. See: https://github.com/scikit-learn/scikit-learn/issues/21755 */display: inline-block !important;position: relative;}#sk-container-id-1 div.sk-text-repr-fallback {display: none;}</style><div id=\"sk-container-id-1\" class=\"sk-top-container\"><div class=\"sk-text-repr-fallback\"><pre>LogisticRegression(max_iter=1000)</pre><b>In a Jupyter environment, please rerun this cell to show the HTML representation or trust the notebook. <br />On GitHub, the HTML representation is unable to render, please try loading this page with nbviewer.org.</b></div><div class=\"sk-container\" hidden><div class=\"sk-item\"><div class=\"sk-estimator sk-toggleable\"><input class=\"sk-toggleable__control sk-hidden--visually\" id=\"sk-estimator-id-1\" type=\"checkbox\" checked><label for=\"sk-estimator-id-1\" class=\"sk-toggleable__label sk-toggleable__label-arrow\">LogisticRegression</label><div class=\"sk-toggleable__content\"><pre>LogisticRegression(max_iter=1000)</pre></div></div></div></div></div>"
            ]
          },
          "metadata": {},
          "execution_count": 22
        }
      ],
      "source": [
        "log_regress = LogisticRegression(max_iter=1000)\n",
        "log_regress.fit(embeds, [train_small[i][1] for i in range(len(train_small))])"
      ]
    },
    {
      "cell_type": "code",
      "execution_count": null,
      "metadata": {
        "id": "__IcMjq2-ZLJ"
      },
      "outputs": [],
      "source": [
        "from sklearn.metrics import classification_report"
      ]
    },
    {
      "cell_type": "code",
      "execution_count": null,
      "metadata": {
        "id": "mMXoM4y--ZLK",
        "outputId": "be2fc3ea-d21b-4b60-a7ef-5a021b9088fd",
        "colab": {
          "base_uri": "https://localhost:8080/"
        }
      },
      "outputs": [
        {
          "output_type": "stream",
          "name": "stdout",
          "text": [
            "              precision    recall  f1-score   support\n",
            "\n",
            "           0       0.99      1.00      0.99       585\n",
            "           1       1.00      0.99      0.99       599\n",
            "\n",
            "    accuracy                           0.99      1184\n",
            "   macro avg       0.99      0.99      0.99      1184\n",
            "weighted avg       0.99      0.99      0.99      1184\n",
            "\n"
          ]
        }
      ],
      "source": [
        "print(classification_report([test_small[i][1] for i in range(len(test_small))], log_regress.predict(embeds_test)))"
      ]
    },
    {
      "cell_type": "markdown",
      "metadata": {
        "id": "Z8G6mvS5-ZLK"
      },
      "source": [
        "## Extracting specific letter information from encodings\n",
        "\n",
        "Check if the model embeddings encode information about the _first_ letter of a word.\n",
        "\n",
        "Code up the experiment for this\n",
        "\n",
        "- Make a balanced dataset __[4]__\n",
        "- Train a classifier __[2]__\n",
        "- Print a  classification report (precision and recall for all classes) __[2]__\n"
      ]
    },
    {
      "cell_type": "code",
      "source": [
        "words_set = set(word_list_small)\n",
        "print(words_list == word_list_small)"
      ],
      "metadata": {
        "id": "wvGSGLvkCQLD",
        "colab": {
          "base_uri": "https://localhost:8080/"
        },
        "outputId": "7adf24e0-d96d-4174-8adf-97df3da36f1e"
      },
      "execution_count": null,
      "outputs": [
        {
          "output_type": "stream",
          "name": "stdout",
          "text": [
            "True\n"
          ]
        }
      ]
    },
    {
      "cell_type": "code",
      "source": [
        "print(len(words_set), len(set(words_list)))"
      ],
      "metadata": {
        "colab": {
          "base_uri": "https://localhost:8080/"
        },
        "id": "h_lCyjLACVOc",
        "outputId": "ccbf484e-1682-4b3f-d294-432ee40efa1c"
      },
      "execution_count": null,
      "outputs": [
        {
          "output_type": "stream",
          "name": "stdout",
          "text": [
            "370105 370105\n"
          ]
        }
      ]
    },
    {
      "cell_type": "code",
      "source": [
        "words_of_interest = []\n",
        "any_freq_by_first_char = {}\n",
        "for word in words_list:\n",
        "  words_of_interest.append(word)\n",
        "  first_char = word[0]\n",
        "  prev_freq = any_freq_by_first_char.get(first_char, 0)\n",
        "  any_freq_by_first_char[first_char] = 1 + prev_freq\n",
        "\n",
        "word_count = len(words_of_interest)\n",
        "print(word_count)\n",
        "print(any_freq_by_first_char)\n",
        "print(f\"{max(any_freq_by_first_char.values())}, {min(any_freq_by_first_char.values())}\")"
      ],
      "metadata": {
        "colab": {
          "base_uri": "https://localhost:8080/"
        },
        "id": "7Ni0WbasaISE",
        "outputId": "0fd105ad-2967-4919-f737-136899ee6bfe"
      },
      "execution_count": null,
      "outputs": [
        {
          "output_type": "stream",
          "name": "stdout",
          "text": [
            "370105\n",
            "{'a': 25417, 'b': 18413, 'c': 32107, 'd': 18733, 'e': 14197, 'f': 11893, 'g': 10953, 'h': 13743, 'i': 13199, 'y': 1143, 'j': 2840, 'k': 3952, 'l': 10002, 'm': 19805, 'n': 13459, 'o': 12681, 'p': 34860, 'q': 1793, 'r': 16783, 's': 38764, 't': 18819, 'u': 22767, 'v': 5329, 'w': 6559, 'x': 507, 'z': 1387}\n",
            "38764, 507\n"
          ]
        }
      ]
    },
    {
      "cell_type": "code",
      "source": [
        "# https://scikit-learn.org/stable/modules/generated/sklearn.ensemble.RandomForestClassifier.html#sklearn.ensemble.RandomForestClassifier\n",
        "from sklearn.ensemble import RandomForestClassifier\n",
        "\n",
        "SELECTION_COUNT = 20 # selecting 20 words with each different starting character\n",
        "\n",
        "any_balanced_inputs = []\n",
        "for word in words_list:\n",
        "  first_char = word[0]\n",
        "  selection_probability = SELECTION_COUNT / any_freq_by_first_char[first_char]\n",
        "  if random.random() < selection_probability:\n",
        "    any_balanced_inputs.append(word)\n",
        "\n",
        "# print(len(any_balanced_inputs))\n",
        "any_freq_by_label = {}\n",
        "for word in any_balanced_inputs:\n",
        "  label = word[0]\n",
        "  prev_freq = any_freq_by_label.get(label, 0)\n",
        "  any_freq_by_label[label] = 1 + prev_freq\n",
        "# print(any_freq_by_label)\n",
        "\n",
        "any_train_inputs = []\n",
        "any_train_labels = []\n",
        "any_test_inputs = []\n",
        "any_test_labels = []\n",
        "for word in any_balanced_inputs:\n",
        "  if random.random() < 0.8:\n",
        "    any_train_inputs.append(word)\n",
        "    any_train_labels.append(word[0])\n",
        "  else:\n",
        "    any_test_inputs.append(word)\n",
        "    any_test_labels.append(word[0])\n",
        "\n",
        "any_train_data = [(any_train_inputs[i], any_train_labels[i]) for i in range(len(any_train_inputs))]\n",
        "any_test_data = [(any_test_inputs[i], any_test_labels[i]) for i in range(len(any_test_inputs))]\n",
        "\n",
        "any_embeds_all = get_embeddings_all_layers(model, tokenizer, any_train_data, pool_func=lambda x, dim: np.mean(x, axis=dim), layer=-1)\n",
        "any_embeds_all_test = get_embeddings_all_layers(model, tokenizer, any_test_data, pool_func=lambda x, dim: np.mean(x, axis=dim), layer=-1)\n",
        "\n",
        "any_embeds_all = np.concatenate(any_embeds_all, axis=0)\n",
        "any_embeds_all_test = np.concatenate(any_embeds_all_test, axis=0)\n",
        "\n",
        "any_rfc_all = RandomForestClassifier(random_state=0)\n",
        "any_rfc_all.fit(any_embeds_all, any_train_labels)\n",
        "\n",
        "print(classification_report(any_test_labels, any_rfc_all.predict(any_embeds_all_test)))"
      ],
      "metadata": {
        "colab": {
          "base_uri": "https://localhost:8080/"
        },
        "id": "E-RLncH8aUrN",
        "outputId": "78914d9f-c3ce-4a66-88b7-7e6ffe071180"
      },
      "execution_count": null,
      "outputs": [
        {
          "output_type": "stream",
          "name": "stdout",
          "text": [
            "              precision    recall  f1-score   support\n",
            "\n",
            "           a       0.00      0.00      0.00         6\n",
            "           b       0.12      0.33      0.18         3\n",
            "           c       0.00      0.00      0.00         4\n",
            "           d       0.17      0.14      0.15         7\n",
            "           e       0.07      0.33      0.12         3\n",
            "           f       0.50      0.50      0.50         6\n",
            "           g       0.30      0.43      0.35         7\n",
            "           h       0.43      0.38      0.40         8\n",
            "           i       0.00      0.00      0.00         1\n",
            "           j       0.33      0.17      0.22         6\n",
            "           k       0.00      0.00      0.00         4\n",
            "           l       0.00      0.00      0.00         4\n",
            "           m       0.25      0.17      0.20         6\n",
            "           n       0.00      0.00      0.00         3\n",
            "           o       0.00      0.00      0.00         2\n",
            "           p       0.50      0.11      0.18         9\n",
            "           q       0.67      0.33      0.44         6\n",
            "           r       0.00      0.00      0.00         4\n",
            "           s       0.00      0.00      0.00         4\n",
            "           t       0.00      0.00      0.00         4\n",
            "           u       0.00      0.00      0.00         4\n",
            "           v       0.00      0.00      0.00         7\n",
            "           w       0.67      0.50      0.57         4\n",
            "           x       0.33      0.75      0.46         4\n",
            "           y       0.08      0.20      0.12         5\n",
            "           z       0.20      0.33      0.25         3\n",
            "\n",
            "    accuracy                           0.19       124\n",
            "   macro avg       0.18      0.18      0.16       124\n",
            "weighted avg       0.22      0.19      0.19       124\n",
            "\n"
          ]
        },
        {
          "output_type": "stream",
          "name": "stderr",
          "text": [
            "/usr/local/lib/python3.10/dist-packages/sklearn/metrics/_classification.py:1344: UndefinedMetricWarning: Precision and F-score are ill-defined and being set to 0.0 in labels with no predicted samples. Use `zero_division` parameter to control this behavior.\n",
            "  _warn_prf(average, modifier, msg_start, len(result))\n",
            "/usr/local/lib/python3.10/dist-packages/sklearn/metrics/_classification.py:1344: UndefinedMetricWarning: Precision and F-score are ill-defined and being set to 0.0 in labels with no predicted samples. Use `zero_division` parameter to control this behavior.\n",
            "  _warn_prf(average, modifier, msg_start, len(result))\n",
            "/usr/local/lib/python3.10/dist-packages/sklearn/metrics/_classification.py:1344: UndefinedMetricWarning: Precision and F-score are ill-defined and being set to 0.0 in labels with no predicted samples. Use `zero_division` parameter to control this behavior.\n",
            "  _warn_prf(average, modifier, msg_start, len(result))\n"
          ]
        }
      ]
    },
    {
      "cell_type": "code",
      "source": [
        "# https://scikit-learn.org/stable/modules/generated/sklearn.ensemble.RandomForestClassifier.html#sklearn.ensemble.RandomForestClassifier\n",
        "from sklearn.ensemble import RandomForestClassifier\n",
        "\n",
        "SELECTION_COUNT = 200 # selecting 200 words with each different starting character\n",
        "\n",
        "any_balanced_inputs = []\n",
        "for word in words_list:\n",
        "  first_char = word[0]\n",
        "  selection_probability = SELECTION_COUNT / any_freq_by_first_char[first_char]\n",
        "  if random.random() < selection_probability:\n",
        "    any_balanced_inputs.append(word)\n",
        "\n",
        "# print(len(any_balanced_inputs))\n",
        "any_freq_by_label = {}\n",
        "for word in any_balanced_inputs:\n",
        "  label = word[0]\n",
        "  prev_freq = any_freq_by_label.get(label, 0)\n",
        "  any_freq_by_label[label] = 1 + prev_freq\n",
        "# print(any_freq_by_label)\n",
        "\n",
        "any_train_inputs = []\n",
        "any_train_labels = []\n",
        "any_test_inputs = []\n",
        "any_test_labels = []\n",
        "for word in any_balanced_inputs:\n",
        "  if random.random() < 0.8:\n",
        "    any_train_inputs.append(word)\n",
        "    any_train_labels.append(word[0])\n",
        "  else:\n",
        "    any_test_inputs.append(word)\n",
        "    any_test_labels.append(word[0])\n",
        "\n",
        "any_train_data = [(any_train_inputs[i], any_train_labels[i]) for i in range(len(any_train_inputs))]\n",
        "any_test_data = [(any_test_inputs[i], any_test_labels[i]) for i in range(len(any_test_inputs))]\n",
        "\n",
        "any_embeds_all = get_embeddings_all_layers(model, tokenizer, any_train_data, pool_func=lambda x, dim: np.mean(x, axis=dim), layer=-1)\n",
        "any_embeds_all_test = get_embeddings_all_layers(model, tokenizer, any_test_data, pool_func=lambda x, dim: np.mean(x, axis=dim), layer=-1)\n",
        "\n",
        "any_embeds_all = np.concatenate(any_embeds_all, axis=0)\n",
        "any_embeds_all_test = np.concatenate(any_embeds_all_test, axis=0)\n",
        "\n",
        "any_rfc_all = RandomForestClassifier(random_state=0)\n",
        "any_rfc_all.fit(any_embeds_all, any_train_labels)\n",
        "\n",
        "print(classification_report(any_test_labels, any_rfc_all.predict(any_embeds_all_test)))"
      ],
      "metadata": {
        "colab": {
          "base_uri": "https://localhost:8080/"
        },
        "id": "_JtBWTNNdFoQ",
        "outputId": "929542d1-9f3c-4707-97aa-c95069967fe2"
      },
      "execution_count": null,
      "outputs": [
        {
          "output_type": "stream",
          "name": "stdout",
          "text": [
            "              precision    recall  f1-score   support\n",
            "\n",
            "           a       0.11      0.12      0.11        34\n",
            "           b       0.21      0.45      0.29        31\n",
            "           c       0.18      0.15      0.16        34\n",
            "           d       0.43      0.46      0.44        35\n",
            "           e       0.30      0.17      0.22        42\n",
            "           f       0.32      0.33      0.33        33\n",
            "           g       0.25      0.30      0.27        43\n",
            "           h       0.25      0.33      0.29        39\n",
            "           i       0.20      0.34      0.26        35\n",
            "           j       0.33      0.55      0.41        31\n",
            "           k       0.72      0.57      0.64        40\n",
            "           l       0.37      0.49      0.42        35\n",
            "           m       0.19      0.07      0.10        45\n",
            "           n       0.57      0.40      0.47        43\n",
            "           o       0.57      0.26      0.35        47\n",
            "           p       0.21      0.22      0.21        27\n",
            "           q       0.64      0.61      0.63        44\n",
            "           r       0.27      0.35      0.30        40\n",
            "           s       0.13      0.04      0.07        46\n",
            "           t       0.19      0.11      0.14        38\n",
            "           u       0.52      0.65      0.58        37\n",
            "           v       0.50      0.35      0.41        34\n",
            "           w       0.56      0.42      0.48        45\n",
            "           x       0.57      0.96      0.71        45\n",
            "           y       0.72      0.67      0.70        46\n",
            "           z       0.46      0.51      0.48        47\n",
            "\n",
            "    accuracy                           0.38      1016\n",
            "   macro avg       0.38      0.38      0.36      1016\n",
            "weighted avg       0.39      0.38      0.37      1016\n",
            "\n"
          ]
        }
      ]
    },
    {
      "cell_type": "markdown",
      "source": [
        "## We see significant improvements on increasing the size of the dataset.\n",
        "## Going forward we enforce the property that only words whose first token is not a word in words_list will be considered.\n",
        "- On the obtained dataset, we will do a study to see whether models learn semantics or spellings.\n",
        "- Since, the above property is sparse, the dataset size shall be limited, which would understandably impact performance. Through the study, our goal is to find relative performance"
      ],
      "metadata": {
        "id": "-pojO8Lwcovl"
      }
    },
    {
      "cell_type": "markdown",
      "source": [
        "# Task1: Conclusion\n",
        "The model has some notion of the first letter of the word as it outperforms the random case (1/26) by an over an order of magnitude for the given dataset. Although the performance is better than random, it is not exceptional, and considering the small size of the dataset, this is within expectations."
      ],
      "metadata": {
        "id": "ZUm283WAYtMo"
      }
    },
    {
      "cell_type": "markdown",
      "metadata": {
        "id": "m4F8r_53-ZLK"
      },
      "source": [
        "## Do we need 'real' words?\n",
        "\n",
        "Devise an experiment to check if the model is using semantic information to make its predictions (and not some direct notion of spelling)\n",
        "\n",
        "- Design an experiment to make it impossible for the semantics to be used in the above task. __[4]__\n",
        "- Make a dataset for it __[2]__\n",
        "- Learn a classifier for it __[1]__\n",
        "- Do the analysis across layers __[3]__"
      ]
    },
    {
      "cell_type": "markdown",
      "source": [
        "### Idea - Only consider the first token of the word to see whether the model can still predict as well as before."
      ],
      "metadata": {
        "id": "hoqF6D16ZmAp"
      }
    },
    {
      "cell_type": "code",
      "source": [
        "words_of_interest = []\n",
        "freq_by_first_char = {}\n",
        "for word in words_list:\n",
        "  tokens = tokenizer.tokenize(word)\n",
        "  if tokens[0] in words_set:\n",
        "    continue\n",
        "\n",
        "  words_of_interest.append(word)\n",
        "  first_char = word[0]\n",
        "  prev_freq = freq_by_first_char.get(first_char, 0)\n",
        "  freq_by_first_char[first_char] = 1 + prev_freq\n",
        "\n",
        "word_count = len(words_of_interest)\n",
        "print(word_count)\n",
        "print(freq_by_first_char)\n",
        "print(f\"{max(freq_by_first_char.values())}, {min(freq_by_first_char.values())}\")"
      ],
      "metadata": {
        "colab": {
          "base_uri": "https://localhost:8080/"
        },
        "id": "nA0QV1IIAUA6",
        "outputId": "e25eab72-6a83-4588-c980-7f6ae234851c"
      },
      "execution_count": null,
      "outputs": [
        {
          "output_type": "stream",
          "name": "stdout",
          "text": [
            "30297\n",
            "{'a': 3784, 'b': 651, 'c': 1805, 'd': 353, 'e': 2834, 'f': 463, 'g': 843, 'h': 909, 'i': 1625, 'y': 26, 'j': 200, 'k': 431, 'l': 237, 'm': 502, 'n': 462, 'o': 1731, 'p': 3592, 'q': 39, 'r': 1023, 's': 2553, 't': 1516, 'u': 3257, 'v': 951, 'w': 217, 'x': 19, 'z': 274}\n",
            "3784, 19\n"
          ]
        }
      ]
    },
    {
      "cell_type": "code",
      "source": [
        "SELECTION_COUNT = 20 # selecting 20 words with each different starting character\n",
        "\n",
        "balanced_inputs = []\n",
        "for word in words_of_interest:\n",
        "  first_char = word[0]\n",
        "  selection_probability = SELECTION_COUNT / freq_by_first_char[first_char]\n",
        "  if random.random() < selection_probability:\n",
        "    balanced_inputs.append(word)"
      ],
      "metadata": {
        "id": "lcc62CD8BLy2"
      },
      "execution_count": null,
      "outputs": []
    },
    {
      "cell_type": "code",
      "source": [
        "print(len(balanced_inputs))\n",
        "freq_by_label = {}\n",
        "for word in balanced_inputs:\n",
        "  label = word[0]\n",
        "  prev_freq = freq_by_label.get(label, 0)\n",
        "  freq_by_label[label] = 1 + prev_freq\n",
        "print(freq_by_label)"
      ],
      "metadata": {
        "colab": {
          "base_uri": "https://localhost:8080/"
        },
        "id": "tflYhQW4Ctr0",
        "outputId": "a661ee0e-ba1c-437a-b65a-f5b842dd41af"
      },
      "execution_count": null,
      "outputs": [
        {
          "output_type": "stream",
          "name": "stdout",
          "text": [
            "531\n",
            "{'a': 31, 'b': 25, 'c': 20, 'd': 28, 'e': 21, 'f': 23, 'g': 19, 'h': 16, 'y': 19, 'i': 23, 'j': 19, 'k': 23, 'l': 22, 'm': 23, 'n': 23, 'o': 18, 'p': 17, 'q': 20, 'r': 11, 's': 15, 't': 22, 'u': 19, 'v': 13, 'w': 29, 'x': 19, 'z': 13}\n"
          ]
        }
      ]
    },
    {
      "cell_type": "code",
      "source": [
        "total_tokens = 0\n",
        "single_tokened = 0\n",
        "token_is_word = 0\n",
        "for word in balanced_inputs:\n",
        "  tokens = tokenizer.tokenize(word)\n",
        "  total_tokens += len(tokens)\n",
        "  if len(tokens) == 1:\n",
        "    single_tokened += 1\n",
        "  for token in tokens:\n",
        "    if token in words_set:\n",
        "      token_is_word += 1\n",
        "\n",
        "print(f\"Total tokens: {total_tokens}, Average no. of tokens: {total_tokens / len(balanced_inputs)}\")\n",
        "print(f\"Single tokened: {single_tokened}, Token is word: {token_is_word}\")"
      ],
      "metadata": {
        "colab": {
          "base_uri": "https://localhost:8080/"
        },
        "id": "dDVqoX2PDF-3",
        "outputId": "f7684cb2-b4a9-4ec5-90c4-99a66913ef32"
      },
      "execution_count": null,
      "outputs": [
        {
          "output_type": "stream",
          "name": "stdout",
          "text": [
            "Total tokens: 1525, Average no. of tokens: 2.871939736346516\n",
            "Single tokened: 0, Token is word: 650\n"
          ]
        }
      ]
    },
    {
      "cell_type": "code",
      "source": [
        "train_inputs = []\n",
        "train_labels = []\n",
        "test_inputs = []\n",
        "test_labels = []\n",
        "for word in balanced_inputs:\n",
        "  if random.random() < 0.8:\n",
        "    train_inputs.append(word)\n",
        "    train_labels.append(word[0])\n",
        "  else:\n",
        "    test_inputs.append(word)\n",
        "    test_labels.append(word[0])"
      ],
      "metadata": {
        "id": "-tHF0lo1I6c1"
      },
      "execution_count": null,
      "outputs": []
    },
    {
      "cell_type": "code",
      "source": [
        "print(len(train_inputs), len(test_inputs))"
      ],
      "metadata": {
        "colab": {
          "base_uri": "https://localhost:8080/"
        },
        "id": "J4kMze_XJW6e",
        "outputId": "293aa892-5b58-40ca-ad9a-dc1fb5f5cf49"
      },
      "execution_count": null,
      "outputs": [
        {
          "output_type": "stream",
          "name": "stdout",
          "text": [
            "430 101\n"
          ]
        }
      ]
    },
    {
      "cell_type": "code",
      "source": [
        "train_data = [(train_inputs[i], train_labels[i]) for i in range(len(train_inputs))]\n",
        "test_data = [(test_inputs[i], test_labels[i]) for i in range(len(test_inputs))]"
      ],
      "metadata": {
        "id": "09_ryIS4NF1G"
      },
      "execution_count": null,
      "outputs": []
    },
    {
      "cell_type": "code",
      "source": [
        "embeds_all = get_embeddings_all_layers(model, tokenizer, train_data, pool_func=lambda x, dim: np.mean(x, axis=dim), layer=-1)\n",
        "embeds_all_test = get_embeddings_all_layers(model, tokenizer, test_data, pool_func=lambda x, dim: np.mean(x, axis=dim), layer=-1)\n",
        "embeds_all = np.concatenate(embeds_all, axis=0)\n",
        "embeds_all_test = np.concatenate(embeds_all_test, axis=0)\n",
        "# print(embeds_all.shape)\n",
        "# print(embeds_all_test.shape)\n",
        "rfc_all = RandomForestClassifier(random_state=0)\n",
        "rfc_all.fit(embeds_all, train_labels)\n",
        "print(classification_report(test_labels, rfc_all.predict(embeds_all_test)))"
      ],
      "metadata": {
        "colab": {
          "base_uri": "https://localhost:8080/"
        },
        "id": "4oIiOqH6MiDk",
        "outputId": "6f2fe9d7-5ba1-424b-efaa-dda4250504a8"
      },
      "execution_count": null,
      "outputs": [
        {
          "output_type": "stream",
          "name": "stdout",
          "text": [
            "              precision    recall  f1-score   support\n",
            "\n",
            "           a       0.11      0.33      0.16         6\n",
            "           b       0.20      0.12      0.15         8\n",
            "           c       0.00      0.00      0.00         3\n",
            "           d       0.11      1.00      0.19         2\n",
            "           e       0.00      0.00      0.00         4\n",
            "           f       0.50      0.17      0.25         6\n",
            "           g       0.00      0.00      0.00         5\n",
            "           h       0.00      0.00      0.00         1\n",
            "           i       0.00      0.00      0.00         6\n",
            "           j       0.50      0.67      0.57         3\n",
            "           k       0.50      0.67      0.57         3\n",
            "           l       0.00      0.00      0.00         1\n",
            "           m       0.25      0.25      0.25         4\n",
            "           n       0.20      0.12      0.15         8\n",
            "           o       0.00      0.00      0.00         1\n",
            "           p       0.33      0.25      0.29         4\n",
            "           q       0.25      0.25      0.25         4\n",
            "           r       1.00      0.33      0.50         3\n",
            "           s       0.00      0.00      0.00         3\n",
            "           t       0.33      0.25      0.29         4\n",
            "           u       0.00      0.00      0.00         5\n",
            "           v       0.00      0.00      0.00         4\n",
            "           w       0.56      0.83      0.67         6\n",
            "           x       0.00      0.00      0.00         2\n",
            "           y       0.00      0.00      0.00         4\n",
            "           z       0.00      0.00      0.00         1\n",
            "\n",
            "    accuracy                           0.21       101\n",
            "   macro avg       0.19      0.20      0.16       101\n",
            "weighted avg       0.21      0.21      0.18       101\n",
            "\n"
          ]
        },
        {
          "output_type": "stream",
          "name": "stderr",
          "text": [
            "/usr/local/lib/python3.10/dist-packages/sklearn/metrics/_classification.py:1344: UndefinedMetricWarning: Precision and F-score are ill-defined and being set to 0.0 in labels with no predicted samples. Use `zero_division` parameter to control this behavior.\n",
            "  _warn_prf(average, modifier, msg_start, len(result))\n",
            "/usr/local/lib/python3.10/dist-packages/sklearn/metrics/_classification.py:1344: UndefinedMetricWarning: Precision and F-score are ill-defined and being set to 0.0 in labels with no predicted samples. Use `zero_division` parameter to control this behavior.\n",
            "  _warn_prf(average, modifier, msg_start, len(result))\n",
            "/usr/local/lib/python3.10/dist-packages/sklearn/metrics/_classification.py:1344: UndefinedMetricWarning: Precision and F-score are ill-defined and being set to 0.0 in labels with no predicted samples. Use `zero_division` parameter to control this behavior.\n",
            "  _warn_prf(average, modifier, msg_start, len(result))\n"
          ]
        }
      ]
    },
    {
      "cell_type": "code",
      "source": [
        "def get_first_token_embeddings_all_layers(model, tokenizer, data, pool_func, layer=-1):\n",
        "    embed_list = []\n",
        "    for word, label in data:\n",
        "        inputs = tokenizer(tokenizer.tokenize(word)[0], return_tensors=\"pt\").to(device=DEVICE)\n",
        "        embeddings = model(**inputs, output_hidden_states=True)\n",
        "        embeddings = embeddings.hidden_states[layer].detach().cpu().numpy()\n",
        "        embeddings = pool_func(embeddings, dim=-2)\n",
        "        embed_list.append(embeddings)\n",
        "    return embed_list"
      ],
      "metadata": {
        "id": "-sUOEPopOxTc"
      },
      "execution_count": null,
      "outputs": []
    },
    {
      "cell_type": "code",
      "source": [
        "embeds_first = get_first_token_embeddings_all_layers(model, tokenizer, train_data, pool_func=lambda x, dim: np.mean(x, axis=dim), layer=-1)\n",
        "embeds_first_test = get_first_token_embeddings_all_layers(model, tokenizer, test_data, pool_func=lambda x, dim: np.mean(x, axis=dim), layer=-1)\n",
        "embeds_first = np.concatenate(embeds_first, axis=0)\n",
        "embeds_first_test = np.concatenate(embeds_first_test, axis=0)\n",
        "rfc_first = RandomForestClassifier(random_state=0)\n",
        "rfc_first.fit(embeds_first, train_labels)\n",
        "print(classification_report(test_labels, rfc_first.predict(embeds_all_test)))"
      ],
      "metadata": {
        "colab": {
          "base_uri": "https://localhost:8080/"
        },
        "id": "xWiUV2kVN16O",
        "outputId": "4b06c0a2-a9ef-4bb8-d1b3-99d7391a07a4"
      },
      "execution_count": null,
      "outputs": [
        {
          "output_type": "stream",
          "name": "stdout",
          "text": [
            "              precision    recall  f1-score   support\n",
            "\n",
            "           a       0.00      0.00      0.00         6\n",
            "           b       0.00      0.00      0.00         8\n",
            "           c       0.00      0.00      0.00         3\n",
            "           d       0.00      0.00      0.00         2\n",
            "           e       0.00      0.00      0.00         4\n",
            "           f       0.00      0.00      0.00         6\n",
            "           g       0.00      0.00      0.00         5\n",
            "           h       0.00      0.00      0.00         1\n",
            "           i       0.00      0.00      0.00         6\n",
            "           j       0.00      0.00      0.00         3\n",
            "           k       0.00      0.00      0.00         3\n",
            "           l       0.00      0.00      0.00         1\n",
            "           m       0.00      0.00      0.00         4\n",
            "           n       0.00      0.00      0.00         8\n",
            "           o       0.00      0.00      0.00         1\n",
            "           p       0.00      0.00      0.00         4\n",
            "           q       0.00      0.00      0.00         4\n",
            "           r       0.00      0.00      0.00         3\n",
            "           s       0.00      0.00      0.00         3\n",
            "           t       0.00      0.00      0.00         4\n",
            "           u       0.00      0.00      0.00         5\n",
            "           v       0.00      0.00      0.00         4\n",
            "           w       0.25      0.50      0.33         6\n",
            "           x       0.02      1.00      0.05         2\n",
            "           y       0.00      0.00      0.00         4\n",
            "           z       0.00      0.00      0.00         1\n",
            "\n",
            "    accuracy                           0.05       101\n",
            "   macro avg       0.01      0.06      0.01       101\n",
            "weighted avg       0.02      0.05      0.02       101\n",
            "\n"
          ]
        },
        {
          "output_type": "stream",
          "name": "stderr",
          "text": [
            "/usr/local/lib/python3.10/dist-packages/sklearn/metrics/_classification.py:1344: UndefinedMetricWarning: Precision and F-score are ill-defined and being set to 0.0 in labels with no predicted samples. Use `zero_division` parameter to control this behavior.\n",
            "  _warn_prf(average, modifier, msg_start, len(result))\n",
            "/usr/local/lib/python3.10/dist-packages/sklearn/metrics/_classification.py:1344: UndefinedMetricWarning: Precision and F-score are ill-defined and being set to 0.0 in labels with no predicted samples. Use `zero_division` parameter to control this behavior.\n",
            "  _warn_prf(average, modifier, msg_start, len(result))\n",
            "/usr/local/lib/python3.10/dist-packages/sklearn/metrics/_classification.py:1344: UndefinedMetricWarning: Precision and F-score are ill-defined and being set to 0.0 in labels with no predicted samples. Use `zero_division` parameter to control this behavior.\n",
            "  _warn_prf(average, modifier, msg_start, len(result))\n"
          ]
        }
      ]
    },
    {
      "cell_type": "markdown",
      "source": [
        "## Layer wise analysis"
      ],
      "metadata": {
        "id": "ZfgrzIgXgFCU"
      }
    },
    {
      "cell_type": "code",
      "source": [
        "# Already checked results for last layer\n",
        "for layer in range(12):\n",
        "  embeds_all = get_embeddings_all_layers(model, tokenizer, train_data, pool_func=lambda x, dim: np.mean(x, axis=dim), layer=layer)\n",
        "  embeds_all_test = get_embeddings_all_layers(model, tokenizer, test_data, pool_func=lambda x, dim: np.mean(x, axis=dim), layer=layer)\n",
        "  embeds_all = np.concatenate(embeds_all, axis=0)\n",
        "  embeds_all_test = np.concatenate(embeds_all_test, axis=0)\n",
        "  # print(embeds_all.shape)\n",
        "  # print(embeds_all_test.shape)\n",
        "  rfc_all = RandomForestClassifier(random_state=0)\n",
        "  rfc_all.fit(embeds_all, train_labels)\n",
        "  print(f\"Layer: {layer}\")\n",
        "  print(classification_report(test_labels, rfc_all.predict(embeds_all_test)))\n",
        "  print(\"\\n\")"
      ],
      "metadata": {
        "colab": {
          "base_uri": "https://localhost:8080/"
        },
        "id": "pyzMWndRgD12",
        "outputId": "6ee4db83-6172-4a57-cc2d-eee41296ed09"
      },
      "execution_count": null,
      "outputs": [
        {
          "output_type": "stream",
          "name": "stdout",
          "text": [
            "Layer: 0\n",
            "              precision    recall  f1-score   support\n",
            "\n",
            "           a       0.00      0.00      0.00         1\n",
            "           b       0.43      0.75      0.55         4\n",
            "           c       0.00      0.00      0.00         1\n",
            "           d       0.25      0.75      0.38         4\n",
            "           e       0.00      0.00      0.00         5\n",
            "           f       0.67      0.50      0.57         4\n",
            "           g       0.22      1.00      0.36         2\n",
            "           h       0.22      1.00      0.36         2\n",
            "           i       0.00      0.00      0.00         3\n",
            "           j       0.64      1.00      0.78         7\n",
            "           k       0.00      0.00      0.00         2\n",
            "           l       0.00      0.00      0.00         3\n",
            "           m       0.40      1.00      0.57         2\n",
            "           n       0.67      0.29      0.40         7\n",
            "           o       0.00      0.00      0.00        11\n",
            "           p       1.00      0.11      0.20         9\n",
            "           q       0.56      1.00      0.71         5\n",
            "           r       0.50      0.12      0.20         8\n",
            "           s       1.00      0.40      0.57         5\n",
            "           t       0.33      1.00      0.50         2\n",
            "           u       0.33      0.25      0.29         4\n",
            "           v       0.50      0.17      0.25         6\n",
            "           w       0.83      0.83      0.83         6\n",
            "           x       1.00      0.80      0.89         5\n",
            "           y       1.00      0.40      0.57         5\n",
            "           z       1.00      0.20      0.33         5\n",
            "\n",
            "    accuracy                           0.41       118\n",
            "   macro avg       0.44      0.45      0.36       118\n",
            "weighted avg       0.53      0.41      0.37       118\n",
            "\n",
            "\n",
            "\n",
            "Layer: 1\n",
            "              precision    recall  f1-score   support\n",
            "\n",
            "           a       0.12      1.00      0.22         1\n",
            "           b       1.00      0.75      0.86         4\n",
            "           c       0.00      0.00      0.00         1\n",
            "           d       0.22      0.50      0.31         4\n",
            "           e       0.50      0.20      0.29         5\n",
            "           f       1.00      0.25      0.40         4\n",
            "           g       0.20      1.00      0.33         2\n",
            "           h       0.18      1.00      0.31         2\n",
            "           i       0.08      0.33      0.13         3\n",
            "           j       0.64      1.00      0.78         7\n",
            "           k       0.33      0.50      0.40         2\n",
            "           l       0.00      0.00      0.00         3\n",
            "           m       0.40      1.00      0.57         2\n",
            "           n       0.00      0.00      0.00         7\n",
            "           o       0.00      0.00      0.00        11\n",
            "           p       0.00      0.00      0.00         9\n",
            "           q       1.00      1.00      1.00         5\n",
            "           r       1.00      0.12      0.22         8\n",
            "           s       0.25      0.20      0.22         5\n",
            "           t       0.25      0.50      0.33         2\n",
            "           u       0.50      0.25      0.33         4\n",
            "           v       0.33      0.33      0.33         6\n",
            "           w       0.75      0.50      0.60         6\n",
            "           x       1.00      0.80      0.89         5\n",
            "           y       1.00      0.40      0.57         5\n",
            "           z       0.67      0.40      0.50         5\n",
            "\n",
            "    accuracy                           0.38       118\n",
            "   macro avg       0.44      0.46      0.37       118\n",
            "weighted avg       0.47      0.38      0.36       118\n",
            "\n",
            "\n",
            "\n"
          ]
        },
        {
          "output_type": "stream",
          "name": "stderr",
          "text": [
            "/usr/local/lib/python3.10/dist-packages/sklearn/metrics/_classification.py:1344: UndefinedMetricWarning: Precision and F-score are ill-defined and being set to 0.0 in labels with no predicted samples. Use `zero_division` parameter to control this behavior.\n",
            "  _warn_prf(average, modifier, msg_start, len(result))\n",
            "/usr/local/lib/python3.10/dist-packages/sklearn/metrics/_classification.py:1344: UndefinedMetricWarning: Precision and F-score are ill-defined and being set to 0.0 in labels with no predicted samples. Use `zero_division` parameter to control this behavior.\n",
            "  _warn_prf(average, modifier, msg_start, len(result))\n",
            "/usr/local/lib/python3.10/dist-packages/sklearn/metrics/_classification.py:1344: UndefinedMetricWarning: Precision and F-score are ill-defined and being set to 0.0 in labels with no predicted samples. Use `zero_division` parameter to control this behavior.\n",
            "  _warn_prf(average, modifier, msg_start, len(result))\n"
          ]
        },
        {
          "output_type": "stream",
          "name": "stdout",
          "text": [
            "Layer: 2\n",
            "              precision    recall  f1-score   support\n",
            "\n",
            "           a       0.00      0.00      0.00         1\n",
            "           b       0.67      0.50      0.57         4\n",
            "           c       0.00      0.00      0.00         1\n",
            "           d       0.18      0.50      0.27         4\n",
            "           e       0.00      0.00      0.00         5\n",
            "           f       0.67      0.50      0.57         4\n",
            "           g       0.15      1.00      0.27         2\n",
            "           h       0.25      1.00      0.40         2\n",
            "           i       0.09      0.33      0.14         3\n",
            "           j       0.70      1.00      0.82         7\n",
            "           k       0.25      0.50      0.33         2\n",
            "           l       0.00      0.00      0.00         3\n",
            "           m       1.00      1.00      1.00         2\n",
            "           n       0.50      0.14      0.22         7\n",
            "           o       0.33      0.09      0.14        11\n",
            "           p       1.00      0.11      0.20         9\n",
            "           q       0.83      1.00      0.91         5\n",
            "           r       1.00      0.12      0.22         8\n",
            "           s       0.33      0.20      0.25         5\n",
            "           t       0.25      0.50      0.33         2\n",
            "           u       1.00      0.25      0.40         4\n",
            "           v       0.67      0.67      0.67         6\n",
            "           w       0.67      0.67      0.67         6\n",
            "           x       0.80      0.80      0.80         5\n",
            "           y       1.00      0.20      0.33         5\n",
            "           z       1.00      0.40      0.57         5\n",
            "\n",
            "    accuracy                           0.41       118\n",
            "   macro avg       0.51      0.44      0.39       118\n",
            "weighted avg       0.60      0.41      0.40       118\n",
            "\n",
            "\n",
            "\n",
            "Layer: 3\n",
            "              precision    recall  f1-score   support\n",
            "\n",
            "           a       0.00      0.00      0.00         1\n",
            "           b       0.60      0.75      0.67         4\n",
            "           c       0.25      1.00      0.40         1\n",
            "           d       0.17      0.50      0.25         4\n",
            "           e       0.00      0.00      0.00         5\n",
            "           f       1.00      0.50      0.67         4\n",
            "           g       0.33      1.00      0.50         2\n",
            "           h       0.15      1.00      0.27         2\n",
            "           i       0.14      0.33      0.20         3\n",
            "           j       0.67      0.86      0.75         7\n",
            "           k       0.33      0.50      0.40         2\n",
            "           l       0.00      0.00      0.00         3\n",
            "           m       1.00      0.50      0.67         2\n",
            "           n       0.00      0.00      0.00         7\n",
            "           o       0.00      0.00      0.00        11\n",
            "           p       0.00      0.00      0.00         9\n",
            "           q       0.57      0.80      0.67         5\n",
            "           r       1.00      0.12      0.22         8\n",
            "           s       1.00      0.40      0.57         5\n",
            "           t       0.14      0.50      0.22         2\n",
            "           u       0.00      0.00      0.00         4\n",
            "           v       0.00      0.00      0.00         6\n",
            "           w       1.00      0.67      0.80         6\n",
            "           x       1.00      0.80      0.89         5\n",
            "           y       1.00      0.60      0.75         5\n",
            "           z       0.50      0.40      0.44         5\n",
            "\n",
            "    accuracy                           0.36       118\n",
            "   macro avg       0.42      0.43      0.36       118\n",
            "weighted avg       0.43      0.36      0.34       118\n",
            "\n",
            "\n",
            "\n",
            "Layer: 4\n",
            "              precision    recall  f1-score   support\n",
            "\n",
            "           a       0.00      0.00      0.00         1\n",
            "           b       0.50      0.25      0.33         4\n",
            "           c       0.25      1.00      0.40         1\n",
            "           d       0.15      0.50      0.24         4\n",
            "           e       0.00      0.00      0.00         5\n",
            "           f       0.67      0.50      0.57         4\n",
            "           g       0.12      0.50      0.20         2\n",
            "           h       0.12      1.00      0.22         2\n",
            "           i       0.10      0.33      0.15         3\n",
            "           j       0.58      1.00      0.74         7\n",
            "           k       0.50      0.50      0.50         2\n",
            "           l       0.00      0.00      0.00         3\n",
            "           m       0.00      0.00      0.00         2\n",
            "           n       0.33      0.14      0.20         7\n",
            "           o       0.50      0.09      0.15        11\n",
            "           p       1.00      0.11      0.20         9\n",
            "           q       0.62      1.00      0.77         5\n",
            "           r       0.50      0.12      0.20         8\n",
            "           s       0.00      0.00      0.00         5\n",
            "           t       0.17      0.50      0.25         2\n",
            "           u       0.67      0.50      0.57         4\n",
            "           v       0.50      0.17      0.25         6\n",
            "           w       0.57      0.67      0.62         6\n",
            "           x       1.00      0.80      0.89         5\n",
            "           y       1.00      0.20      0.33         5\n",
            "           z       1.00      0.20      0.33         5\n",
            "\n",
            "    accuracy                           0.35       118\n",
            "   macro avg       0.42      0.39      0.31       118\n",
            "weighted avg       0.51      0.35      0.33       118\n",
            "\n",
            "\n",
            "\n",
            "Layer: 5\n",
            "              precision    recall  f1-score   support\n",
            "\n",
            "           a       0.00      0.00      0.00         1\n",
            "           b       0.00      0.00      0.00         4\n",
            "           c       0.00      0.00      0.00         1\n",
            "           d       0.08      0.25      0.12         4\n",
            "           e       0.00      0.00      0.00         5\n",
            "           f       0.50      0.25      0.33         4\n",
            "           g       0.17      0.50      0.25         2\n",
            "           h       0.08      0.50      0.14         2\n",
            "           i       0.20      0.67      0.31         3\n",
            "           j       0.55      0.86      0.67         7\n",
            "           k       0.33      0.50      0.40         2\n",
            "           l       0.50      0.33      0.40         3\n",
            "           m       0.50      0.50      0.50         2\n",
            "           n       0.25      0.14      0.18         7\n",
            "           o       0.00      0.00      0.00        11\n",
            "           p       1.00      0.11      0.20         9\n",
            "           q       0.45      1.00      0.62         5\n",
            "           r       1.00      0.25      0.40         8\n",
            "           s       0.00      0.00      0.00         5\n",
            "           t       0.20      0.50      0.29         2\n",
            "           u       0.40      0.50      0.44         4\n",
            "           v       0.20      0.17      0.18         6\n",
            "           w       1.00      0.33      0.50         6\n",
            "           x       1.00      0.80      0.89         5\n",
            "           y       1.00      0.20      0.33         5\n",
            "           z       1.00      0.40      0.57         5\n",
            "\n",
            "    accuracy                           0.31       118\n",
            "   macro avg       0.40      0.34      0.30       118\n",
            "weighted avg       0.47      0.31      0.30       118\n",
            "\n",
            "\n",
            "\n",
            "Layer: 6\n",
            "              precision    recall  f1-score   support\n",
            "\n",
            "           a       0.00      0.00      0.00         1\n",
            "           b       0.00      0.00      0.00         4\n",
            "           c       0.00      0.00      0.00         1\n",
            "           d       0.10      0.25      0.14         4\n",
            "           e       0.00      0.00      0.00         5\n",
            "           f       0.40      0.50      0.44         4\n",
            "           g       0.10      0.50      0.17         2\n",
            "           h       0.09      0.50      0.15         2\n",
            "           i       0.00      0.00      0.00         3\n",
            "           j       0.64      1.00      0.78         7\n",
            "           k       0.67      1.00      0.80         2\n",
            "           l       0.00      0.00      0.00         3\n",
            "           m       1.00      0.50      0.67         2\n",
            "           n       0.14      0.14      0.14         7\n",
            "           o       0.43      0.27      0.33        11\n",
            "           p       1.00      0.11      0.20         9\n",
            "           q       0.43      0.60      0.50         5\n",
            "           r       0.67      0.25      0.36         8\n",
            "           s       0.50      0.20      0.29         5\n",
            "           t       0.33      0.50      0.40         2\n",
            "           u       0.67      0.50      0.57         4\n",
            "           v       0.33      0.17      0.22         6\n",
            "           w       1.00      0.33      0.50         6\n",
            "           x       0.80      0.80      0.80         5\n",
            "           y       1.00      0.20      0.33         5\n",
            "           z       1.00      0.40      0.57         5\n",
            "\n",
            "    accuracy                           0.33       118\n",
            "   macro avg       0.43      0.34      0.32       118\n",
            "weighted avg       0.51      0.33      0.34       118\n",
            "\n",
            "\n",
            "\n"
          ]
        },
        {
          "output_type": "stream",
          "name": "stderr",
          "text": [
            "/usr/local/lib/python3.10/dist-packages/sklearn/metrics/_classification.py:1344: UndefinedMetricWarning: Precision and F-score are ill-defined and being set to 0.0 in labels with no predicted samples. Use `zero_division` parameter to control this behavior.\n",
            "  _warn_prf(average, modifier, msg_start, len(result))\n",
            "/usr/local/lib/python3.10/dist-packages/sklearn/metrics/_classification.py:1344: UndefinedMetricWarning: Precision and F-score are ill-defined and being set to 0.0 in labels with no predicted samples. Use `zero_division` parameter to control this behavior.\n",
            "  _warn_prf(average, modifier, msg_start, len(result))\n",
            "/usr/local/lib/python3.10/dist-packages/sklearn/metrics/_classification.py:1344: UndefinedMetricWarning: Precision and F-score are ill-defined and being set to 0.0 in labels with no predicted samples. Use `zero_division` parameter to control this behavior.\n",
            "  _warn_prf(average, modifier, msg_start, len(result))\n"
          ]
        },
        {
          "output_type": "stream",
          "name": "stdout",
          "text": [
            "Layer: 7\n",
            "              precision    recall  f1-score   support\n",
            "\n",
            "           a       0.00      0.00      0.00         1\n",
            "           b       0.00      0.00      0.00         4\n",
            "           c       0.00      0.00      0.00         1\n",
            "           d       0.18      0.50      0.27         4\n",
            "           e       0.00      0.00      0.00         5\n",
            "           f       1.00      0.25      0.40         4\n",
            "           g       0.11      0.50      0.18         2\n",
            "           h       0.17      1.00      0.29         2\n",
            "           i       0.00      0.00      0.00         3\n",
            "           j       0.40      0.86      0.55         7\n",
            "           k       0.00      0.00      0.00         2\n",
            "           l       0.00      0.00      0.00         3\n",
            "           m       1.00      0.50      0.67         2\n",
            "           n       0.00      0.00      0.00         7\n",
            "           o       0.00      0.00      0.00        11\n",
            "           p       0.33      0.11      0.17         9\n",
            "           q       0.25      0.40      0.31         5\n",
            "           r       1.00      0.12      0.22         8\n",
            "           s       0.00      0.00      0.00         5\n",
            "           t       0.00      0.00      0.00         2\n",
            "           u       0.33      0.25      0.29         4\n",
            "           v       0.00      0.00      0.00         6\n",
            "           w       0.00      0.00      0.00         6\n",
            "           x       0.67      0.80      0.73         5\n",
            "           y       0.67      0.40      0.50         5\n",
            "           z       1.00      0.20      0.33         5\n",
            "\n",
            "    accuracy                           0.21       118\n",
            "   macro avg       0.27      0.23      0.19       118\n",
            "weighted avg       0.30      0.21      0.19       118\n",
            "\n",
            "\n",
            "\n"
          ]
        },
        {
          "output_type": "stream",
          "name": "stderr",
          "text": [
            "/usr/local/lib/python3.10/dist-packages/sklearn/metrics/_classification.py:1344: UndefinedMetricWarning: Precision and F-score are ill-defined and being set to 0.0 in labels with no predicted samples. Use `zero_division` parameter to control this behavior.\n",
            "  _warn_prf(average, modifier, msg_start, len(result))\n",
            "/usr/local/lib/python3.10/dist-packages/sklearn/metrics/_classification.py:1344: UndefinedMetricWarning: Precision and F-score are ill-defined and being set to 0.0 in labels with no predicted samples. Use `zero_division` parameter to control this behavior.\n",
            "  _warn_prf(average, modifier, msg_start, len(result))\n",
            "/usr/local/lib/python3.10/dist-packages/sklearn/metrics/_classification.py:1344: UndefinedMetricWarning: Precision and F-score are ill-defined and being set to 0.0 in labels with no predicted samples. Use `zero_division` parameter to control this behavior.\n",
            "  _warn_prf(average, modifier, msg_start, len(result))\n"
          ]
        },
        {
          "output_type": "stream",
          "name": "stdout",
          "text": [
            "Layer: 8\n",
            "              precision    recall  f1-score   support\n",
            "\n",
            "           a       0.00      0.00      0.00         1\n",
            "           b       1.00      0.25      0.40         4\n",
            "           c       0.00      0.00      0.00         1\n",
            "           d       0.18      0.50      0.27         4\n",
            "           e       0.33      0.20      0.25         5\n",
            "           f       1.00      0.50      0.67         4\n",
            "           g       0.25      1.00      0.40         2\n",
            "           h       0.06      0.50      0.10         2\n",
            "           i       0.00      0.00      0.00         3\n",
            "           j       0.55      0.86      0.67         7\n",
            "           k       0.20      0.50      0.29         2\n",
            "           l       0.00      0.00      0.00         3\n",
            "           m       0.67      1.00      0.80         2\n",
            "           n       0.00      0.00      0.00         7\n",
            "           o       0.50      0.18      0.27        11\n",
            "           p       0.50      0.11      0.18         9\n",
            "           q       0.30      0.60      0.40         5\n",
            "           r       0.50      0.25      0.33         8\n",
            "           s       0.50      0.20      0.29         5\n",
            "           t       0.50      0.50      0.50         2\n",
            "           u       0.50      0.50      0.50         4\n",
            "           v       0.25      0.17      0.20         6\n",
            "           w       0.67      0.33      0.44         6\n",
            "           x       0.67      0.80      0.73         5\n",
            "           y       0.50      0.20      0.29         5\n",
            "           z       1.00      0.20      0.33         5\n",
            "\n",
            "    accuracy                           0.33       118\n",
            "   macro avg       0.41      0.36      0.32       118\n",
            "weighted avg       0.46      0.33      0.33       118\n",
            "\n",
            "\n",
            "\n"
          ]
        },
        {
          "output_type": "stream",
          "name": "stderr",
          "text": [
            "/usr/local/lib/python3.10/dist-packages/sklearn/metrics/_classification.py:1344: UndefinedMetricWarning: Precision and F-score are ill-defined and being set to 0.0 in labels with no predicted samples. Use `zero_division` parameter to control this behavior.\n",
            "  _warn_prf(average, modifier, msg_start, len(result))\n",
            "/usr/local/lib/python3.10/dist-packages/sklearn/metrics/_classification.py:1344: UndefinedMetricWarning: Precision and F-score are ill-defined and being set to 0.0 in labels with no predicted samples. Use `zero_division` parameter to control this behavior.\n",
            "  _warn_prf(average, modifier, msg_start, len(result))\n",
            "/usr/local/lib/python3.10/dist-packages/sklearn/metrics/_classification.py:1344: UndefinedMetricWarning: Precision and F-score are ill-defined and being set to 0.0 in labels with no predicted samples. Use `zero_division` parameter to control this behavior.\n",
            "  _warn_prf(average, modifier, msg_start, len(result))\n"
          ]
        },
        {
          "output_type": "stream",
          "name": "stdout",
          "text": [
            "Layer: 9\n",
            "              precision    recall  f1-score   support\n",
            "\n",
            "           a       0.00      0.00      0.00         1\n",
            "           b       0.00      0.00      0.00         4\n",
            "           c       0.00      0.00      0.00         1\n",
            "           d       0.15      0.50      0.24         4\n",
            "           e       0.00      0.00      0.00         5\n",
            "           f       0.33      0.25      0.29         4\n",
            "           g       0.17      0.50      0.25         2\n",
            "           h       0.08      1.00      0.15         2\n",
            "           i       0.14      0.33      0.20         3\n",
            "           j       0.50      0.86      0.63         7\n",
            "           k       0.00      0.00      0.00         2\n",
            "           l       0.00      0.00      0.00         3\n",
            "           m       0.17      0.50      0.25         2\n",
            "           n       0.00      0.00      0.00         7\n",
            "           o       1.00      0.09      0.17        11\n",
            "           p       0.00      0.00      0.00         9\n",
            "           q       0.40      0.40      0.40         5\n",
            "           r       0.00      0.00      0.00         8\n",
            "           s       0.00      0.00      0.00         5\n",
            "           t       0.00      0.00      0.00         2\n",
            "           u       0.67      0.50      0.57         4\n",
            "           v       0.33      0.33      0.33         6\n",
            "           w       0.50      0.33      0.40         6\n",
            "           x       1.00      0.80      0.89         5\n",
            "           y       0.50      0.20      0.29         5\n",
            "           z       0.00      0.00      0.00         5\n",
            "\n",
            "    accuracy                           0.24       118\n",
            "   macro avg       0.23      0.25      0.19       118\n",
            "weighted avg       0.30      0.24      0.21       118\n",
            "\n",
            "\n",
            "\n"
          ]
        },
        {
          "output_type": "stream",
          "name": "stderr",
          "text": [
            "/usr/local/lib/python3.10/dist-packages/sklearn/metrics/_classification.py:1344: UndefinedMetricWarning: Precision and F-score are ill-defined and being set to 0.0 in labels with no predicted samples. Use `zero_division` parameter to control this behavior.\n",
            "  _warn_prf(average, modifier, msg_start, len(result))\n",
            "/usr/local/lib/python3.10/dist-packages/sklearn/metrics/_classification.py:1344: UndefinedMetricWarning: Precision and F-score are ill-defined and being set to 0.0 in labels with no predicted samples. Use `zero_division` parameter to control this behavior.\n",
            "  _warn_prf(average, modifier, msg_start, len(result))\n",
            "/usr/local/lib/python3.10/dist-packages/sklearn/metrics/_classification.py:1344: UndefinedMetricWarning: Precision and F-score are ill-defined and being set to 0.0 in labels with no predicted samples. Use `zero_division` parameter to control this behavior.\n",
            "  _warn_prf(average, modifier, msg_start, len(result))\n"
          ]
        },
        {
          "output_type": "stream",
          "name": "stdout",
          "text": [
            "Layer: 10\n",
            "              precision    recall  f1-score   support\n",
            "\n",
            "           a       0.00      0.00      0.00         1\n",
            "           b       0.00      0.00      0.00         4\n",
            "           c       0.00      0.00      0.00         1\n",
            "           d       0.18      0.50      0.27         4\n",
            "           e       0.00      0.00      0.00         5\n",
            "           f       1.00      0.50      0.67         4\n",
            "           g       0.17      0.50      0.25         2\n",
            "           h       0.08      0.50      0.13         2\n",
            "           i       0.00      0.00      0.00         3\n",
            "           j       0.75      0.86      0.80         7\n",
            "           k       0.17      0.50      0.25         2\n",
            "           l       0.00      0.00      0.00         3\n",
            "           m       0.14      0.50      0.22         2\n",
            "           n       0.20      0.14      0.17         7\n",
            "           o       0.00      0.00      0.00        11\n",
            "           p       0.00      0.00      0.00         9\n",
            "           q       0.50      0.80      0.62         5\n",
            "           r       0.33      0.12      0.18         8\n",
            "           s       0.67      0.40      0.50         5\n",
            "           t       0.25      0.50      0.33         2\n",
            "           u       0.33      0.50      0.40         4\n",
            "           v       0.25      0.17      0.20         6\n",
            "           w       0.50      0.33      0.40         6\n",
            "           x       0.80      0.80      0.80         5\n",
            "           y       1.00      0.20      0.33         5\n",
            "           z       0.00      0.00      0.00         5\n",
            "\n",
            "    accuracy                           0.28       118\n",
            "   macro avg       0.28      0.30      0.25       118\n",
            "weighted avg       0.31      0.28      0.26       118\n",
            "\n",
            "\n",
            "\n"
          ]
        },
        {
          "output_type": "stream",
          "name": "stderr",
          "text": [
            "/usr/local/lib/python3.10/dist-packages/sklearn/metrics/_classification.py:1344: UndefinedMetricWarning: Precision and F-score are ill-defined and being set to 0.0 in labels with no predicted samples. Use `zero_division` parameter to control this behavior.\n",
            "  _warn_prf(average, modifier, msg_start, len(result))\n",
            "/usr/local/lib/python3.10/dist-packages/sklearn/metrics/_classification.py:1344: UndefinedMetricWarning: Precision and F-score are ill-defined and being set to 0.0 in labels with no predicted samples. Use `zero_division` parameter to control this behavior.\n",
            "  _warn_prf(average, modifier, msg_start, len(result))\n",
            "/usr/local/lib/python3.10/dist-packages/sklearn/metrics/_classification.py:1344: UndefinedMetricWarning: Precision and F-score are ill-defined and being set to 0.0 in labels with no predicted samples. Use `zero_division` parameter to control this behavior.\n",
            "  _warn_prf(average, modifier, msg_start, len(result))\n"
          ]
        },
        {
          "output_type": "stream",
          "name": "stdout",
          "text": [
            "Layer: 11\n",
            "              precision    recall  f1-score   support\n",
            "\n",
            "           a       0.00      0.00      0.00         1\n",
            "           b       0.00      0.00      0.00         4\n",
            "           c       0.00      0.00      0.00         1\n",
            "           d       0.23      0.75      0.35         4\n",
            "           e       0.50      0.20      0.29         5\n",
            "           f       1.00      0.50      0.67         4\n",
            "           g       0.14      1.00      0.25         2\n",
            "           h       0.07      0.50      0.12         2\n",
            "           i       0.00      0.00      0.00         3\n",
            "           j       0.55      0.86      0.67         7\n",
            "           k       0.17      0.50      0.25         2\n",
            "           l       0.00      0.00      0.00         3\n",
            "           m       0.00      0.00      0.00         2\n",
            "           n       0.00      0.00      0.00         7\n",
            "           o       1.00      0.09      0.17        11\n",
            "           p       1.00      0.11      0.20         9\n",
            "           q       0.50      0.20      0.29         5\n",
            "           r       1.00      0.12      0.22         8\n",
            "           s       0.67      0.40      0.50         5\n",
            "           t       0.50      0.50      0.50         2\n",
            "           u       1.00      1.00      1.00         4\n",
            "           v       0.50      0.33      0.40         6\n",
            "           w       1.00      0.33      0.50         6\n",
            "           x       0.75      0.60      0.67         5\n",
            "           y       1.00      0.20      0.33         5\n",
            "           z       0.00      0.00      0.00         5\n",
            "\n",
            "    accuracy                           0.30       118\n",
            "   macro avg       0.44      0.32      0.28       118\n",
            "weighted avg       0.58      0.30      0.31       118\n",
            "\n",
            "\n",
            "\n"
          ]
        },
        {
          "output_type": "stream",
          "name": "stderr",
          "text": [
            "/usr/local/lib/python3.10/dist-packages/sklearn/metrics/_classification.py:1344: UndefinedMetricWarning: Precision and F-score are ill-defined and being set to 0.0 in labels with no predicted samples. Use `zero_division` parameter to control this behavior.\n",
            "  _warn_prf(average, modifier, msg_start, len(result))\n",
            "/usr/local/lib/python3.10/dist-packages/sklearn/metrics/_classification.py:1344: UndefinedMetricWarning: Precision and F-score are ill-defined and being set to 0.0 in labels with no predicted samples. Use `zero_division` parameter to control this behavior.\n",
            "  _warn_prf(average, modifier, msg_start, len(result))\n",
            "/usr/local/lib/python3.10/dist-packages/sklearn/metrics/_classification.py:1344: UndefinedMetricWarning: Precision and F-score are ill-defined and being set to 0.0 in labels with no predicted samples. Use `zero_division` parameter to control this behavior.\n",
            "  _warn_prf(average, modifier, msg_start, len(result))\n"
          ]
        }
      ]
    },
    {
      "cell_type": "code",
      "source": [
        "# Already checked results for last layer\n",
        "for layer in range(12):\n",
        "  embeds_first = get_first_token_embeddings_all_layers(model, tokenizer, train_data, pool_func=lambda x, dim: np.mean(x, axis=dim), layer=-1)\n",
        "  embeds_first_test = get_first_token_embeddings_all_layers(model, tokenizer, test_data, pool_func=lambda x, dim: np.mean(x, axis=dim), layer=-1)\n",
        "  embeds_first = np.concatenate(embeds_first, axis=0)\n",
        "  embeds_first_test = np.concatenate(embeds_first_test, axis=0)\n",
        "  rfc_first = RandomForestClassifier(random_state=0)\n",
        "  rfc_first.fit(embeds_first, train_labels)\n",
        "  print(f\"Layer: {layer}\")\n",
        "  print(classification_report(test_labels, rfc_first.predict(embeds_all_test)))\n",
        "  print(\"\\n\")"
      ],
      "metadata": {
        "colab": {
          "base_uri": "https://localhost:8080/"
        },
        "id": "H7bauqxkg_V0",
        "outputId": "7c776b89-b3e7-48db-d325-a6862d5c79d0"
      },
      "execution_count": null,
      "outputs": [
        {
          "output_type": "stream",
          "name": "stdout",
          "text": [
            "Layer: 0\n",
            "              precision    recall  f1-score   support\n",
            "\n",
            "           a       0.00      0.00      0.00         1\n",
            "           b       0.00      0.00      0.00         4\n",
            "           c       0.00      0.00      0.00         1\n",
            "           d       0.00      0.00      0.00         4\n",
            "           e       0.00      0.00      0.00         5\n",
            "           f       0.00      0.00      0.00         4\n",
            "           g       0.00      0.00      0.00         2\n",
            "           h       0.00      0.00      0.00         2\n",
            "           i       0.00      0.00      0.00         3\n",
            "           j       0.06      0.57      0.11         7\n",
            "           k       0.00      0.00      0.00         2\n",
            "           l       0.00      0.00      0.00         3\n",
            "           m       0.00      0.00      0.00         2\n",
            "           n       0.00      0.00      0.00         7\n",
            "           o       0.00      0.00      0.00        11\n",
            "           p       0.00      0.00      0.00         9\n",
            "           q       0.00      0.00      0.00         5\n",
            "           r       0.00      0.00      0.00         8\n",
            "           s       0.00      0.00      0.00         5\n",
            "           t       0.00      0.00      0.00         2\n",
            "           u       0.00      0.00      0.00         4\n",
            "           v       0.00      0.00      0.00         6\n",
            "           w       0.00      0.00      0.00         6\n",
            "           x       0.08      0.80      0.15         5\n",
            "           y       0.00      0.00      0.00         5\n",
            "           z       0.00      0.00      0.00         5\n",
            "\n",
            "    accuracy                           0.07       118\n",
            "   macro avg       0.01      0.05      0.01       118\n",
            "weighted avg       0.01      0.07      0.01       118\n",
            "\n",
            "\n",
            "\n"
          ]
        },
        {
          "output_type": "stream",
          "name": "stderr",
          "text": [
            "/usr/local/lib/python3.10/dist-packages/sklearn/metrics/_classification.py:1344: UndefinedMetricWarning: Precision and F-score are ill-defined and being set to 0.0 in labels with no predicted samples. Use `zero_division` parameter to control this behavior.\n",
            "  _warn_prf(average, modifier, msg_start, len(result))\n",
            "/usr/local/lib/python3.10/dist-packages/sklearn/metrics/_classification.py:1344: UndefinedMetricWarning: Precision and F-score are ill-defined and being set to 0.0 in labels with no predicted samples. Use `zero_division` parameter to control this behavior.\n",
            "  _warn_prf(average, modifier, msg_start, len(result))\n",
            "/usr/local/lib/python3.10/dist-packages/sklearn/metrics/_classification.py:1344: UndefinedMetricWarning: Precision and F-score are ill-defined and being set to 0.0 in labels with no predicted samples. Use `zero_division` parameter to control this behavior.\n",
            "  _warn_prf(average, modifier, msg_start, len(result))\n"
          ]
        },
        {
          "output_type": "stream",
          "name": "stdout",
          "text": [
            "Layer: 1\n",
            "              precision    recall  f1-score   support\n",
            "\n",
            "           a       0.00      0.00      0.00         1\n",
            "           b       0.00      0.00      0.00         4\n",
            "           c       0.00      0.00      0.00         1\n",
            "           d       0.00      0.00      0.00         4\n",
            "           e       0.00      0.00      0.00         5\n",
            "           f       0.00      0.00      0.00         4\n",
            "           g       0.00      0.00      0.00         2\n",
            "           h       0.00      0.00      0.00         2\n",
            "           i       0.00      0.00      0.00         3\n",
            "           j       0.06      0.57      0.11         7\n",
            "           k       0.00      0.00      0.00         2\n",
            "           l       0.00      0.00      0.00         3\n",
            "           m       0.00      0.00      0.00         2\n",
            "           n       0.00      0.00      0.00         7\n",
            "           o       0.00      0.00      0.00        11\n",
            "           p       0.00      0.00      0.00         9\n",
            "           q       0.00      0.00      0.00         5\n",
            "           r       0.00      0.00      0.00         8\n",
            "           s       0.00      0.00      0.00         5\n",
            "           t       0.00      0.00      0.00         2\n",
            "           u       0.00      0.00      0.00         4\n",
            "           v       0.00      0.00      0.00         6\n",
            "           w       0.00      0.00      0.00         6\n",
            "           x       0.08      0.80      0.15         5\n",
            "           y       0.00      0.00      0.00         5\n",
            "           z       0.00      0.00      0.00         5\n",
            "\n",
            "    accuracy                           0.07       118\n",
            "   macro avg       0.01      0.05      0.01       118\n",
            "weighted avg       0.01      0.07      0.01       118\n",
            "\n",
            "\n",
            "\n"
          ]
        },
        {
          "output_type": "stream",
          "name": "stderr",
          "text": [
            "/usr/local/lib/python3.10/dist-packages/sklearn/metrics/_classification.py:1344: UndefinedMetricWarning: Precision and F-score are ill-defined and being set to 0.0 in labels with no predicted samples. Use `zero_division` parameter to control this behavior.\n",
            "  _warn_prf(average, modifier, msg_start, len(result))\n",
            "/usr/local/lib/python3.10/dist-packages/sklearn/metrics/_classification.py:1344: UndefinedMetricWarning: Precision and F-score are ill-defined and being set to 0.0 in labels with no predicted samples. Use `zero_division` parameter to control this behavior.\n",
            "  _warn_prf(average, modifier, msg_start, len(result))\n",
            "/usr/local/lib/python3.10/dist-packages/sklearn/metrics/_classification.py:1344: UndefinedMetricWarning: Precision and F-score are ill-defined and being set to 0.0 in labels with no predicted samples. Use `zero_division` parameter to control this behavior.\n",
            "  _warn_prf(average, modifier, msg_start, len(result))\n"
          ]
        },
        {
          "output_type": "stream",
          "name": "stdout",
          "text": [
            "Layer: 2\n",
            "              precision    recall  f1-score   support\n",
            "\n",
            "           a       0.00      0.00      0.00         1\n",
            "           b       0.00      0.00      0.00         4\n",
            "           c       0.00      0.00      0.00         1\n",
            "           d       0.00      0.00      0.00         4\n",
            "           e       0.00      0.00      0.00         5\n",
            "           f       0.00      0.00      0.00         4\n",
            "           g       0.00      0.00      0.00         2\n",
            "           h       0.00      0.00      0.00         2\n",
            "           i       0.00      0.00      0.00         3\n",
            "           j       0.06      0.57      0.11         7\n",
            "           k       0.00      0.00      0.00         2\n",
            "           l       0.00      0.00      0.00         3\n",
            "           m       0.00      0.00      0.00         2\n",
            "           n       0.00      0.00      0.00         7\n",
            "           o       0.00      0.00      0.00        11\n",
            "           p       0.00      0.00      0.00         9\n",
            "           q       0.00      0.00      0.00         5\n",
            "           r       0.00      0.00      0.00         8\n",
            "           s       0.00      0.00      0.00         5\n",
            "           t       0.00      0.00      0.00         2\n",
            "           u       0.00      0.00      0.00         4\n",
            "           v       0.00      0.00      0.00         6\n",
            "           w       0.00      0.00      0.00         6\n",
            "           x       0.08      0.80      0.15         5\n",
            "           y       0.00      0.00      0.00         5\n",
            "           z       0.00      0.00      0.00         5\n",
            "\n",
            "    accuracy                           0.07       118\n",
            "   macro avg       0.01      0.05      0.01       118\n",
            "weighted avg       0.01      0.07      0.01       118\n",
            "\n",
            "\n",
            "\n"
          ]
        },
        {
          "output_type": "stream",
          "name": "stderr",
          "text": [
            "/usr/local/lib/python3.10/dist-packages/sklearn/metrics/_classification.py:1344: UndefinedMetricWarning: Precision and F-score are ill-defined and being set to 0.0 in labels with no predicted samples. Use `zero_division` parameter to control this behavior.\n",
            "  _warn_prf(average, modifier, msg_start, len(result))\n",
            "/usr/local/lib/python3.10/dist-packages/sklearn/metrics/_classification.py:1344: UndefinedMetricWarning: Precision and F-score are ill-defined and being set to 0.0 in labels with no predicted samples. Use `zero_division` parameter to control this behavior.\n",
            "  _warn_prf(average, modifier, msg_start, len(result))\n",
            "/usr/local/lib/python3.10/dist-packages/sklearn/metrics/_classification.py:1344: UndefinedMetricWarning: Precision and F-score are ill-defined and being set to 0.0 in labels with no predicted samples. Use `zero_division` parameter to control this behavior.\n",
            "  _warn_prf(average, modifier, msg_start, len(result))\n"
          ]
        },
        {
          "output_type": "stream",
          "name": "stdout",
          "text": [
            "Layer: 3\n",
            "              precision    recall  f1-score   support\n",
            "\n",
            "           a       0.00      0.00      0.00         1\n",
            "           b       0.00      0.00      0.00         4\n",
            "           c       0.00      0.00      0.00         1\n",
            "           d       0.00      0.00      0.00         4\n",
            "           e       0.00      0.00      0.00         5\n",
            "           f       0.00      0.00      0.00         4\n",
            "           g       0.00      0.00      0.00         2\n",
            "           h       0.00      0.00      0.00         2\n",
            "           i       0.00      0.00      0.00         3\n",
            "           j       0.06      0.57      0.11         7\n",
            "           k       0.00      0.00      0.00         2\n",
            "           l       0.00      0.00      0.00         3\n",
            "           m       0.00      0.00      0.00         2\n",
            "           n       0.00      0.00      0.00         7\n",
            "           o       0.00      0.00      0.00        11\n",
            "           p       0.00      0.00      0.00         9\n",
            "           q       0.00      0.00      0.00         5\n",
            "           r       0.00      0.00      0.00         8\n",
            "           s       0.00      0.00      0.00         5\n",
            "           t       0.00      0.00      0.00         2\n",
            "           u       0.00      0.00      0.00         4\n",
            "           v       0.00      0.00      0.00         6\n",
            "           w       0.00      0.00      0.00         6\n",
            "           x       0.08      0.80      0.15         5\n",
            "           y       0.00      0.00      0.00         5\n",
            "           z       0.00      0.00      0.00         5\n",
            "\n",
            "    accuracy                           0.07       118\n",
            "   macro avg       0.01      0.05      0.01       118\n",
            "weighted avg       0.01      0.07      0.01       118\n",
            "\n",
            "\n",
            "\n"
          ]
        },
        {
          "output_type": "stream",
          "name": "stderr",
          "text": [
            "/usr/local/lib/python3.10/dist-packages/sklearn/metrics/_classification.py:1344: UndefinedMetricWarning: Precision and F-score are ill-defined and being set to 0.0 in labels with no predicted samples. Use `zero_division` parameter to control this behavior.\n",
            "  _warn_prf(average, modifier, msg_start, len(result))\n",
            "/usr/local/lib/python3.10/dist-packages/sklearn/metrics/_classification.py:1344: UndefinedMetricWarning: Precision and F-score are ill-defined and being set to 0.0 in labels with no predicted samples. Use `zero_division` parameter to control this behavior.\n",
            "  _warn_prf(average, modifier, msg_start, len(result))\n",
            "/usr/local/lib/python3.10/dist-packages/sklearn/metrics/_classification.py:1344: UndefinedMetricWarning: Precision and F-score are ill-defined and being set to 0.0 in labels with no predicted samples. Use `zero_division` parameter to control this behavior.\n",
            "  _warn_prf(average, modifier, msg_start, len(result))\n"
          ]
        },
        {
          "output_type": "stream",
          "name": "stdout",
          "text": [
            "Layer: 4\n",
            "              precision    recall  f1-score   support\n",
            "\n",
            "           a       0.00      0.00      0.00         1\n",
            "           b       0.00      0.00      0.00         4\n",
            "           c       0.00      0.00      0.00         1\n",
            "           d       0.00      0.00      0.00         4\n",
            "           e       0.00      0.00      0.00         5\n",
            "           f       0.00      0.00      0.00         4\n",
            "           g       0.00      0.00      0.00         2\n",
            "           h       0.00      0.00      0.00         2\n",
            "           i       0.00      0.00      0.00         3\n",
            "           j       0.06      0.57      0.11         7\n",
            "           k       0.00      0.00      0.00         2\n",
            "           l       0.00      0.00      0.00         3\n",
            "           m       0.00      0.00      0.00         2\n",
            "           n       0.00      0.00      0.00         7\n",
            "           o       0.00      0.00      0.00        11\n",
            "           p       0.00      0.00      0.00         9\n",
            "           q       0.00      0.00      0.00         5\n",
            "           r       0.00      0.00      0.00         8\n",
            "           s       0.00      0.00      0.00         5\n",
            "           t       0.00      0.00      0.00         2\n",
            "           u       0.00      0.00      0.00         4\n",
            "           v       0.00      0.00      0.00         6\n",
            "           w       0.00      0.00      0.00         6\n",
            "           x       0.08      0.80      0.15         5\n",
            "           y       0.00      0.00      0.00         5\n",
            "           z       0.00      0.00      0.00         5\n",
            "\n",
            "    accuracy                           0.07       118\n",
            "   macro avg       0.01      0.05      0.01       118\n",
            "weighted avg       0.01      0.07      0.01       118\n",
            "\n",
            "\n",
            "\n"
          ]
        },
        {
          "output_type": "stream",
          "name": "stderr",
          "text": [
            "/usr/local/lib/python3.10/dist-packages/sklearn/metrics/_classification.py:1344: UndefinedMetricWarning: Precision and F-score are ill-defined and being set to 0.0 in labels with no predicted samples. Use `zero_division` parameter to control this behavior.\n",
            "  _warn_prf(average, modifier, msg_start, len(result))\n",
            "/usr/local/lib/python3.10/dist-packages/sklearn/metrics/_classification.py:1344: UndefinedMetricWarning: Precision and F-score are ill-defined and being set to 0.0 in labels with no predicted samples. Use `zero_division` parameter to control this behavior.\n",
            "  _warn_prf(average, modifier, msg_start, len(result))\n",
            "/usr/local/lib/python3.10/dist-packages/sklearn/metrics/_classification.py:1344: UndefinedMetricWarning: Precision and F-score are ill-defined and being set to 0.0 in labels with no predicted samples. Use `zero_division` parameter to control this behavior.\n",
            "  _warn_prf(average, modifier, msg_start, len(result))\n"
          ]
        },
        {
          "output_type": "stream",
          "name": "stdout",
          "text": [
            "Layer: 5\n",
            "              precision    recall  f1-score   support\n",
            "\n",
            "           a       0.00      0.00      0.00         1\n",
            "           b       0.00      0.00      0.00         4\n",
            "           c       0.00      0.00      0.00         1\n",
            "           d       0.00      0.00      0.00         4\n",
            "           e       0.00      0.00      0.00         5\n",
            "           f       0.00      0.00      0.00         4\n",
            "           g       0.00      0.00      0.00         2\n",
            "           h       0.00      0.00      0.00         2\n",
            "           i       0.00      0.00      0.00         3\n",
            "           j       0.06      0.57      0.11         7\n",
            "           k       0.00      0.00      0.00         2\n",
            "           l       0.00      0.00      0.00         3\n",
            "           m       0.00      0.00      0.00         2\n",
            "           n       0.00      0.00      0.00         7\n",
            "           o       0.00      0.00      0.00        11\n",
            "           p       0.00      0.00      0.00         9\n",
            "           q       0.00      0.00      0.00         5\n",
            "           r       0.00      0.00      0.00         8\n",
            "           s       0.00      0.00      0.00         5\n",
            "           t       0.00      0.00      0.00         2\n",
            "           u       0.00      0.00      0.00         4\n",
            "           v       0.00      0.00      0.00         6\n",
            "           w       0.00      0.00      0.00         6\n",
            "           x       0.08      0.80      0.15         5\n",
            "           y       0.00      0.00      0.00         5\n",
            "           z       0.00      0.00      0.00         5\n",
            "\n",
            "    accuracy                           0.07       118\n",
            "   macro avg       0.01      0.05      0.01       118\n",
            "weighted avg       0.01      0.07      0.01       118\n",
            "\n",
            "\n",
            "\n"
          ]
        },
        {
          "output_type": "stream",
          "name": "stderr",
          "text": [
            "/usr/local/lib/python3.10/dist-packages/sklearn/metrics/_classification.py:1344: UndefinedMetricWarning: Precision and F-score are ill-defined and being set to 0.0 in labels with no predicted samples. Use `zero_division` parameter to control this behavior.\n",
            "  _warn_prf(average, modifier, msg_start, len(result))\n",
            "/usr/local/lib/python3.10/dist-packages/sklearn/metrics/_classification.py:1344: UndefinedMetricWarning: Precision and F-score are ill-defined and being set to 0.0 in labels with no predicted samples. Use `zero_division` parameter to control this behavior.\n",
            "  _warn_prf(average, modifier, msg_start, len(result))\n",
            "/usr/local/lib/python3.10/dist-packages/sklearn/metrics/_classification.py:1344: UndefinedMetricWarning: Precision and F-score are ill-defined and being set to 0.0 in labels with no predicted samples. Use `zero_division` parameter to control this behavior.\n",
            "  _warn_prf(average, modifier, msg_start, len(result))\n"
          ]
        },
        {
          "output_type": "stream",
          "name": "stdout",
          "text": [
            "Layer: 6\n",
            "              precision    recall  f1-score   support\n",
            "\n",
            "           a       0.00      0.00      0.00         1\n",
            "           b       0.00      0.00      0.00         4\n",
            "           c       0.00      0.00      0.00         1\n",
            "           d       0.00      0.00      0.00         4\n",
            "           e       0.00      0.00      0.00         5\n",
            "           f       0.00      0.00      0.00         4\n",
            "           g       0.00      0.00      0.00         2\n",
            "           h       0.00      0.00      0.00         2\n",
            "           i       0.00      0.00      0.00         3\n",
            "           j       0.06      0.57      0.11         7\n",
            "           k       0.00      0.00      0.00         2\n",
            "           l       0.00      0.00      0.00         3\n",
            "           m       0.00      0.00      0.00         2\n",
            "           n       0.00      0.00      0.00         7\n",
            "           o       0.00      0.00      0.00        11\n",
            "           p       0.00      0.00      0.00         9\n",
            "           q       0.00      0.00      0.00         5\n",
            "           r       0.00      0.00      0.00         8\n",
            "           s       0.00      0.00      0.00         5\n",
            "           t       0.00      0.00      0.00         2\n",
            "           u       0.00      0.00      0.00         4\n",
            "           v       0.00      0.00      0.00         6\n",
            "           w       0.00      0.00      0.00         6\n",
            "           x       0.08      0.80      0.15         5\n",
            "           y       0.00      0.00      0.00         5\n",
            "           z       0.00      0.00      0.00         5\n",
            "\n",
            "    accuracy                           0.07       118\n",
            "   macro avg       0.01      0.05      0.01       118\n",
            "weighted avg       0.01      0.07      0.01       118\n",
            "\n",
            "\n",
            "\n"
          ]
        },
        {
          "output_type": "stream",
          "name": "stderr",
          "text": [
            "/usr/local/lib/python3.10/dist-packages/sklearn/metrics/_classification.py:1344: UndefinedMetricWarning: Precision and F-score are ill-defined and being set to 0.0 in labels with no predicted samples. Use `zero_division` parameter to control this behavior.\n",
            "  _warn_prf(average, modifier, msg_start, len(result))\n",
            "/usr/local/lib/python3.10/dist-packages/sklearn/metrics/_classification.py:1344: UndefinedMetricWarning: Precision and F-score are ill-defined and being set to 0.0 in labels with no predicted samples. Use `zero_division` parameter to control this behavior.\n",
            "  _warn_prf(average, modifier, msg_start, len(result))\n",
            "/usr/local/lib/python3.10/dist-packages/sklearn/metrics/_classification.py:1344: UndefinedMetricWarning: Precision and F-score are ill-defined and being set to 0.0 in labels with no predicted samples. Use `zero_division` parameter to control this behavior.\n",
            "  _warn_prf(average, modifier, msg_start, len(result))\n"
          ]
        },
        {
          "output_type": "stream",
          "name": "stdout",
          "text": [
            "Layer: 7\n",
            "              precision    recall  f1-score   support\n",
            "\n",
            "           a       0.00      0.00      0.00         1\n",
            "           b       0.00      0.00      0.00         4\n",
            "           c       0.00      0.00      0.00         1\n",
            "           d       0.00      0.00      0.00         4\n",
            "           e       0.00      0.00      0.00         5\n",
            "           f       0.00      0.00      0.00         4\n",
            "           g       0.00      0.00      0.00         2\n",
            "           h       0.00      0.00      0.00         2\n",
            "           i       0.00      0.00      0.00         3\n",
            "           j       0.06      0.57      0.11         7\n",
            "           k       0.00      0.00      0.00         2\n",
            "           l       0.00      0.00      0.00         3\n",
            "           m       0.00      0.00      0.00         2\n",
            "           n       0.00      0.00      0.00         7\n",
            "           o       0.00      0.00      0.00        11\n",
            "           p       0.00      0.00      0.00         9\n",
            "           q       0.00      0.00      0.00         5\n",
            "           r       0.00      0.00      0.00         8\n",
            "           s       0.00      0.00      0.00         5\n",
            "           t       0.00      0.00      0.00         2\n",
            "           u       0.00      0.00      0.00         4\n",
            "           v       0.00      0.00      0.00         6\n",
            "           w       0.00      0.00      0.00         6\n",
            "           x       0.08      0.80      0.15         5\n",
            "           y       0.00      0.00      0.00         5\n",
            "           z       0.00      0.00      0.00         5\n",
            "\n",
            "    accuracy                           0.07       118\n",
            "   macro avg       0.01      0.05      0.01       118\n",
            "weighted avg       0.01      0.07      0.01       118\n",
            "\n",
            "\n",
            "\n"
          ]
        },
        {
          "output_type": "stream",
          "name": "stderr",
          "text": [
            "/usr/local/lib/python3.10/dist-packages/sklearn/metrics/_classification.py:1344: UndefinedMetricWarning: Precision and F-score are ill-defined and being set to 0.0 in labels with no predicted samples. Use `zero_division` parameter to control this behavior.\n",
            "  _warn_prf(average, modifier, msg_start, len(result))\n",
            "/usr/local/lib/python3.10/dist-packages/sklearn/metrics/_classification.py:1344: UndefinedMetricWarning: Precision and F-score are ill-defined and being set to 0.0 in labels with no predicted samples. Use `zero_division` parameter to control this behavior.\n",
            "  _warn_prf(average, modifier, msg_start, len(result))\n",
            "/usr/local/lib/python3.10/dist-packages/sklearn/metrics/_classification.py:1344: UndefinedMetricWarning: Precision and F-score are ill-defined and being set to 0.0 in labels with no predicted samples. Use `zero_division` parameter to control this behavior.\n",
            "  _warn_prf(average, modifier, msg_start, len(result))\n"
          ]
        },
        {
          "output_type": "stream",
          "name": "stdout",
          "text": [
            "Layer: 8\n",
            "              precision    recall  f1-score   support\n",
            "\n",
            "           a       0.00      0.00      0.00         1\n",
            "           b       0.00      0.00      0.00         4\n",
            "           c       0.00      0.00      0.00         1\n",
            "           d       0.00      0.00      0.00         4\n",
            "           e       0.00      0.00      0.00         5\n",
            "           f       0.00      0.00      0.00         4\n",
            "           g       0.00      0.00      0.00         2\n",
            "           h       0.00      0.00      0.00         2\n",
            "           i       0.00      0.00      0.00         3\n",
            "           j       0.06      0.57      0.11         7\n",
            "           k       0.00      0.00      0.00         2\n",
            "           l       0.00      0.00      0.00         3\n",
            "           m       0.00      0.00      0.00         2\n",
            "           n       0.00      0.00      0.00         7\n",
            "           o       0.00      0.00      0.00        11\n",
            "           p       0.00      0.00      0.00         9\n",
            "           q       0.00      0.00      0.00         5\n",
            "           r       0.00      0.00      0.00         8\n",
            "           s       0.00      0.00      0.00         5\n",
            "           t       0.00      0.00      0.00         2\n",
            "           u       0.00      0.00      0.00         4\n",
            "           v       0.00      0.00      0.00         6\n",
            "           w       0.00      0.00      0.00         6\n",
            "           x       0.08      0.80      0.15         5\n",
            "           y       0.00      0.00      0.00         5\n",
            "           z       0.00      0.00      0.00         5\n",
            "\n",
            "    accuracy                           0.07       118\n",
            "   macro avg       0.01      0.05      0.01       118\n",
            "weighted avg       0.01      0.07      0.01       118\n",
            "\n",
            "\n",
            "\n"
          ]
        },
        {
          "output_type": "stream",
          "name": "stderr",
          "text": [
            "/usr/local/lib/python3.10/dist-packages/sklearn/metrics/_classification.py:1344: UndefinedMetricWarning: Precision and F-score are ill-defined and being set to 0.0 in labels with no predicted samples. Use `zero_division` parameter to control this behavior.\n",
            "  _warn_prf(average, modifier, msg_start, len(result))\n",
            "/usr/local/lib/python3.10/dist-packages/sklearn/metrics/_classification.py:1344: UndefinedMetricWarning: Precision and F-score are ill-defined and being set to 0.0 in labels with no predicted samples. Use `zero_division` parameter to control this behavior.\n",
            "  _warn_prf(average, modifier, msg_start, len(result))\n",
            "/usr/local/lib/python3.10/dist-packages/sklearn/metrics/_classification.py:1344: UndefinedMetricWarning: Precision and F-score are ill-defined and being set to 0.0 in labels with no predicted samples. Use `zero_division` parameter to control this behavior.\n",
            "  _warn_prf(average, modifier, msg_start, len(result))\n"
          ]
        },
        {
          "output_type": "stream",
          "name": "stdout",
          "text": [
            "Layer: 9\n",
            "              precision    recall  f1-score   support\n",
            "\n",
            "           a       0.00      0.00      0.00         1\n",
            "           b       0.00      0.00      0.00         4\n",
            "           c       0.00      0.00      0.00         1\n",
            "           d       0.00      0.00      0.00         4\n",
            "           e       0.00      0.00      0.00         5\n",
            "           f       0.00      0.00      0.00         4\n",
            "           g       0.00      0.00      0.00         2\n",
            "           h       0.00      0.00      0.00         2\n",
            "           i       0.00      0.00      0.00         3\n",
            "           j       0.06      0.57      0.11         7\n",
            "           k       0.00      0.00      0.00         2\n",
            "           l       0.00      0.00      0.00         3\n",
            "           m       0.00      0.00      0.00         2\n",
            "           n       0.00      0.00      0.00         7\n",
            "           o       0.00      0.00      0.00        11\n",
            "           p       0.00      0.00      0.00         9\n",
            "           q       0.00      0.00      0.00         5\n",
            "           r       0.00      0.00      0.00         8\n",
            "           s       0.00      0.00      0.00         5\n",
            "           t       0.00      0.00      0.00         2\n",
            "           u       0.00      0.00      0.00         4\n",
            "           v       0.00      0.00      0.00         6\n",
            "           w       0.00      0.00      0.00         6\n",
            "           x       0.08      0.80      0.15         5\n",
            "           y       0.00      0.00      0.00         5\n",
            "           z       0.00      0.00      0.00         5\n",
            "\n",
            "    accuracy                           0.07       118\n",
            "   macro avg       0.01      0.05      0.01       118\n",
            "weighted avg       0.01      0.07      0.01       118\n",
            "\n",
            "\n",
            "\n"
          ]
        },
        {
          "output_type": "stream",
          "name": "stderr",
          "text": [
            "/usr/local/lib/python3.10/dist-packages/sklearn/metrics/_classification.py:1344: UndefinedMetricWarning: Precision and F-score are ill-defined and being set to 0.0 in labels with no predicted samples. Use `zero_division` parameter to control this behavior.\n",
            "  _warn_prf(average, modifier, msg_start, len(result))\n",
            "/usr/local/lib/python3.10/dist-packages/sklearn/metrics/_classification.py:1344: UndefinedMetricWarning: Precision and F-score are ill-defined and being set to 0.0 in labels with no predicted samples. Use `zero_division` parameter to control this behavior.\n",
            "  _warn_prf(average, modifier, msg_start, len(result))\n",
            "/usr/local/lib/python3.10/dist-packages/sklearn/metrics/_classification.py:1344: UndefinedMetricWarning: Precision and F-score are ill-defined and being set to 0.0 in labels with no predicted samples. Use `zero_division` parameter to control this behavior.\n",
            "  _warn_prf(average, modifier, msg_start, len(result))\n"
          ]
        },
        {
          "output_type": "stream",
          "name": "stdout",
          "text": [
            "Layer: 10\n",
            "              precision    recall  f1-score   support\n",
            "\n",
            "           a       0.00      0.00      0.00         1\n",
            "           b       0.00      0.00      0.00         4\n",
            "           c       0.00      0.00      0.00         1\n",
            "           d       0.00      0.00      0.00         4\n",
            "           e       0.00      0.00      0.00         5\n",
            "           f       0.00      0.00      0.00         4\n",
            "           g       0.00      0.00      0.00         2\n",
            "           h       0.00      0.00      0.00         2\n",
            "           i       0.00      0.00      0.00         3\n",
            "           j       0.06      0.57      0.11         7\n",
            "           k       0.00      0.00      0.00         2\n",
            "           l       0.00      0.00      0.00         3\n",
            "           m       0.00      0.00      0.00         2\n",
            "           n       0.00      0.00      0.00         7\n",
            "           o       0.00      0.00      0.00        11\n",
            "           p       0.00      0.00      0.00         9\n",
            "           q       0.00      0.00      0.00         5\n",
            "           r       0.00      0.00      0.00         8\n",
            "           s       0.00      0.00      0.00         5\n",
            "           t       0.00      0.00      0.00         2\n",
            "           u       0.00      0.00      0.00         4\n",
            "           v       0.00      0.00      0.00         6\n",
            "           w       0.00      0.00      0.00         6\n",
            "           x       0.08      0.80      0.15         5\n",
            "           y       0.00      0.00      0.00         5\n",
            "           z       0.00      0.00      0.00         5\n",
            "\n",
            "    accuracy                           0.07       118\n",
            "   macro avg       0.01      0.05      0.01       118\n",
            "weighted avg       0.01      0.07      0.01       118\n",
            "\n",
            "\n",
            "\n"
          ]
        },
        {
          "output_type": "stream",
          "name": "stderr",
          "text": [
            "/usr/local/lib/python3.10/dist-packages/sklearn/metrics/_classification.py:1344: UndefinedMetricWarning: Precision and F-score are ill-defined and being set to 0.0 in labels with no predicted samples. Use `zero_division` parameter to control this behavior.\n",
            "  _warn_prf(average, modifier, msg_start, len(result))\n",
            "/usr/local/lib/python3.10/dist-packages/sklearn/metrics/_classification.py:1344: UndefinedMetricWarning: Precision and F-score are ill-defined and being set to 0.0 in labels with no predicted samples. Use `zero_division` parameter to control this behavior.\n",
            "  _warn_prf(average, modifier, msg_start, len(result))\n",
            "/usr/local/lib/python3.10/dist-packages/sklearn/metrics/_classification.py:1344: UndefinedMetricWarning: Precision and F-score are ill-defined and being set to 0.0 in labels with no predicted samples. Use `zero_division` parameter to control this behavior.\n",
            "  _warn_prf(average, modifier, msg_start, len(result))\n"
          ]
        },
        {
          "output_type": "stream",
          "name": "stdout",
          "text": [
            "Layer: 11\n",
            "              precision    recall  f1-score   support\n",
            "\n",
            "           a       0.00      0.00      0.00         1\n",
            "           b       0.00      0.00      0.00         4\n",
            "           c       0.00      0.00      0.00         1\n",
            "           d       0.00      0.00      0.00         4\n",
            "           e       0.00      0.00      0.00         5\n",
            "           f       0.00      0.00      0.00         4\n",
            "           g       0.00      0.00      0.00         2\n",
            "           h       0.00      0.00      0.00         2\n",
            "           i       0.00      0.00      0.00         3\n",
            "           j       0.06      0.57      0.11         7\n",
            "           k       0.00      0.00      0.00         2\n",
            "           l       0.00      0.00      0.00         3\n",
            "           m       0.00      0.00      0.00         2\n",
            "           n       0.00      0.00      0.00         7\n",
            "           o       0.00      0.00      0.00        11\n",
            "           p       0.00      0.00      0.00         9\n",
            "           q       0.00      0.00      0.00         5\n",
            "           r       0.00      0.00      0.00         8\n",
            "           s       0.00      0.00      0.00         5\n",
            "           t       0.00      0.00      0.00         2\n",
            "           u       0.00      0.00      0.00         4\n",
            "           v       0.00      0.00      0.00         6\n",
            "           w       0.00      0.00      0.00         6\n",
            "           x       0.08      0.80      0.15         5\n",
            "           y       0.00      0.00      0.00         5\n",
            "           z       0.00      0.00      0.00         5\n",
            "\n",
            "    accuracy                           0.07       118\n",
            "   macro avg       0.01      0.05      0.01       118\n",
            "weighted avg       0.01      0.07      0.01       118\n",
            "\n",
            "\n",
            "\n"
          ]
        },
        {
          "output_type": "stream",
          "name": "stderr",
          "text": [
            "/usr/local/lib/python3.10/dist-packages/sklearn/metrics/_classification.py:1344: UndefinedMetricWarning: Precision and F-score are ill-defined and being set to 0.0 in labels with no predicted samples. Use `zero_division` parameter to control this behavior.\n",
            "  _warn_prf(average, modifier, msg_start, len(result))\n",
            "/usr/local/lib/python3.10/dist-packages/sklearn/metrics/_classification.py:1344: UndefinedMetricWarning: Precision and F-score are ill-defined and being set to 0.0 in labels with no predicted samples. Use `zero_division` parameter to control this behavior.\n",
            "  _warn_prf(average, modifier, msg_start, len(result))\n",
            "/usr/local/lib/python3.10/dist-packages/sklearn/metrics/_classification.py:1344: UndefinedMetricWarning: Precision and F-score are ill-defined and being set to 0.0 in labels with no predicted samples. Use `zero_division` parameter to control this behavior.\n",
            "  _warn_prf(average, modifier, msg_start, len(result))\n"
          ]
        }
      ]
    },
    {
      "cell_type": "markdown",
      "source": [
        "# Task 2 - Conclusion\n",
        "- We see a significant drop in the model's performance when limiting it to only observe the first token of a word, since our property ensures that the token does not match any word in the dictionary, there are no semantics attached, and we find that the drop in performance relative to earler implies that the model did indeed learn semantics.\n",
        "- It also shows that doing so makes it impossible for the model to learn semantics. Another way to do it would be to shuffle tokens after the first one, which would break semantics, denying the model a chance to learn semantics.\n",
        "- When analyzing performance over layers, for the semantic experiment (where all tokens in a word are given to the model), the weighted average of accuracy lies between 0.3 - 0.6, across layers, which is at least an order of magnitude better than random. We hypothesize that considering layers together might possibly yield more information.\n",
        "- When analyzing performance over layers, for the non-semantic experiment (where only the first token of the word is given to the model), the weighted average of accuracy is consistently 0.01, across layers, which agrees with our findings that the model does not learn spellings."
      ],
      "metadata": {
        "id": "7aixrK3AZDjs"
      }
    },
    {
      "cell_type": "markdown",
      "metadata": {
        "id": "fkjlriEe-ZLK"
      },
      "source": [
        "# Custom Section\n",
        "\n",
        "## Make a Hypothesis [5]\n",
        "\n",
        "Based on the experiments from the previous section, come up with an intuition of how doing Language Modelling could teach the model about those aspects of spelling?\n",
        "\n",
        "## Design an experiment [5]\n",
        "\n",
        "Design your own probing experiment to check for an interesting subtask using spelling.\n",
        "\n",
        "## Code up using the guidelines from the previous cells [8]\n",
        "\n",
        "## Do layer-wise analysis on your task [4]\n",
        "\n",
        "Do probes for particular layers do better than others?\n",
        "\n",
        "Make a layer-wise plot\n",
        "\n",
        "\n",
        "## Bonus: Design a control task for your experiment [10]\n",
        "\n",
        "Reference: https://arxiv.org/abs/1909.03368\n",
        "\n",
        "\n"
      ]
    },
    {
      "cell_type": "markdown",
      "source": [
        "Hypothesis: To teach the model about capturing the first letter in a word, we first need to understand first that the model does not see words, but instead, tokens, and the concept of the first letter of a word is lost after breaking into tokens, as only few tokens capture this information, and which ones do is also unknown to the model. One way to go around this is to consider words as a singular unit - given the higher performance over the original unmodified dataset, we believe that such a training should help the model capture first-character/spelling information"
      ],
      "metadata": {
        "id": "HR7PgVMtiL72"
      }
    },
    {
      "cell_type": "markdown",
      "source": [
        "Task - estimate length of a word"
      ],
      "metadata": {
        "id": "In1LPNi3jERQ"
      }
    },
    {
      "cell_type": "code",
      "source": [
        "def get_shuffled_embeddings_all_layers(model, tokenizer, data, pool_func, layer=-1,):\n",
        "    embed_list = []\n",
        "    for word, label in data:\n",
        "        # print(word)\n",
        "        tokens = tokenizer.tokenize(word)\n",
        "        random.shuffle(tokens)\n",
        "        shuffled_word = \"\".join(tokens)\n",
        "        inputs = tokenizer(shuffled_word, return_tensors=\"pt\").to(device=DEVICE)\n",
        "        # print(inputs)\n",
        "        embeddings = model(**inputs, output_hidden_states=True)\n",
        "        # embeddings = torch.stack(outputs.hidden_states).squeeze()\n",
        "        # print(len(embeddings.hidden_states))\n",
        "        embeddings = embeddings.hidden_states[layer].detach().cpu().numpy()\n",
        "        embeddings = pool_func(embeddings, dim=-2)\n",
        "        embed_list.append(embeddings)\n",
        "    return embed_list"
      ],
      "metadata": {
        "id": "D0jp1C-N0xCC"
      },
      "execution_count": null,
      "outputs": []
    },
    {
      "cell_type": "code",
      "source": [
        "# https://scikit-learn.org/stable/modules/generated/sklearn.ensemble.RandomForestClassifier.html#sklearn.ensemble.RandomForestClassifier\n",
        "from sklearn.linear_model import LinearRegression\n",
        "from sklearn.metrics import mean_absolute_error\n",
        "\n",
        "SELECTION_COUNT = 50 # selecting 50 words with each different starting character\n",
        "\n",
        "any_balanced_inputs = []\n",
        "for word in words_list:\n",
        "  first_char = word[0]\n",
        "  selection_probability = SELECTION_COUNT / any_freq_by_first_char[first_char]\n",
        "  if random.random() < selection_probability:\n",
        "    any_balanced_inputs.append(word)\n",
        "\n",
        "# print(len(any_balanced_inputs))\n",
        "any_freq_by_label = {}\n",
        "for word in any_balanced_inputs:\n",
        "  label = word[0]\n",
        "  prev_freq = any_freq_by_label.get(label, 0)\n",
        "  any_freq_by_label[label] = 1 + prev_freq\n",
        "# print(any_freq_by_label)\n",
        "\n",
        "any_train_inputs = []\n",
        "any_train_labels = []\n",
        "any_test_inputs = []\n",
        "any_test_labels = []\n",
        "for word in any_balanced_inputs:\n",
        "  if random.random() < 0.8:\n",
        "    any_train_inputs.append(word)\n",
        "    any_train_labels.append(len(word))\n",
        "  else:\n",
        "    any_test_inputs.append(word)\n",
        "    any_test_labels.append(len(word))\n",
        "\n",
        "any_train_data = [(any_train_inputs[i], any_train_labels[i]) for i in range(len(any_train_inputs))]\n",
        "any_test_data = [(any_test_inputs[i], any_test_labels[i]) for i in range(len(any_test_inputs))]\n",
        "\n",
        "any_embeds = get_embeddings_all_layers(model, tokenizer, any_train_data, pool_func=lambda x, dim: np.mean(x, axis=dim), layer=-1)\n",
        "any_embeds_test = get_embeddings_all_layers(model, tokenizer, any_test_data, pool_func=lambda x, dim: np.mean(x, axis=dim), layer=-1)\n",
        "\n",
        "any_embeds = np.concatenate(any_embeds, axis=0)\n",
        "any_embeds_test = np.concatenate(any_embeds_test, axis=0)\n",
        "\n",
        "any_lr = LinearRegression()\n",
        "any_lr.fit(any_embeds, any_train_labels)\n",
        "\n",
        "mae = mean_absolute_error(any_test_labels, any_lr.predict(any_embeds_test))\n",
        "print(f\"MAE: {mae}\")\n",
        "average_test_len = sum(any_test_labels) / len(any_test_labels)\n",
        "print(f\"Average Test Length: {average_test_len}, Percentage error: {mae/average_test_len * 100.0}\")"
      ],
      "metadata": {
        "colab": {
          "base_uri": "https://localhost:8080/"
        },
        "id": "X_OqPV0dxHUG",
        "outputId": "fcd1ec1c-cd78-453c-d39c-2355f797aed2"
      },
      "execution_count": null,
      "outputs": [
        {
          "output_type": "stream",
          "name": "stdout",
          "text": [
            "MAE: 1.9187750658713096\n",
            "Average Test Length: 9.173553719008265, Percentage error: 20.916376844182743\n"
          ]
        }
      ]
    },
    {
      "cell_type": "markdown",
      "source": [
        "### Shuffling Tokens"
      ],
      "metadata": {
        "id": "GniyJoXy42Tg"
      }
    },
    {
      "cell_type": "code",
      "source": [
        "any_embeds = get_shuffled_embeddings_all_layers(model, tokenizer, any_train_data, pool_func=lambda x, dim: np.mean(x, axis=dim), layer=-1)\n",
        "any_embeds_test = get_shuffled_embeddings_all_layers(model, tokenizer, any_test_data, pool_func=lambda x, dim: np.mean(x, axis=dim), layer=-1)\n",
        "\n",
        "any_embeds = np.concatenate(any_embeds, axis=0)\n",
        "any_embeds_test = np.concatenate(any_embeds_test, axis=0)\n",
        "\n",
        "any_lr = LinearRegression()\n",
        "any_lr.fit(any_embeds, any_train_labels)\n",
        "\n",
        "mae = mean_absolute_error(any_test_labels, any_lr.predict(any_embeds_test))\n",
        "print(f\"MAE: {mae}\")\n",
        "average_test_len = sum(any_test_labels) / len(any_test_labels)\n",
        "print(f\"Average Test Length: {average_test_len}, Percentage error: {mae/average_test_len * 100.0}\")"
      ],
      "metadata": {
        "colab": {
          "base_uri": "https://localhost:8080/"
        },
        "id": "4te-r6Ga4Io7",
        "outputId": "631a38df-6b81-4785-fd93-d35162e177a2"
      },
      "execution_count": null,
      "outputs": [
        {
          "output_type": "stream",
          "name": "stdout",
          "text": [
            "MAE: 1.9189130294421488\n",
            "Average Test Length: 9.173553719008265, Percentage error: 20.917880771396398\n"
          ]
        }
      ]
    },
    {
      "cell_type": "code",
      "source": [
        "maes_normal = []\n",
        "for layer in range(13):\n",
        "  any_embeds = get_embeddings_all_layers(model, tokenizer, any_train_data, pool_func=lambda x, dim: np.mean(x, axis=dim), layer=layer)\n",
        "  any_embeds_test = get_embeddings_all_layers(model, tokenizer, any_test_data, pool_func=lambda x, dim: np.mean(x, axis=dim), layer=layer)\n",
        "\n",
        "  any_embeds = np.concatenate(any_embeds, axis=0)\n",
        "  any_embeds_test = np.concatenate(any_embeds_test, axis=0)\n",
        "\n",
        "  any_lr = LinearRegression()\n",
        "  any_lr.fit(any_embeds, any_train_labels)\n",
        "\n",
        "  mae = mean_absolute_error(any_test_labels, any_lr.predict(any_embeds_test))\n",
        "  maes_normal.append(mae)\n",
        "  print(f\"Layer: {layer}, MAE: {mae}\")\n",
        "  average_test_len = sum(any_test_labels) / len(any_test_labels)\n",
        "  print(f\"Average Test Length: {average_test_len}, Percentage error: {mae/average_test_len * 100.0}\")\n",
        "  print()"
      ],
      "metadata": {
        "colab": {
          "base_uri": "https://localhost:8080/"
        },
        "id": "Fv2qX1IRSY6m",
        "outputId": "8f3fb726-c850-473e-a020-f2f26f05ea1b"
      },
      "execution_count": null,
      "outputs": [
        {
          "output_type": "stream",
          "name": "stdout",
          "text": [
            "Layer: 0, MAE: 1.094960271819564\n",
            "Average Test Length: 9.173553719008265, Percentage error: 11.936053413528578\n",
            "\n",
            "Layer: 1, MAE: 1.1826736828512396\n",
            "Average Test Length: 9.173553719008265, Percentage error: 12.892208614864863\n",
            "\n",
            "Layer: 2, MAE: 1.354443762913223\n",
            "Average Test Length: 9.173553719008265, Percentage error: 14.76465723536036\n",
            "\n",
            "Layer: 3, MAE: 1.2923896726497934\n",
            "Average Test Length: 9.173553719008265, Percentage error: 14.088211746903154\n",
            "\n",
            "Layer: 4, MAE: 1.323710291838843\n",
            "Average Test Length: 9.173553719008265, Percentage error: 14.429634712837839\n",
            "\n",
            "Layer: 5, MAE: 1.4101512057722108\n",
            "Average Test Length: 9.173553719008265, Percentage error: 15.371918549408784\n",
            "\n",
            "Layer: 6, MAE: 1.4192802492252066\n",
            "Average Test Length: 9.173553719008265, Percentage error: 15.47143334740991\n",
            "\n",
            "Layer: 7, MAE: 1.4161059166774277\n",
            "Average Test Length: 9.173553719008265, Percentage error: 15.436830262880067\n",
            "\n",
            "Layer: 8, MAE: 1.5650039546745869\n",
            "Average Test Length: 9.173553719008265, Percentage error: 17.059953019425677\n",
            "\n",
            "Layer: 9, MAE: 1.5466822001559675\n",
            "Average Test Length: 9.173553719008265, Percentage error: 16.86022938908757\n",
            "\n",
            "Layer: 10, MAE: 1.6784423284294192\n",
            "Average Test Length: 9.173553719008265, Percentage error: 18.29653349008646\n",
            "\n",
            "Layer: 11, MAE: 1.698045967038998\n",
            "Average Test Length: 9.173553719008265, Percentage error: 18.510230811866553\n",
            "\n",
            "Layer: 12, MAE: 1.9187750658713096\n",
            "Average Test Length: 9.173553719008265, Percentage error: 20.916376844182743\n",
            "\n"
          ]
        }
      ]
    },
    {
      "cell_type": "code",
      "source": [
        "maes_shuffled = []\n",
        "for layer in range(13):\n",
        "  any_embeds = get_shuffled_embeddings_all_layers(model, tokenizer, any_train_data, pool_func=lambda x, dim: np.mean(x, axis=dim), layer=layer)\n",
        "  any_embeds_test = get_shuffled_embeddings_all_layers(model, tokenizer, any_test_data, pool_func=lambda x, dim: np.mean(x, axis=dim), layer=layer)\n",
        "\n",
        "  any_embeds = np.concatenate(any_embeds, axis=0)\n",
        "  any_embeds_test = np.concatenate(any_embeds_test, axis=0)\n",
        "\n",
        "  any_lr = LinearRegression()\n",
        "  any_lr.fit(any_embeds, any_train_labels)\n",
        "\n",
        "  mae = mean_absolute_error(any_test_labels, any_lr.predict(any_embeds_test))\n",
        "  maes_shuffled.append(mae)\n",
        "  print(f\"Layer: {layer}, MAE: {mae}\")\n",
        "  average_test_len = sum(any_test_labels) / len(any_test_labels)\n",
        "  print(f\"Average Test Length: {average_test_len}, Percentage error: {mae/average_test_len * 100.0}\")\n",
        "  print()"
      ],
      "metadata": {
        "colab": {
          "base_uri": "https://localhost:8080/"
        },
        "id": "JTJ9yH6_StRL",
        "outputId": "9f5a7aee-57c7-4aa0-d3ae-ccafc79557b9"
      },
      "execution_count": null,
      "outputs": [
        {
          "output_type": "stream",
          "name": "stdout",
          "text": [
            "Layer: 0, MAE: 1.0930619673295454\n",
            "Average Test Length: 9.173553719008265, Percentage error: 11.915360184403152\n",
            "\n",
            "Layer: 1, MAE: 1.1768405378357438\n",
            "Average Test Length: 9.173553719008265, Percentage error: 12.82862207911036\n",
            "\n",
            "Layer: 2, MAE: 1.488007588820024\n",
            "Average Test Length: 9.173553719008265, Percentage error: 16.220623265515577\n",
            "\n",
            "Layer: 3, MAE: 1.3195808347591684\n",
            "Average Test Length: 9.173553719008265, Percentage error: 14.384619910437783\n",
            "\n",
            "Layer: 4, MAE: 1.45754777892562\n",
            "Average Test Length: 9.173553719008265, Percentage error: 15.888583896396396\n",
            "\n",
            "Layer: 5, MAE: 1.505778667355372\n",
            "Average Test Length: 9.173553719008265, Percentage error: 16.41434403153153\n",
            "\n",
            "Layer: 6, MAE: 1.6110688516916323\n",
            "Average Test Length: 9.173553719008265, Percentage error: 17.562101896818692\n",
            "\n",
            "Layer: 7, MAE: 1.5957111957644627\n",
            "Average Test Length: 9.173553719008265, Percentage error: 17.394689611486484\n",
            "\n",
            "Layer: 8, MAE: 1.649770831273607\n",
            "Average Test Length: 9.173553719008265, Percentage error: 17.98398834091049\n",
            "\n",
            "Layer: 9, MAE: 1.8007651084710743\n",
            "Average Test Length: 9.173553719008265, Percentage error: 19.629961993243242\n",
            "\n",
            "Layer: 10, MAE: 1.8660737345041323\n",
            "Average Test Length: 9.173553719008265, Percentage error: 20.341884853603602\n",
            "\n",
            "Layer: 11, MAE: 2.081942471590909\n",
            "Average Test Length: 9.173553719008265, Percentage error: 22.69504856418919\n",
            "\n",
            "Layer: 12, MAE: 1.976380834894732\n",
            "Average Test Length: 9.173553719008265, Percentage error: 21.544331623627258\n",
            "\n"
          ]
        }
      ]
    },
    {
      "cell_type": "code",
      "source": [
        "normal_average = sum(maes_normal) / len(maes_normal)\n",
        "shuffled_average = sum(maes_shuffled) / len(maes_shuffled)\n",
        "print(f\"Original Average MAE: {normal_average}, Shuffled Average MAE: {shuffled_average}\")\n",
        "print(f\"Original Average Percentage Error: {normal_average / average_test_len * 100.0}, Shuffled Average Percentage Error: {shuffled_average / average_test_len * 100.0}\")\n",
        "\n",
        "original_worse = 0\n",
        "for layer in range(13):\n",
        "  if maes_normal[layer] > maes_shuffled[layer]:\n",
        "    original_worse += 1\n",
        "print(f\"Out of 13 layers, the information of length is better captured when shuffled in {original_worse} layers.\")"
      ],
      "metadata": {
        "colab": {
          "base_uri": "https://localhost:8080/"
        },
        "id": "WMnZ2mjzTGFt",
        "outputId": "899e4009-5a6a-4ae3-f40e-b2cf8bdfe865"
      },
      "execution_count": null,
      "outputs": [
        {
          "output_type": "stream",
          "name": "stdout",
          "text": [
            "Original Average MAE: 1.4538972746090606, Shuffled Average MAE: 1.5863484925550786\n",
            "Original Average Percentage Error: 15.848790110603272, Shuffled Average Percentage Error: 17.29262771163644\n",
            "Out of 13 layers, the information of length is better captured when shuffled in 2 layers.\n"
          ]
        }
      ]
    },
    {
      "cell_type": "code",
      "source": [
        "import matplotlib.pyplot as plt\n",
        "\n",
        "fig, ax = plt.subplots()\n",
        "\n",
        "ax.plot(range(len(maes_normal)), maes_normal, label='Original')\n",
        "\n",
        "ax.plot(range(len(maes_shuffled)), maes_shuffled, label='Shuffled')\n",
        "\n",
        "ax.set_xlabel('Layer')\n",
        "ax.set_ylabel('MAE')\n",
        "ax.set_title('Layer wise MAE analysis')\n",
        "ax.legend()\n",
        "plt.show()"
      ],
      "metadata": {
        "colab": {
          "base_uri": "https://localhost:8080/",
          "height": 472
        },
        "id": "kt13iIowUw1y",
        "outputId": "e052c334-050e-4d30-c3f1-b8e0d5536c96"
      },
      "execution_count": null,
      "outputs": [
        {
          "output_type": "display_data",
          "data": {
            "text/plain": [
              "<Figure size 640x480 with 1 Axes>"
            ],
            "image/png": "[encoded data removed]"
          },
          "metadata": {}
        }
      ]
    },
    {
      "cell_type": "markdown",
      "source": [
        "###Observations\n",
        "- It is interesting to observe that MAE for both the normal case, and when we shuffle tokens of a word before passing them to the model, MAEs follow an upward trend against layers. This is to say that earlier layers better capture information about length than later ones.\n",
        "- Additionally, while not too far off, the MAE tends to be higher for the case where tokens are shuffled, than the normal case. Although in either case, across layers, the percentage error is between 10% and 20%."
      ],
      "metadata": {
        "id": "-IgJ12mpXQIf"
      }
    },
    {
      "cell_type": "markdown",
      "source": [
        "# Report [10]\n",
        "\n",
        "Make a report summarizing your findings and claims"
      ],
      "metadata": {
        "id": "KOQx2YLWKaEi"
      }
    },
    {
      "cell_type": "markdown",
      "source": [
        "#### Refer PDF"
      ],
      "metadata": {
        "id": "qMfuhozWoiL3"
      }
    }
  ],
  "metadata": {
    "kernelspec": {
      "display_name": "Python 3",
      "name": "python3"
    },
    "language_info": {
      "codemirror_mode": {
        "name": "ipython",
        "version": 3
      },
      "file_extension": ".py",
      "mimetype": "text/x-python",
      "name": "python",
      "nbconvert_exporter": "python",
      "pygments_lexer": "ipython3",
      "version": "3.11.6"
    },
    "colab": {
      "provenance": [],
      "gpuType": "T4"
    },
    "accelerator": "GPU",
    "widgets": {
      "application/vnd.jupyter.widget-state+json": {
        "0a30ea7278a542a48d064c13a9f2f564": {
          "model_module": "@jupyter-widgets/controls",
          "model_name": "HBoxModel",
          "model_module_version": "1.5.0",
          "state": {
            "_dom_classes": [],
            "_model_module": "@jupyter-widgets/controls",
            "_model_module_version": "1.5.0",
            "_model_name": "HBoxModel",
            "_view_count": null,
            "_view_module": "@jupyter-widgets/controls",
            "_view_module_version": "1.5.0",
            "_view_name": "HBoxView",
            "box_style": "",
            "children": [
              "IPY_MODEL_73977fcc33db4993ae538113fd55d958",
              "IPY_MODEL_6630c55653b74cc685adc21e43e3e27c",
              "IPY_MODEL_1b61c63a5a1c4b44928c04b2223de25e"
            ],
            "layout": "IPY_MODEL_82f19f2746b94c19a01c8eb2cc2c3aec"
          }
        },
        "73977fcc33db4993ae538113fd55d958": {
          "model_module": "@jupyter-widgets/controls",
          "model_name": "HTMLModel",
          "model_module_version": "1.5.0",
          "state": {
            "_dom_classes": [],
            "_model_module": "@jupyter-widgets/controls",
            "_model_module_version": "1.5.0",
            "_model_name": "HTMLModel",
            "_view_count": null,
            "_view_module": "@jupyter-widgets/controls",
            "_view_module_version": "1.5.0",
            "_view_name": "HTMLView",
            "description": "",
            "description_tooltip": null,
            "layout": "IPY_MODEL_4687fd638a20437dbfd1edd27e3f82a4",
            "placeholder": "​",
            "style": "IPY_MODEL_fc4fbe068c3f4d6389896c2707902177",
            "value": "config.json: 100%"
          }
        },
        "6630c55653b74cc685adc21e43e3e27c": {
          "model_module": "@jupyter-widgets/controls",
          "model_name": "FloatProgressModel",
          "model_module_version": "1.5.0",
          "state": {
            "_dom_classes": [],
            "_model_module": "@jupyter-widgets/controls",
            "_model_module_version": "1.5.0",
            "_model_name": "FloatProgressModel",
            "_view_count": null,
            "_view_module": "@jupyter-widgets/controls",
            "_view_module_version": "1.5.0",
            "_view_name": "ProgressView",
            "bar_style": "success",
            "description": "",
            "description_tooltip": null,
            "layout": "IPY_MODEL_bfdc07cafeaf4f4ab4f967692a7be0ac",
            "max": 481,
            "min": 0,
            "orientation": "horizontal",
            "style": "IPY_MODEL_37a7e545b92e4229b43e48e25b28fd31",
            "value": 481
          }
        },
        "1b61c63a5a1c4b44928c04b2223de25e": {
          "model_module": "@jupyter-widgets/controls",
          "model_name": "HTMLModel",
          "model_module_version": "1.5.0",
          "state": {
            "_dom_classes": [],
            "_model_module": "@jupyter-widgets/controls",
            "_model_module_version": "1.5.0",
            "_model_name": "HTMLModel",
            "_view_count": null,
            "_view_module": "@jupyter-widgets/controls",
            "_view_module_version": "1.5.0",
            "_view_name": "HTMLView",
            "description": "",
            "description_tooltip": null,
            "layout": "IPY_MODEL_f31ec087a1a94e1f9e4cc0b31a28f8e5",
            "placeholder": "​",
            "style": "IPY_MODEL_7c44655abd204062beddca327e3d53ae",
            "value": " 481/481 [00:00&lt;00:00, 7.55kB/s]"
          }
        },
        "82f19f2746b94c19a01c8eb2cc2c3aec": {
          "model_module": "@jupyter-widgets/base",
          "model_name": "LayoutModel",
          "model_module_version": "1.2.0",
          "state": {
            "_model_module": "@jupyter-widgets/base",
            "_model_module_version": "1.2.0",
            "_model_name": "LayoutModel",
            "_view_count": null,
            "_view_module": "@jupyter-widgets/base",
            "_view_module_version": "1.2.0",
            "_view_name": "LayoutView",
            "align_content": null,
            "align_items": null,
            "align_self": null,
            "border": null,
            "bottom": null,
            "display": null,
            "flex": null,
            "flex_flow": null,
            "grid_area": null,
            "grid_auto_columns": null,
            "grid_auto_flow": null,
            "grid_auto_rows": null,
            "grid_column": null,
            "grid_gap": null,
            "grid_row": null,
            "grid_template_areas": null,
            "grid_template_columns": null,
            "grid_template_rows": null,
            "height": null,
            "justify_content": null,
            "justify_items": null,
            "left": null,
            "margin": null,
            "max_height": null,
            "max_width": null,
            "min_height": null,
            "min_width": null,
            "object_fit": null,
            "object_position": null,
            "order": null,
            "overflow": null,
            "overflow_x": null,
            "overflow_y": null,
            "padding": null,
            "right": null,
            "top": null,
            "visibility": null,
            "width": null
          }
        },
        "4687fd638a20437dbfd1edd27e3f82a4": {
          "model_module": "@jupyter-widgets/base",
          "model_name": "LayoutModel",
          "model_module_version": "1.2.0",
          "state": {
            "_model_module": "@jupyter-widgets/base",
            "_model_module_version": "1.2.0",
            "_model_name": "LayoutModel",
            "_view_count": null,
            "_view_module": "@jupyter-widgets/base",
            "_view_module_version": "1.2.0",
            "_view_name": "LayoutView",
            "align_content": null,
            "align_items": null,
            "align_self": null,
            "border": null,
            "bottom": null,
            "display": null,
            "flex": null,
            "flex_flow": null,
            "grid_area": null,
            "grid_auto_columns": null,
            "grid_auto_flow": null,
            "grid_auto_rows": null,
            "grid_column": null,
            "grid_gap": null,
            "grid_row": null,
            "grid_template_areas": null,
            "grid_template_columns": null,
            "grid_template_rows": null,
            "height": null,
            "justify_content": null,
            "justify_items": null,
            "left": null,
            "margin": null,
            "max_height": null,
            "max_width": null,
            "min_height": null,
            "min_width": null,
            "object_fit": null,
            "object_position": null,
            "order": null,
            "overflow": null,
            "overflow_x": null,
            "overflow_y": null,
            "padding": null,
            "right": null,
            "top": null,
            "visibility": null,
            "width": null
          }
        },
        "fc4fbe068c3f4d6389896c2707902177": {
          "model_module": "@jupyter-widgets/controls",
          "model_name": "DescriptionStyleModel",
          "model_module_version": "1.5.0",
          "state": {
            "_model_module": "@jupyter-widgets/controls",
            "_model_module_version": "1.5.0",
            "_model_name": "DescriptionStyleModel",
            "_view_count": null,
            "_view_module": "@jupyter-widgets/base",
            "_view_module_version": "1.2.0",
            "_view_name": "StyleView",
            "description_width": ""
          }
        },
        "bfdc07cafeaf4f4ab4f967692a7be0ac": {
          "model_module": "@jupyter-widgets/base",
          "model_name": "LayoutModel",
          "model_module_version": "1.2.0",
          "state": {
            "_model_module": "@jupyter-widgets/base",
            "_model_module_version": "1.2.0",
            "_model_name": "LayoutModel",
            "_view_count": null,
            "_view_module": "@jupyter-widgets/base",
            "_view_module_version": "1.2.0",
            "_view_name": "LayoutView",
            "align_content": null,
            "align_items": null,
            "align_self": null,
            "border": null,
            "bottom": null,
            "display": null,
            "flex": null,
            "flex_flow": null,
            "grid_area": null,
            "grid_auto_columns": null,
            "grid_auto_flow": null,
            "grid_auto_rows": null,
            "grid_column": null,
            "grid_gap": null,
            "grid_row": null,
            "grid_template_areas": null,
            "grid_template_columns": null,
            "grid_template_rows": null,
            "height": null,
            "justify_content": null,
            "justify_items": null,
            "left": null,
            "margin": null,
            "max_height": null,
            "max_width": null,
            "min_height": null,
            "min_width": null,
            "object_fit": null,
            "object_position": null,
            "order": null,
            "overflow": null,
            "overflow_x": null,
            "overflow_y": null,
            "padding": null,
            "right": null,
            "top": null,
            "visibility": null,
            "width": null
          }
        },
        "37a7e545b92e4229b43e48e25b28fd31": {
          "model_module": "@jupyter-widgets/controls",
          "model_name": "ProgressStyleModel",
          "model_module_version": "1.5.0",
          "state": {
            "_model_module": "@jupyter-widgets/controls",
            "_model_module_version": "1.5.0",
            "_model_name": "ProgressStyleModel",
            "_view_count": null,
            "_view_module": "@jupyter-widgets/base",
            "_view_module_version": "1.2.0",
            "_view_name": "StyleView",
            "bar_color": null,
            "description_width": ""
          }
        },
        "f31ec087a1a94e1f9e4cc0b31a28f8e5": {
          "model_module": "@jupyter-widgets/base",
          "model_name": "LayoutModel",
          "model_module_version": "1.2.0",
          "state": {
            "_model_module": "@jupyter-widgets/base",
            "_model_module_version": "1.2.0",
            "_model_name": "LayoutModel",
            "_view_count": null,
            "_view_module": "@jupyter-widgets/base",
            "_view_module_version": "1.2.0",
            "_view_name": "LayoutView",
            "align_content": null,
            "align_items": null,
            "align_self": null,
            "border": null,
            "bottom": null,
            "display": null,
            "flex": null,
            "flex_flow": null,
            "grid_area": null,
            "grid_auto_columns": null,
            "grid_auto_flow": null,
            "grid_auto_rows": null,
            "grid_column": null,
            "grid_gap": null,
            "grid_row": null,
            "grid_template_areas": null,
            "grid_template_columns": null,
            "grid_template_rows": null,
            "height": null,
            "justify_content": null,
            "justify_items": null,
            "left": null,
            "margin": null,
            "max_height": null,
            "max_width": null,
            "min_height": null,
            "min_width": null,
            "object_fit": null,
            "object_position": null,
            "order": null,
            "overflow": null,
            "overflow_x": null,
            "overflow_y": null,
            "padding": null,
            "right": null,
            "top": null,
            "visibility": null,
            "width": null
          }
        },
        "7c44655abd204062beddca327e3d53ae": {
          "model_module": "@jupyter-widgets/controls",
          "model_name": "DescriptionStyleModel",
          "model_module_version": "1.5.0",
          "state": {
            "_model_module": "@jupyter-widgets/controls",
            "_model_module_version": "1.5.0",
            "_model_name": "DescriptionStyleModel",
            "_view_count": null,
            "_view_module": "@jupyter-widgets/base",
            "_view_module_version": "1.2.0",
            "_view_name": "StyleView",
            "description_width": ""
          }
        },
        "ae481f491d97455f87d14e0506d3a002": {
          "model_module": "@jupyter-widgets/controls",
          "model_name": "HBoxModel",
          "model_module_version": "1.5.0",
          "state": {
            "_dom_classes": [],
            "_model_module": "@jupyter-widgets/controls",
            "_model_module_version": "1.5.0",
            "_model_name": "HBoxModel",
            "_view_count": null,
            "_view_module": "@jupyter-widgets/controls",
            "_view_module_version": "1.5.0",
            "_view_name": "HBoxView",
            "box_style": "",
            "children": [
              "IPY_MODEL_f7a1df23f7d44a44976cb15b8d883786",
              "IPY_MODEL_701820568c3d4e829c51b10d07b19791",
              "IPY_MODEL_e906473451134ae0b42c875839c662a1"
            ],
            "layout": "IPY_MODEL_f6b450eb5d1149ad82bb93828af79c3e"
          }
        },
        "f7a1df23f7d44a44976cb15b8d883786": {
          "model_module": "@jupyter-widgets/controls",
          "model_name": "HTMLModel",
          "model_module_version": "1.5.0",
          "state": {
            "_dom_classes": [],
            "_model_module": "@jupyter-widgets/controls",
            "_model_module_version": "1.5.0",
            "_model_name": "HTMLModel",
            "_view_count": null,
            "_view_module": "@jupyter-widgets/controls",
            "_view_module_version": "1.5.0",
            "_view_name": "HTMLView",
            "description": "",
            "description_tooltip": null,
            "layout": "IPY_MODEL_4166898d4bc34a2d83c34ac1f3736407",
            "placeholder": "​",
            "style": "IPY_MODEL_65b61fd44d0d4ba783a97e68a5546c33",
            "value": "model.safetensors: 100%"
          }
        },
        "701820568c3d4e829c51b10d07b19791": {
          "model_module": "@jupyter-widgets/controls",
          "model_name": "FloatProgressModel",
          "model_module_version": "1.5.0",
          "state": {
            "_dom_classes": [],
            "_model_module": "@jupyter-widgets/controls",
            "_model_module_version": "1.5.0",
            "_model_name": "FloatProgressModel",
            "_view_count": null,
            "_view_module": "@jupyter-widgets/controls",
            "_view_module_version": "1.5.0",
            "_view_name": "ProgressView",
            "bar_style": "success",
            "description": "",
            "description_tooltip": null,
            "layout": "IPY_MODEL_f59b2b5819554099a9896b85e697c917",
            "max": 498818054,
            "min": 0,
            "orientation": "horizontal",
            "style": "IPY_MODEL_bef7637684e04e7795c195904886557e",
            "value": 498818054
          }
        },
        "e906473451134ae0b42c875839c662a1": {
          "model_module": "@jupyter-widgets/controls",
          "model_name": "HTMLModel",
          "model_module_version": "1.5.0",
          "state": {
            "_dom_classes": [],
            "_model_module": "@jupyter-widgets/controls",
            "_model_module_version": "1.5.0",
            "_model_name": "HTMLModel",
            "_view_count": null,
            "_view_module": "@jupyter-widgets/controls",
            "_view_module_version": "1.5.0",
            "_view_name": "HTMLView",
            "description": "",
            "description_tooltip": null,
            "layout": "IPY_MODEL_c5cd7eac3b3949fca04e3fa72dc49d6f",
            "placeholder": "​",
            "style": "IPY_MODEL_a1999136350f4dd891c81e5e2dc8e211",
            "value": " 499M/499M [00:04&lt;00:00, 130MB/s]"
          }
        },
        "f6b450eb5d1149ad82bb93828af79c3e": {
          "model_module": "@jupyter-widgets/base",
          "model_name": "LayoutModel",
          "model_module_version": "1.2.0",
          "state": {
            "_model_module": "@jupyter-widgets/base",
            "_model_module_version": "1.2.0",
            "_model_name": "LayoutModel",
            "_view_count": null,
            "_view_module": "@jupyter-widgets/base",
            "_view_module_version": "1.2.0",
            "_view_name": "LayoutView",
            "align_content": null,
            "align_items": null,
            "align_self": null,
            "border": null,
            "bottom": null,
            "display": null,
            "flex": null,
            "flex_flow": null,
            "grid_area": null,
            "grid_auto_columns": null,
            "grid_auto_flow": null,
            "grid_auto_rows": null,
            "grid_column": null,
            "grid_gap": null,
            "grid_row": null,
            "grid_template_areas": null,
            "grid_template_columns": null,
            "grid_template_rows": null,
            "height": null,
            "justify_content": null,
            "justify_items": null,
            "left": null,
            "margin": null,
            "max_height": null,
            "max_width": null,
            "min_height": null,
            "min_width": null,
            "object_fit": null,
            "object_position": null,
            "order": null,
            "overflow": null,
            "overflow_x": null,
            "overflow_y": null,
            "padding": null,
            "right": null,
            "top": null,
            "visibility": null,
            "width": null
          }
        },
        "4166898d4bc34a2d83c34ac1f3736407": {
          "model_module": "@jupyter-widgets/base",
          "model_name": "LayoutModel",
          "model_module_version": "1.2.0",
          "state": {
            "_model_module": "@jupyter-widgets/base",
            "_model_module_version": "1.2.0",
            "_model_name": "LayoutModel",
            "_view_count": null,
            "_view_module": "@jupyter-widgets/base",
            "_view_module_version": "1.2.0",
            "_view_name": "LayoutView",
            "align_content": null,
            "align_items": null,
            "align_self": null,
            "border": null,
            "bottom": null,
            "display": null,
            "flex": null,
            "flex_flow": null,
            "grid_area": null,
            "grid_auto_columns": null,
            "grid_auto_flow": null,
            "grid_auto_rows": null,
            "grid_column": null,
            "grid_gap": null,
            "grid_row": null,
            "grid_template_areas": null,
            "grid_template_columns": null,
            "grid_template_rows": null,
            "height": null,
            "justify_content": null,
            "justify_items": null,
            "left": null,
            "margin": null,
            "max_height": null,
            "max_width": null,
            "min_height": null,
            "min_width": null,
            "object_fit": null,
            "object_position": null,
            "order": null,
            "overflow": null,
            "overflow_x": null,
            "overflow_y": null,
            "padding": null,
            "right": null,
            "top": null,
            "visibility": null,
            "width": null
          }
        },
        "65b61fd44d0d4ba783a97e68a5546c33": {
          "model_module": "@jupyter-widgets/controls",
          "model_name": "DescriptionStyleModel",
          "model_module_version": "1.5.0",
          "state": {
            "_model_module": "@jupyter-widgets/controls",
            "_model_module_version": "1.5.0",
            "_model_name": "DescriptionStyleModel",
            "_view_count": null,
            "_view_module": "@jupyter-widgets/base",
            "_view_module_version": "1.2.0",
            "_view_name": "StyleView",
            "description_width": ""
          }
        },
        "f59b2b5819554099a9896b85e697c917": {
          "model_module": "@jupyter-widgets/base",
          "model_name": "LayoutModel",
          "model_module_version": "1.2.0",
          "state": {
            "_model_module": "@jupyter-widgets/base",
            "_model_module_version": "1.2.0",
            "_model_name": "LayoutModel",
            "_view_count": null,
            "_view_module": "@jupyter-widgets/base",
            "_view_module_version": "1.2.0",
            "_view_name": "LayoutView",
            "align_content": null,
            "align_items": null,
            "align_self": null,
            "border": null,
            "bottom": null,
            "display": null,
            "flex": null,
            "flex_flow": null,
            "grid_area": null,
            "grid_auto_columns": null,
            "grid_auto_flow": null,
            "grid_auto_rows": null,
            "grid_column": null,
            "grid_gap": null,
            "grid_row": null,
            "grid_template_areas": null,
            "grid_template_columns": null,
            "grid_template_rows": null,
            "height": null,
            "justify_content": null,
            "justify_items": null,
            "left": null,
            "margin": null,
            "max_height": null,
            "max_width": null,
            "min_height": null,
            "min_width": null,
            "object_fit": null,
            "object_position": null,
            "order": null,
            "overflow": null,
            "overflow_x": null,
            "overflow_y": null,
            "padding": null,
            "right": null,
            "top": null,
            "visibility": null,
            "width": null
          }
        },
        "bef7637684e04e7795c195904886557e": {
          "model_module": "@jupyter-widgets/controls",
          "model_name": "ProgressStyleModel",
          "model_module_version": "1.5.0",
          "state": {
            "_model_module": "@jupyter-widgets/controls",
            "_model_module_version": "1.5.0",
            "_model_name": "ProgressStyleModel",
            "_view_count": null,
            "_view_module": "@jupyter-widgets/base",
            "_view_module_version": "1.2.0",
            "_view_name": "StyleView",
            "bar_color": null,
            "description_width": ""
          }
        },
        "c5cd7eac3b3949fca04e3fa72dc49d6f": {
          "model_module": "@jupyter-widgets/base",
          "model_name": "LayoutModel",
          "model_module_version": "1.2.0",
          "state": {
            "_model_module": "@jupyter-widgets/base",
            "_model_module_version": "1.2.0",
            "_model_name": "LayoutModel",
            "_view_count": null,
            "_view_module": "@jupyter-widgets/base",
            "_view_module_version": "1.2.0",
            "_view_name": "LayoutView",
            "align_content": null,
            "align_items": null,
            "align_self": null,
            "border": null,
            "bottom": null,
            "display": null,
            "flex": null,
            "flex_flow": null,
            "grid_area": null,
            "grid_auto_columns": null,
            "grid_auto_flow": null,
            "grid_auto_rows": null,
            "grid_column": null,
            "grid_gap": null,
            "grid_row": null,
            "grid_template_areas": null,
            "grid_template_columns": null,
            "grid_template_rows": null,
            "height": null,
            "justify_content": null,
            "justify_items": null,
            "left": null,
            "margin": null,
            "max_height": null,
            "max_width": null,
            "min_height": null,
            "min_width": null,
            "object_fit": null,
            "object_position": null,
            "order": null,
            "overflow": null,
            "overflow_x": null,
            "overflow_y": null,
            "padding": null,
            "right": null,
            "top": null,
            "visibility": null,
            "width": null
          }
        },
        "a1999136350f4dd891c81e5e2dc8e211": {
          "model_module": "@jupyter-widgets/controls",
          "model_name": "DescriptionStyleModel",
          "model_module_version": "1.5.0",
          "state": {
            "_model_module": "@jupyter-widgets/controls",
            "_model_module_version": "1.5.0",
            "_model_name": "DescriptionStyleModel",
            "_view_count": null,
            "_view_module": "@jupyter-widgets/base",
            "_view_module_version": "1.2.0",
            "_view_name": "StyleView",
            "description_width": ""
          }
        },
        "de3e15ea3c354a2fab782e35ba4bdf8c": {
          "model_module": "@jupyter-widgets/controls",
          "model_name": "HBoxModel",
          "model_module_version": "1.5.0",
          "state": {
            "_dom_classes": [],
            "_model_module": "@jupyter-widgets/controls",
            "_model_module_version": "1.5.0",
            "_model_name": "HBoxModel",
            "_view_count": null,
            "_view_module": "@jupyter-widgets/controls",
            "_view_module_version": "1.5.0",
            "_view_name": "HBoxView",
            "box_style": "",
            "children": [
              "IPY_MODEL_04acb43bb1544473b64452002ed9aecb",
              "IPY_MODEL_afb79a702fc84378a88687e4b2368a7e",
              "IPY_MODEL_fbe32d3e28824f9a8b88f75a696e5936"
            ],
            "layout": "IPY_MODEL_ef5d625b60904b1fa11538a79719f07f"
          }
        },
        "04acb43bb1544473b64452002ed9aecb": {
          "model_module": "@jupyter-widgets/controls",
          "model_name": "HTMLModel",
          "model_module_version": "1.5.0",
          "state": {
            "_dom_classes": [],
            "_model_module": "@jupyter-widgets/controls",
            "_model_module_version": "1.5.0",
            "_model_name": "HTMLModel",
            "_view_count": null,
            "_view_module": "@jupyter-widgets/controls",
            "_view_module_version": "1.5.0",
            "_view_name": "HTMLView",
            "description": "",
            "description_tooltip": null,
            "layout": "IPY_MODEL_0e0d17e5edcd4c5b9f566124673247d5",
            "placeholder": "​",
            "style": "IPY_MODEL_9a588d7c38904ea6938916c4d55ca447",
            "value": "tokenizer_config.json: 100%"
          }
        },
        "afb79a702fc84378a88687e4b2368a7e": {
          "model_module": "@jupyter-widgets/controls",
          "model_name": "FloatProgressModel",
          "model_module_version": "1.5.0",
          "state": {
            "_dom_classes": [],
            "_model_module": "@jupyter-widgets/controls",
            "_model_module_version": "1.5.0",
            "_model_name": "FloatProgressModel",
            "_view_count": null,
            "_view_module": "@jupyter-widgets/controls",
            "_view_module_version": "1.5.0",
            "_view_name": "ProgressView",
            "bar_style": "success",
            "description": "",
            "description_tooltip": null,
            "layout": "IPY_MODEL_443b5972e94345a4859f01bf6f3b360d",
            "max": 25,
            "min": 0,
            "orientation": "horizontal",
            "style": "IPY_MODEL_7513895c07204cba84abf3bd4d9c99e4",
            "value": 25
          }
        },
        "fbe32d3e28824f9a8b88f75a696e5936": {
          "model_module": "@jupyter-widgets/controls",
          "model_name": "HTMLModel",
          "model_module_version": "1.5.0",
          "state": {
            "_dom_classes": [],
            "_model_module": "@jupyter-widgets/controls",
            "_model_module_version": "1.5.0",
            "_model_name": "HTMLModel",
            "_view_count": null,
            "_view_module": "@jupyter-widgets/controls",
            "_view_module_version": "1.5.0",
            "_view_name": "HTMLView",
            "description": "",
            "description_tooltip": null,
            "layout": "IPY_MODEL_9f368778c8204608b70106e16e5bc7f0",
            "placeholder": "​",
            "style": "IPY_MODEL_380287814254421e818e668233911e62",
            "value": " 25.0/25.0 [00:00&lt;00:00, 494B/s]"
          }
        },
        "ef5d625b60904b1fa11538a79719f07f": {
          "model_module": "@jupyter-widgets/base",
          "model_name": "LayoutModel",
          "model_module_version": "1.2.0",
          "state": {
            "_model_module": "@jupyter-widgets/base",
            "_model_module_version": "1.2.0",
            "_model_name": "LayoutModel",
            "_view_count": null,
            "_view_module": "@jupyter-widgets/base",
            "_view_module_version": "1.2.0",
            "_view_name": "LayoutView",
            "align_content": null,
            "align_items": null,
            "align_self": null,
            "border": null,
            "bottom": null,
            "display": null,
            "flex": null,
            "flex_flow": null,
            "grid_area": null,
            "grid_auto_columns": null,
            "grid_auto_flow": null,
            "grid_auto_rows": null,
            "grid_column": null,
            "grid_gap": null,
            "grid_row": null,
            "grid_template_areas": null,
            "grid_template_columns": null,
            "grid_template_rows": null,
            "height": null,
            "justify_content": null,
            "justify_items": null,
            "left": null,
            "margin": null,
            "max_height": null,
            "max_width": null,
            "min_height": null,
            "min_width": null,
            "object_fit": null,
            "object_position": null,
            "order": null,
            "overflow": null,
            "overflow_x": null,
            "overflow_y": null,
            "padding": null,
            "right": null,
            "top": null,
            "visibility": null,
            "width": null
          }
        },
        "0e0d17e5edcd4c5b9f566124673247d5": {
          "model_module": "@jupyter-widgets/base",
          "model_name": "LayoutModel",
          "model_module_version": "1.2.0",
          "state": {
            "_model_module": "@jupyter-widgets/base",
            "_model_module_version": "1.2.0",
            "_model_name": "LayoutModel",
            "_view_count": null,
            "_view_module": "@jupyter-widgets/base",
            "_view_module_version": "1.2.0",
            "_view_name": "LayoutView",
            "align_content": null,
            "align_items": null,
            "align_self": null,
            "border": null,
            "bottom": null,
            "display": null,
            "flex": null,
            "flex_flow": null,
            "grid_area": null,
            "grid_auto_columns": null,
            "grid_auto_flow": null,
            "grid_auto_rows": null,
            "grid_column": null,
            "grid_gap": null,
            "grid_row": null,
            "grid_template_areas": null,
            "grid_template_columns": null,
            "grid_template_rows": null,
            "height": null,
            "justify_content": null,
            "justify_items": null,
            "left": null,
            "margin": null,
            "max_height": null,
            "max_width": null,
            "min_height": null,
            "min_width": null,
            "object_fit": null,
            "object_position": null,
            "order": null,
            "overflow": null,
            "overflow_x": null,
            "overflow_y": null,
            "padding": null,
            "right": null,
            "top": null,
            "visibility": null,
            "width": null
          }
        },
        "9a588d7c38904ea6938916c4d55ca447": {
          "model_module": "@jupyter-widgets/controls",
          "model_name": "DescriptionStyleModel",
          "model_module_version": "1.5.0",
          "state": {
            "_model_module": "@jupyter-widgets/controls",
            "_model_module_version": "1.5.0",
            "_model_name": "DescriptionStyleModel",
            "_view_count": null,
            "_view_module": "@jupyter-widgets/base",
            "_view_module_version": "1.2.0",
            "_view_name": "StyleView",
            "description_width": ""
          }
        },
        "443b5972e94345a4859f01bf6f3b360d": {
          "model_module": "@jupyter-widgets/base",
          "model_name": "LayoutModel",
          "model_module_version": "1.2.0",
          "state": {
            "_model_module": "@jupyter-widgets/base",
            "_model_module_version": "1.2.0",
            "_model_name": "LayoutModel",
            "_view_count": null,
            "_view_module": "@jupyter-widgets/base",
            "_view_module_version": "1.2.0",
            "_view_name": "LayoutView",
            "align_content": null,
            "align_items": null,
            "align_self": null,
            "border": null,
            "bottom": null,
            "display": null,
            "flex": null,
            "flex_flow": null,
            "grid_area": null,
            "grid_auto_columns": null,
            "grid_auto_flow": null,
            "grid_auto_rows": null,
            "grid_column": null,
            "grid_gap": null,
            "grid_row": null,
            "grid_template_areas": null,
            "grid_template_columns": null,
            "grid_template_rows": null,
            "height": null,
            "justify_content": null,
            "justify_items": null,
            "left": null,
            "margin": null,
            "max_height": null,
            "max_width": null,
            "min_height": null,
            "min_width": null,
            "object_fit": null,
            "object_position": null,
            "order": null,
            "overflow": null,
            "overflow_x": null,
            "overflow_y": null,
            "padding": null,
            "right": null,
            "top": null,
            "visibility": null,
            "width": null
          }
        },
        "7513895c07204cba84abf3bd4d9c99e4": {
          "model_module": "@jupyter-widgets/controls",
          "model_name": "ProgressStyleModel",
          "model_module_version": "1.5.0",
          "state": {
            "_model_module": "@jupyter-widgets/controls",
            "_model_module_version": "1.5.0",
            "_model_name": "ProgressStyleModel",
            "_view_count": null,
            "_view_module": "@jupyter-widgets/base",
            "_view_module_version": "1.2.0",
            "_view_name": "StyleView",
            "bar_color": null,
            "description_width": ""
          }
        },
        "9f368778c8204608b70106e16e5bc7f0": {
          "model_module": "@jupyter-widgets/base",
          "model_name": "LayoutModel",
          "model_module_version": "1.2.0",
          "state": {
            "_model_module": "@jupyter-widgets/base",
            "_model_module_version": "1.2.0",
            "_model_name": "LayoutModel",
            "_view_count": null,
            "_view_module": "@jupyter-widgets/base",
            "_view_module_version": "1.2.0",
            "_view_name": "LayoutView",
            "align_content": null,
            "align_items": null,
            "align_self": null,
            "border": null,
            "bottom": null,
            "display": null,
            "flex": null,
            "flex_flow": null,
            "grid_area": null,
            "grid_auto_columns": null,
            "grid_auto_flow": null,
            "grid_auto_rows": null,
            "grid_column": null,
            "grid_gap": null,
            "grid_row": null,
            "grid_template_areas": null,
            "grid_template_columns": null,
            "grid_template_rows": null,
            "height": null,
            "justify_content": null,
            "justify_items": null,
            "left": null,
            "margin": null,
            "max_height": null,
            "max_width": null,
            "min_height": null,
            "min_width": null,
            "object_fit": null,
            "object_position": null,
            "order": null,
            "overflow": null,
            "overflow_x": null,
            "overflow_y": null,
            "padding": null,
            "right": null,
            "top": null,
            "visibility": null,
            "width": null
          }
        },
        "380287814254421e818e668233911e62": {
          "model_module": "@jupyter-widgets/controls",
          "model_name": "DescriptionStyleModel",
          "model_module_version": "1.5.0",
          "state": {
            "_model_module": "@jupyter-widgets/controls",
            "_model_module_version": "1.5.0",
            "_model_name": "DescriptionStyleModel",
            "_view_count": null,
            "_view_module": "@jupyter-widgets/base",
            "_view_module_version": "1.2.0",
            "_view_name": "StyleView",
            "description_width": ""
          }
        },
        "c3b064bdd8fd4f4fa07cae2b23f9b49e": {
          "model_module": "@jupyter-widgets/controls",
          "model_name": "HBoxModel",
          "model_module_version": "1.5.0",
          "state": {
            "_dom_classes": [],
            "_model_module": "@jupyter-widgets/controls",
            "_model_module_version": "1.5.0",
            "_model_name": "HBoxModel",
            "_view_count": null,
            "_view_module": "@jupyter-widgets/controls",
            "_view_module_version": "1.5.0",
            "_view_name": "HBoxView",
            "box_style": "",
            "children": [
              "IPY_MODEL_c8870a99c5624794ae8b765b1abac3d8",
              "IPY_MODEL_1ff3c82571454895b048b1aa543d69cb",
              "IPY_MODEL_5544d51a863b448fac148ae38eff5014"
            ],
            "layout": "IPY_MODEL_b556fa2c1c3040cc865bea3f2ec1853f"
          }
        },
        "c8870a99c5624794ae8b765b1abac3d8": {
          "model_module": "@jupyter-widgets/controls",
          "model_name": "HTMLModel",
          "model_module_version": "1.5.0",
          "state": {
            "_dom_classes": [],
            "_model_module": "@jupyter-widgets/controls",
            "_model_module_version": "1.5.0",
            "_model_name": "HTMLModel",
            "_view_count": null,
            "_view_module": "@jupyter-widgets/controls",
            "_view_module_version": "1.5.0",
            "_view_name": "HTMLView",
            "description": "",
            "description_tooltip": null,
            "layout": "IPY_MODEL_5399b566ae954a50b79444093f0a5715",
            "placeholder": "​",
            "style": "IPY_MODEL_c1bc9154a1214adc9038f395bc348750",
            "value": "vocab.json: 100%"
          }
        },
        "1ff3c82571454895b048b1aa543d69cb": {
          "model_module": "@jupyter-widgets/controls",
          "model_name": "FloatProgressModel",
          "model_module_version": "1.5.0",
          "state": {
            "_dom_classes": [],
            "_model_module": "@jupyter-widgets/controls",
            "_model_module_version": "1.5.0",
            "_model_name": "FloatProgressModel",
            "_view_count": null,
            "_view_module": "@jupyter-widgets/controls",
            "_view_module_version": "1.5.0",
            "_view_name": "ProgressView",
            "bar_style": "success",
            "description": "",
            "description_tooltip": null,
            "layout": "IPY_MODEL_5b4a9ab865ac47498aaeae6c6660fb8e",
            "max": 898823,
            "min": 0,
            "orientation": "horizontal",
            "style": "IPY_MODEL_3699f8e4cca3439c97ff71cf84901be3",
            "value": 898823
          }
        },
        "5544d51a863b448fac148ae38eff5014": {
          "model_module": "@jupyter-widgets/controls",
          "model_name": "HTMLModel",
          "model_module_version": "1.5.0",
          "state": {
            "_dom_classes": [],
            "_model_module": "@jupyter-widgets/controls",
            "_model_module_version": "1.5.0",
            "_model_name": "HTMLModel",
            "_view_count": null,
            "_view_module": "@jupyter-widgets/controls",
            "_view_module_version": "1.5.0",
            "_view_name": "HTMLView",
            "description": "",
            "description_tooltip": null,
            "layout": "IPY_MODEL_acbda02952f74030a50a96afac71b748",
            "placeholder": "​",
            "style": "IPY_MODEL_bdb75ce57e6846ff92760353a38650de",
            "value": " 899k/899k [00:00&lt;00:00, 2.79MB/s]"
          }
        },
        "b556fa2c1c3040cc865bea3f2ec1853f": {
          "model_module": "@jupyter-widgets/base",
          "model_name": "LayoutModel",
          "model_module_version": "1.2.0",
          "state": {
            "_model_module": "@jupyter-widgets/base",
            "_model_module_version": "1.2.0",
            "_model_name": "LayoutModel",
            "_view_count": null,
            "_view_module": "@jupyter-widgets/base",
            "_view_module_version": "1.2.0",
            "_view_name": "LayoutView",
            "align_content": null,
            "align_items": null,
            "align_self": null,
            "border": null,
            "bottom": null,
            "display": null,
            "flex": null,
            "flex_flow": null,
            "grid_area": null,
            "grid_auto_columns": null,
            "grid_auto_flow": null,
            "grid_auto_rows": null,
            "grid_column": null,
            "grid_gap": null,
            "grid_row": null,
            "grid_template_areas": null,
            "grid_template_columns": null,
            "grid_template_rows": null,
            "height": null,
            "justify_content": null,
            "justify_items": null,
            "left": null,
            "margin": null,
            "max_height": null,
            "max_width": null,
            "min_height": null,
            "min_width": null,
            "object_fit": null,
            "object_position": null,
            "order": null,
            "overflow": null,
            "overflow_x": null,
            "overflow_y": null,
            "padding": null,
            "right": null,
            "top": null,
            "visibility": null,
            "width": null
          }
        },
        "5399b566ae954a50b79444093f0a5715": {
          "model_module": "@jupyter-widgets/base",
          "model_name": "LayoutModel",
          "model_module_version": "1.2.0",
          "state": {
            "_model_module": "@jupyter-widgets/base",
            "_model_module_version": "1.2.0",
            "_model_name": "LayoutModel",
            "_view_count": null,
            "_view_module": "@jupyter-widgets/base",
            "_view_module_version": "1.2.0",
            "_view_name": "LayoutView",
            "align_content": null,
            "align_items": null,
            "align_self": null,
            "border": null,
            "bottom": null,
            "display": null,
            "flex": null,
            "flex_flow": null,
            "grid_area": null,
            "grid_auto_columns": null,
            "grid_auto_flow": null,
            "grid_auto_rows": null,
            "grid_column": null,
            "grid_gap": null,
            "grid_row": null,
            "grid_template_areas": null,
            "grid_template_columns": null,
            "grid_template_rows": null,
            "height": null,
            "justify_content": null,
            "justify_items": null,
            "left": null,
            "margin": null,
            "max_height": null,
            "max_width": null,
            "min_height": null,
            "min_width": null,
            "object_fit": null,
            "object_position": null,
            "order": null,
            "overflow": null,
            "overflow_x": null,
            "overflow_y": null,
            "padding": null,
            "right": null,
            "top": null,
            "visibility": null,
            "width": null
          }
        },
        "c1bc9154a1214adc9038f395bc348750": {
          "model_module": "@jupyter-widgets/controls",
          "model_name": "DescriptionStyleModel",
          "model_module_version": "1.5.0",
          "state": {
            "_model_module": "@jupyter-widgets/controls",
            "_model_module_version": "1.5.0",
            "_model_name": "DescriptionStyleModel",
            "_view_count": null,
            "_view_module": "@jupyter-widgets/base",
            "_view_module_version": "1.2.0",
            "_view_name": "StyleView",
            "description_width": ""
          }
        },
        "5b4a9ab865ac47498aaeae6c6660fb8e": {
          "model_module": "@jupyter-widgets/base",
          "model_name": "LayoutModel",
          "model_module_version": "1.2.0",
          "state": {
            "_model_module": "@jupyter-widgets/base",
            "_model_module_version": "1.2.0",
            "_model_name": "LayoutModel",
            "_view_count": null,
            "_view_module": "@jupyter-widgets/base",
            "_view_module_version": "1.2.0",
            "_view_name": "LayoutView",
            "align_content": null,
            "align_items": null,
            "align_self": null,
            "border": null,
            "bottom": null,
            "display": null,
            "flex": null,
            "flex_flow": null,
            "grid_area": null,
            "grid_auto_columns": null,
            "grid_auto_flow": null,
            "grid_auto_rows": null,
            "grid_column": null,
            "grid_gap": null,
            "grid_row": null,
            "grid_template_areas": null,
            "grid_template_columns": null,
            "grid_template_rows": null,
            "height": null,
            "justify_content": null,
            "justify_items": null,
            "left": null,
            "margin": null,
            "max_height": null,
            "max_width": null,
            "min_height": null,
            "min_width": null,
            "object_fit": null,
            "object_position": null,
            "order": null,
            "overflow": null,
            "overflow_x": null,
            "overflow_y": null,
            "padding": null,
            "right": null,
            "top": null,
            "visibility": null,
            "width": null
          }
        },
        "3699f8e4cca3439c97ff71cf84901be3": {
          "model_module": "@jupyter-widgets/controls",
          "model_name": "ProgressStyleModel",
          "model_module_version": "1.5.0",
          "state": {
            "_model_module": "@jupyter-widgets/controls",
            "_model_module_version": "1.5.0",
            "_model_name": "ProgressStyleModel",
            "_view_count": null,
            "_view_module": "@jupyter-widgets/base",
            "_view_module_version": "1.2.0",
            "_view_name": "StyleView",
            "bar_color": null,
            "description_width": ""
          }
        },
        "acbda02952f74030a50a96afac71b748": {
          "model_module": "@jupyter-widgets/base",
          "model_name": "LayoutModel",
          "model_module_version": "1.2.0",
          "state": {
            "_model_module": "@jupyter-widgets/base",
            "_model_module_version": "1.2.0",
            "_model_name": "LayoutModel",
            "_view_count": null,
            "_view_module": "@jupyter-widgets/base",
            "_view_module_version": "1.2.0",
            "_view_name": "LayoutView",
            "align_content": null,
            "align_items": null,
            "align_self": null,
            "border": null,
            "bottom": null,
            "display": null,
            "flex": null,
            "flex_flow": null,
            "grid_area": null,
            "grid_auto_columns": null,
            "grid_auto_flow": null,
            "grid_auto_rows": null,
            "grid_column": null,
            "grid_gap": null,
            "grid_row": null,
            "grid_template_areas": null,
            "grid_template_columns": null,
            "grid_template_rows": null,
            "height": null,
            "justify_content": null,
            "justify_items": null,
            "left": null,
            "margin": null,
            "max_height": null,
            "max_width": null,
            "min_height": null,
            "min_width": null,
            "object_fit": null,
            "object_position": null,
            "order": null,
            "overflow": null,
            "overflow_x": null,
            "overflow_y": null,
            "padding": null,
            "right": null,
            "top": null,
            "visibility": null,
            "width": null
          }
        },
        "bdb75ce57e6846ff92760353a38650de": {
          "model_module": "@jupyter-widgets/controls",
          "model_name": "DescriptionStyleModel",
          "model_module_version": "1.5.0",
          "state": {
            "_model_module": "@jupyter-widgets/controls",
            "_model_module_version": "1.5.0",
            "_model_name": "DescriptionStyleModel",
            "_view_count": null,
            "_view_module": "@jupyter-widgets/base",
            "_view_module_version": "1.2.0",
            "_view_name": "StyleView",
            "description_width": ""
          }
        },
        "c61cf8d6c74d482e98f1a0e6df095889": {
          "model_module": "@jupyter-widgets/controls",
          "model_name": "HBoxModel",
          "model_module_version": "1.5.0",
          "state": {
            "_dom_classes": [],
            "_model_module": "@jupyter-widgets/controls",
            "_model_module_version": "1.5.0",
            "_model_name": "HBoxModel",
            "_view_count": null,
            "_view_module": "@jupyter-widgets/controls",
            "_view_module_version": "1.5.0",
            "_view_name": "HBoxView",
            "box_style": "",
            "children": [
              "IPY_MODEL_f5404864f16d4eb093dcac15b97d8781",
              "IPY_MODEL_e027d27503944a3e909153b830e2029e",
              "IPY_MODEL_ef39b07f70894e819d62bc9b073b85c4"
            ],
            "layout": "IPY_MODEL_f48627035df04e3ab6f5a269c67dc6af"
          }
        },
        "f5404864f16d4eb093dcac15b97d8781": {
          "model_module": "@jupyter-widgets/controls",
          "model_name": "HTMLModel",
          "model_module_version": "1.5.0",
          "state": {
            "_dom_classes": [],
            "_model_module": "@jupyter-widgets/controls",
            "_model_module_version": "1.5.0",
            "_model_name": "HTMLModel",
            "_view_count": null,
            "_view_module": "@jupyter-widgets/controls",
            "_view_module_version": "1.5.0",
            "_view_name": "HTMLView",
            "description": "",
            "description_tooltip": null,
            "layout": "IPY_MODEL_b6e69b675fe14e98a7d8c2bc68cc9f1e",
            "placeholder": "​",
            "style": "IPY_MODEL_31bc4a6f45c44a859e370b02dade5dd2",
            "value": "merges.txt: 100%"
          }
        },
        "e027d27503944a3e909153b830e2029e": {
          "model_module": "@jupyter-widgets/controls",
          "model_name": "FloatProgressModel",
          "model_module_version": "1.5.0",
          "state": {
            "_dom_classes": [],
            "_model_module": "@jupyter-widgets/controls",
            "_model_module_version": "1.5.0",
            "_model_name": "FloatProgressModel",
            "_view_count": null,
            "_view_module": "@jupyter-widgets/controls",
            "_view_module_version": "1.5.0",
            "_view_name": "ProgressView",
            "bar_style": "success",
            "description": "",
            "description_tooltip": null,
            "layout": "IPY_MODEL_9ed741b53e234a908e6bb7527f5e8182",
            "max": 456318,
            "min": 0,
            "orientation": "horizontal",
            "style": "IPY_MODEL_3753d7bef291440d90ca18e3a00c9163",
            "value": 456318
          }
        },
        "ef39b07f70894e819d62bc9b073b85c4": {
          "model_module": "@jupyter-widgets/controls",
          "model_name": "HTMLModel",
          "model_module_version": "1.5.0",
          "state": {
            "_dom_classes": [],
            "_model_module": "@jupyter-widgets/controls",
            "_model_module_version": "1.5.0",
            "_model_name": "HTMLModel",
            "_view_count": null,
            "_view_module": "@jupyter-widgets/controls",
            "_view_module_version": "1.5.0",
            "_view_name": "HTMLView",
            "description": "",
            "description_tooltip": null,
            "layout": "IPY_MODEL_99b71ce11d5142a29658ff8cf2e66773",
            "placeholder": "​",
            "style": "IPY_MODEL_00d61bfca1de41cf8784951cbe56ada9",
            "value": " 456k/456k [00:00&lt;00:00, 1.90MB/s]"
          }
        },
        "f48627035df04e3ab6f5a269c67dc6af": {
          "model_module": "@jupyter-widgets/base",
          "model_name": "LayoutModel",
          "model_module_version": "1.2.0",
          "state": {
            "_model_module": "@jupyter-widgets/base",
            "_model_module_version": "1.2.0",
            "_model_name": "LayoutModel",
            "_view_count": null,
            "_view_module": "@jupyter-widgets/base",
            "_view_module_version": "1.2.0",
            "_view_name": "LayoutView",
            "align_content": null,
            "align_items": null,
            "align_self": null,
            "border": null,
            "bottom": null,
            "display": null,
            "flex": null,
            "flex_flow": null,
            "grid_area": null,
            "grid_auto_columns": null,
            "grid_auto_flow": null,
            "grid_auto_rows": null,
            "grid_column": null,
            "grid_gap": null,
            "grid_row": null,
            "grid_template_areas": null,
            "grid_template_columns": null,
            "grid_template_rows": null,
            "height": null,
            "justify_content": null,
            "justify_items": null,
            "left": null,
            "margin": null,
            "max_height": null,
            "max_width": null,
            "min_height": null,
            "min_width": null,
            "object_fit": null,
            "object_position": null,
            "order": null,
            "overflow": null,
            "overflow_x": null,
            "overflow_y": null,
            "padding": null,
            "right": null,
            "top": null,
            "visibility": null,
            "width": null
          }
        },
        "b6e69b675fe14e98a7d8c2bc68cc9f1e": {
          "model_module": "@jupyter-widgets/base",
          "model_name": "LayoutModel",
          "model_module_version": "1.2.0",
          "state": {
            "_model_module": "@jupyter-widgets/base",
            "_model_module_version": "1.2.0",
            "_model_name": "LayoutModel",
            "_view_count": null,
            "_view_module": "@jupyter-widgets/base",
            "_view_module_version": "1.2.0",
            "_view_name": "LayoutView",
            "align_content": null,
            "align_items": null,
            "align_self": null,
            "border": null,
            "bottom": null,
            "display": null,
            "flex": null,
            "flex_flow": null,
            "grid_area": null,
            "grid_auto_columns": null,
            "grid_auto_flow": null,
            "grid_auto_rows": null,
            "grid_column": null,
            "grid_gap": null,
            "grid_row": null,
            "grid_template_areas": null,
            "grid_template_columns": null,
            "grid_template_rows": null,
            "height": null,
            "justify_content": null,
            "justify_items": null,
            "left": null,
            "margin": null,
            "max_height": null,
            "max_width": null,
            "min_height": null,
            "min_width": null,
            "object_fit": null,
            "object_position": null,
            "order": null,
            "overflow": null,
            "overflow_x": null,
            "overflow_y": null,
            "padding": null,
            "right": null,
            "top": null,
            "visibility": null,
            "width": null
          }
        },
        "31bc4a6f45c44a859e370b02dade5dd2": {
          "model_module": "@jupyter-widgets/controls",
          "model_name": "DescriptionStyleModel",
          "model_module_version": "1.5.0",
          "state": {
            "_model_module": "@jupyter-widgets/controls",
            "_model_module_version": "1.5.0",
            "_model_name": "DescriptionStyleModel",
            "_view_count": null,
            "_view_module": "@jupyter-widgets/base",
            "_view_module_version": "1.2.0",
            "_view_name": "StyleView",
            "description_width": ""
          }
        },
        "9ed741b53e234a908e6bb7527f5e8182": {
          "model_module": "@jupyter-widgets/base",
          "model_name": "LayoutModel",
          "model_module_version": "1.2.0",
          "state": {
            "_model_module": "@jupyter-widgets/base",
            "_model_module_version": "1.2.0",
            "_model_name": "LayoutModel",
            "_view_count": null,
            "_view_module": "@jupyter-widgets/base",
            "_view_module_version": "1.2.0",
            "_view_name": "LayoutView",
            "align_content": null,
            "align_items": null,
            "align_self": null,
            "border": null,
            "bottom": null,
            "display": null,
            "flex": null,
            "flex_flow": null,
            "grid_area": null,
            "grid_auto_columns": null,
            "grid_auto_flow": null,
            "grid_auto_rows": null,
            "grid_column": null,
            "grid_gap": null,
            "grid_row": null,
            "grid_template_areas": null,
            "grid_template_columns": null,
            "grid_template_rows": null,
            "height": null,
            "justify_content": null,
            "justify_items": null,
            "left": null,
            "margin": null,
            "max_height": null,
            "max_width": null,
            "min_height": null,
            "min_width": null,
            "object_fit": null,
            "object_position": null,
            "order": null,
            "overflow": null,
            "overflow_x": null,
            "overflow_y": null,
            "padding": null,
            "right": null,
            "top": null,
            "visibility": null,
            "width": null
          }
        },
        "3753d7bef291440d90ca18e3a00c9163": {
          "model_module": "@jupyter-widgets/controls",
          "model_name": "ProgressStyleModel",
          "model_module_version": "1.5.0",
          "state": {
            "_model_module": "@jupyter-widgets/controls",
            "_model_module_version": "1.5.0",
            "_model_name": "ProgressStyleModel",
            "_view_count": null,
            "_view_module": "@jupyter-widgets/base",
            "_view_module_version": "1.2.0",
            "_view_name": "StyleView",
            "bar_color": null,
            "description_width": ""
          }
        },
        "99b71ce11d5142a29658ff8cf2e66773": {
          "model_module": "@jupyter-widgets/base",
          "model_name": "LayoutModel",
          "model_module_version": "1.2.0",
          "state": {
            "_model_module": "@jupyter-widgets/base",
            "_model_module_version": "1.2.0",
            "_model_name": "LayoutModel",
            "_view_count": null,
            "_view_module": "@jupyter-widgets/base",
            "_view_module_version": "1.2.0",
            "_view_name": "LayoutView",
            "align_content": null,
            "align_items": null,
            "align_self": null,
            "border": null,
            "bottom": null,
            "display": null,
            "flex": null,
            "flex_flow": null,
            "grid_area": null,
            "grid_auto_columns": null,
            "grid_auto_flow": null,
            "grid_auto_rows": null,
            "grid_column": null,
            "grid_gap": null,
            "grid_row": null,
            "grid_template_areas": null,
            "grid_template_columns": null,
            "grid_template_rows": null,
            "height": null,
            "justify_content": null,
            "justify_items": null,
            "left": null,
            "margin": null,
            "max_height": null,
            "max_width": null,
            "min_height": null,
            "min_width": null,
            "object_fit": null,
            "object_position": null,
            "order": null,
            "overflow": null,
            "overflow_x": null,
            "overflow_y": null,
            "padding": null,
            "right": null,
            "top": null,
            "visibility": null,
            "width": null
          }
        },
        "00d61bfca1de41cf8784951cbe56ada9": {
          "model_module": "@jupyter-widgets/controls",
          "model_name": "DescriptionStyleModel",
          "model_module_version": "1.5.0",
          "state": {
            "_model_module": "@jupyter-widgets/controls",
            "_model_module_version": "1.5.0",
            "_model_name": "DescriptionStyleModel",
            "_view_count": null,
            "_view_module": "@jupyter-widgets/base",
            "_view_module_version": "1.2.0",
            "_view_name": "StyleView",
            "description_width": ""
          }
        },
        "3a904eb9657e42d09b722802fab8e265": {
          "model_module": "@jupyter-widgets/controls",
          "model_name": "HBoxModel",
          "model_module_version": "1.5.0",
          "state": {
            "_dom_classes": [],
            "_model_module": "@jupyter-widgets/controls",
            "_model_module_version": "1.5.0",
            "_model_name": "HBoxModel",
            "_view_count": null,
            "_view_module": "@jupyter-widgets/controls",
            "_view_module_version": "1.5.0",
            "_view_name": "HBoxView",
            "box_style": "",
            "children": [
              "IPY_MODEL_53c0d9b0500641ff9ae861f380bc9cb3",
              "IPY_MODEL_db60845f16d34c5d8f7d3f81d647c7df",
              "IPY_MODEL_470ae970fa6e4a9bbb6c5307f080a7dd"
            ],
            "layout": "IPY_MODEL_1550c358a1324ad7893396501a6e7488"
          }
        },
        "53c0d9b0500641ff9ae861f380bc9cb3": {
          "model_module": "@jupyter-widgets/controls",
          "model_name": "HTMLModel",
          "model_module_version": "1.5.0",
          "state": {
            "_dom_classes": [],
            "_model_module": "@jupyter-widgets/controls",
            "_model_module_version": "1.5.0",
            "_model_name": "HTMLModel",
            "_view_count": null,
            "_view_module": "@jupyter-widgets/controls",
            "_view_module_version": "1.5.0",
            "_view_name": "HTMLView",
            "description": "",
            "description_tooltip": null,
            "layout": "IPY_MODEL_7e082986d8204b408ee4fcdfb301d1a3",
            "placeholder": "​",
            "style": "IPY_MODEL_d79bbf436c6b47a0af2f2c4842f1ccb4",
            "value": "tokenizer.json: 100%"
          }
        },
        "db60845f16d34c5d8f7d3f81d647c7df": {
          "model_module": "@jupyter-widgets/controls",
          "model_name": "FloatProgressModel",
          "model_module_version": "1.5.0",
          "state": {
            "_dom_classes": [],
            "_model_module": "@jupyter-widgets/controls",
            "_model_module_version": "1.5.0",
            "_model_name": "FloatProgressModel",
            "_view_count": null,
            "_view_module": "@jupyter-widgets/controls",
            "_view_module_version": "1.5.0",
            "_view_name": "ProgressView",
            "bar_style": "success",
            "description": "",
            "description_tooltip": null,
            "layout": "IPY_MODEL_be0f4dc19bd94d5a8256d285982dba4e",
            "max": 1355863,
            "min": 0,
            "orientation": "horizontal",
            "style": "IPY_MODEL_ce46c9916ac240bfa2b9caefdb6d5ae7",
            "value": 1355863
          }
        },
        "470ae970fa6e4a9bbb6c5307f080a7dd": {
          "model_module": "@jupyter-widgets/controls",
          "model_name": "HTMLModel",
          "model_module_version": "1.5.0",
          "state": {
            "_dom_classes": [],
            "_model_module": "@jupyter-widgets/controls",
            "_model_module_version": "1.5.0",
            "_model_name": "HTMLModel",
            "_view_count": null,
            "_view_module": "@jupyter-widgets/controls",
            "_view_module_version": "1.5.0",
            "_view_name": "HTMLView",
            "description": "",
            "description_tooltip": null,
            "layout": "IPY_MODEL_963c426b22f94b4e9f452cff2f5bea60",
            "placeholder": "​",
            "style": "IPY_MODEL_2affbd1df31b454cac81940d3009b4af",
            "value": " 1.36M/1.36M [00:00&lt;00:00, 4.18MB/s]"
          }
        },
        "1550c358a1324ad7893396501a6e7488": {
          "model_module": "@jupyter-widgets/base",
          "model_name": "LayoutModel",
          "model_module_version": "1.2.0",
          "state": {
            "_model_module": "@jupyter-widgets/base",
            "_model_module_version": "1.2.0",
            "_model_name": "LayoutModel",
            "_view_count": null,
            "_view_module": "@jupyter-widgets/base",
            "_view_module_version": "1.2.0",
            "_view_name": "LayoutView",
            "align_content": null,
            "align_items": null,
            "align_self": null,
            "border": null,
            "bottom": null,
            "display": null,
            "flex": null,
            "flex_flow": null,
            "grid_area": null,
            "grid_auto_columns": null,
            "grid_auto_flow": null,
            "grid_auto_rows": null,
            "grid_column": null,
            "grid_gap": null,
            "grid_row": null,
            "grid_template_areas": null,
            "grid_template_columns": null,
            "grid_template_rows": null,
            "height": null,
            "justify_content": null,
            "justify_items": null,
            "left": null,
            "margin": null,
            "max_height": null,
            "max_width": null,
            "min_height": null,
            "min_width": null,
            "object_fit": null,
            "object_position": null,
            "order": null,
            "overflow": null,
            "overflow_x": null,
            "overflow_y": null,
            "padding": null,
            "right": null,
            "top": null,
            "visibility": null,
            "width": null
          }
        },
        "7e082986d8204b408ee4fcdfb301d1a3": {
          "model_module": "@jupyter-widgets/base",
          "model_name": "LayoutModel",
          "model_module_version": "1.2.0",
          "state": {
            "_model_module": "@jupyter-widgets/base",
            "_model_module_version": "1.2.0",
            "_model_name": "LayoutModel",
            "_view_count": null,
            "_view_module": "@jupyter-widgets/base",
            "_view_module_version": "1.2.0",
            "_view_name": "LayoutView",
            "align_content": null,
            "align_items": null,
            "align_self": null,
            "border": null,
            "bottom": null,
            "display": null,
            "flex": null,
            "flex_flow": null,
            "grid_area": null,
            "grid_auto_columns": null,
            "grid_auto_flow": null,
            "grid_auto_rows": null,
            "grid_column": null,
            "grid_gap": null,
            "grid_row": null,
            "grid_template_areas": null,
            "grid_template_columns": null,
            "grid_template_rows": null,
            "height": null,
            "justify_content": null,
            "justify_items": null,
            "left": null,
            "margin": null,
            "max_height": null,
            "max_width": null,
            "min_height": null,
            "min_width": null,
            "object_fit": null,
            "object_position": null,
            "order": null,
            "overflow": null,
            "overflow_x": null,
            "overflow_y": null,
            "padding": null,
            "right": null,
            "top": null,
            "visibility": null,
            "width": null
          }
        },
        "d79bbf436c6b47a0af2f2c4842f1ccb4": {
          "model_module": "@jupyter-widgets/controls",
          "model_name": "DescriptionStyleModel",
          "model_module_version": "1.5.0",
          "state": {
            "_model_module": "@jupyter-widgets/controls",
            "_model_module_version": "1.5.0",
            "_model_name": "DescriptionStyleModel",
            "_view_count": null,
            "_view_module": "@jupyter-widgets/base",
            "_view_module_version": "1.2.0",
            "_view_name": "StyleView",
            "description_width": ""
          }
        },
        "be0f4dc19bd94d5a8256d285982dba4e": {
          "model_module": "@jupyter-widgets/base",
          "model_name": "LayoutModel",
          "model_module_version": "1.2.0",
          "state": {
            "_model_module": "@jupyter-widgets/base",
            "_model_module_version": "1.2.0",
            "_model_name": "LayoutModel",
            "_view_count": null,
            "_view_module": "@jupyter-widgets/base",
            "_view_module_version": "1.2.0",
            "_view_name": "LayoutView",
            "align_content": null,
            "align_items": null,
            "align_self": null,
            "border": null,
            "bottom": null,
            "display": null,
            "flex": null,
            "flex_flow": null,
            "grid_area": null,
            "grid_auto_columns": null,
            "grid_auto_flow": null,
            "grid_auto_rows": null,
            "grid_column": null,
            "grid_gap": null,
            "grid_row": null,
            "grid_template_areas": null,
            "grid_template_columns": null,
            "grid_template_rows": null,
            "height": null,
            "justify_content": null,
            "justify_items": null,
            "left": null,
            "margin": null,
            "max_height": null,
            "max_width": null,
            "min_height": null,
            "min_width": null,
            "object_fit": null,
            "object_position": null,
            "order": null,
            "overflow": null,
            "overflow_x": null,
            "overflow_y": null,
            "padding": null,
            "right": null,
            "top": null,
            "visibility": null,
            "width": null
          }
        },
        "ce46c9916ac240bfa2b9caefdb6d5ae7": {
          "model_module": "@jupyter-widgets/controls",
          "model_name": "ProgressStyleModel",
          "model_module_version": "1.5.0",
          "state": {
            "_model_module": "@jupyter-widgets/controls",
            "_model_module_version": "1.5.0",
            "_model_name": "ProgressStyleModel",
            "_view_count": null,
            "_view_module": "@jupyter-widgets/base",
            "_view_module_version": "1.2.0",
            "_view_name": "StyleView",
            "bar_color": null,
            "description_width": ""
          }
        },
        "963c426b22f94b4e9f452cff2f5bea60": {
          "model_module": "@jupyter-widgets/base",
          "model_name": "LayoutModel",
          "model_module_version": "1.2.0",
          "state": {
            "_model_module": "@jupyter-widgets/base",
            "_model_module_version": "1.2.0",
            "_model_name": "LayoutModel",
            "_view_count": null,
            "_view_module": "@jupyter-widgets/base",
            "_view_module_version": "1.2.0",
            "_view_name": "LayoutView",
            "align_content": null,
            "align_items": null,
            "align_self": null,
            "border": null,
            "bottom": null,
            "display": null,
            "flex": null,
            "flex_flow": null,
            "grid_area": null,
            "grid_auto_columns": null,
            "grid_auto_flow": null,
            "grid_auto_rows": null,
            "grid_column": null,
            "grid_gap": null,
            "grid_row": null,
            "grid_template_areas": null,
            "grid_template_columns": null,
            "grid_template_rows": null,
            "height": null,
            "justify_content": null,
            "justify_items": null,
            "left": null,
            "margin": null,
            "max_height": null,
            "max_width": null,
            "min_height": null,
            "min_width": null,
            "object_fit": null,
            "object_position": null,
            "order": null,
            "overflow": null,
            "overflow_x": null,
            "overflow_y": null,
            "padding": null,
            "right": null,
            "top": null,
            "visibility": null,
            "width": null
          }
        },
        "2affbd1df31b454cac81940d3009b4af": {
          "model_module": "@jupyter-widgets/controls",
          "model_name": "DescriptionStyleModel",
          "model_module_version": "1.5.0",
          "state": {
            "_model_module": "@jupyter-widgets/controls",
            "_model_module_version": "1.5.0",
            "_model_name": "DescriptionStyleModel",
            "_view_count": null,
            "_view_module": "@jupyter-widgets/base",
            "_view_module_version": "1.2.0",
            "_view_name": "StyleView",
            "description_width": ""
          }
        }
      }
    }
  },
  "nbformat": 4,
  "nbformat_minor": 0
}